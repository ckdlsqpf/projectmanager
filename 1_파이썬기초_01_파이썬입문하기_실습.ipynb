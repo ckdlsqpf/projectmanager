{
  "cells": [
    {
      "cell_type": "markdown",
      "metadata": {
        "id": "view-in-github",
        "colab_type": "text"
      },
      "source": [
        "<a href=\"https://colab.research.google.com/github/ckdlsqpf/projectmanager/blob/main/1_%E1%84%91%E1%85%A1%E1%84%8B%E1%85%B5%E1%84%8A%E1%85%A5%E1%86%AB%E1%84%80%E1%85%B5%E1%84%8E%E1%85%A9_01_%E1%84%91%E1%85%A1%E1%84%8B%E1%85%B5%E1%84%8A%E1%85%A5%E1%86%AB%E1%84%8B%E1%85%B5%E1%86%B8%E1%84%86%E1%85%AE%E1%86%AB%E1%84%92%E1%85%A1%E1%84%80%E1%85%B5_%EC%8B%A4%EC%8A%B5.ipynb\" target=\"_parent\"><img src=\"https://colab.research.google.com/assets/colab-badge.svg\" alt=\"Open In Colab\"/></a>"
      ]
    },
    {
      "cell_type": "markdown",
      "id": "5b39199b",
      "metadata": {
        "id": "5b39199b"
      },
      "source": [
        "# 파이썬 기초 다지기"
      ]
    },
    {
      "cell_type": "markdown",
      "id": "3f3da3bd",
      "metadata": {
        "id": "3f3da3bd"
      },
      "source": [
        "## 1 - 파이썬 입문하기\n",
        "파이썬 소개 및 파이썬 학습환경 만들기"
      ]
    },
    {
      "cell_type": "markdown",
      "id": "0c52a67e",
      "metadata": {
        "id": "0c52a67e"
      },
      "source": [
        "----------------------------------"
      ]
    },
    {
      "cell_type": "markdown",
      "id": "b11c5643",
      "metadata": {
        "id": "b11c5643"
      },
      "source": [
        "## 1-1.파이썬 소개하기"
      ]
    },
    {
      "cell_type": "markdown",
      "id": "f865521f",
      "metadata": {
        "id": "f865521f"
      },
      "source": [
        "### #파이썬 언어의 분류\n",
        "#### 1. 실행 주체에 따른 분류\n",
        "파이썬은 **고급 언어**이다.\n",
        "\n",
        "#### 2. 실행에 따른 분류\n",
        "파이썬은 **인터프리터 언어**이다."
      ]
    },
    {
      "cell_type": "markdown",
      "id": "0060337e",
      "metadata": {
        "id": "0060337e"
      },
      "source": [
        "---------------------------"
      ]
    },
    {
      "cell_type": "markdown",
      "id": "f1d6a768",
      "metadata": {
        "id": "f1d6a768"
      },
      "source": [
        "## 1-2.파이썬 설치하기"
      ]
    },
    {
      "cell_type": "markdown",
      "id": "b7d367b2",
      "metadata": {
        "id": "b7d367b2"
      },
      "source": [
        "### #파이썬 설치 위치"
      ]
    },
    {
      "cell_type": "code",
      "execution_count": null,
      "id": "fe832924",
      "metadata": {
        "colab": {
          "base_uri": "https://localhost:8080/"
        },
        "id": "fe832924",
        "outputId": "f61f34a2-9785-4d85-eada-5b90734c87d4"
      },
      "outputs": [
        {
          "output_type": "stream",
          "name": "stdout",
          "text": [
            "/usr/bin/python3\n",
            "3.10.12 (main, Jun 11 2023, 05:26:28) [GCC 11.4.0]\n",
            "['/content', '/env/python', '/usr/lib/python310.zip', '/usr/lib/python3.10', '/usr/lib/python3.10/lib-dynload', '', '/usr/local/lib/python3.10/dist-packages', '/usr/lib/python3/dist-packages', '/usr/local/lib/python3.10/dist-packages/IPython/extensions', '/root/.ipython']\n"
          ]
        }
      ],
      "source": [
        "import sys\n",
        "\n",
        "print(sys.executable) # 파이썬 실행파일 위치\n",
        "\n",
        "print(sys.version)    # 파이썬 버전 출력하기\n",
        "\n",
        "print(sys.path) # 라이브러리 설치 위치"
      ]
    },
    {
      "cell_type": "code",
      "source": [
        "!pip list"
      ],
      "metadata": {
        "id": "b5DtZbeU-90l"
      },
      "id": "b5DtZbeU-90l",
      "execution_count": null,
      "outputs": []
    },
    {
      "cell_type": "code",
      "source": [
        "# 전체 라이브러리 확인\n",
        "!pip\n",
        "\n",
        "# 특정 라이브러리 확인\n",
        "!pip show pandas\n"
      ],
      "metadata": {
        "id": "7p7JxYIiAf8Y"
      },
      "id": "7p7JxYIiAf8Y",
      "execution_count": null,
      "outputs": []
    },
    {
      "cell_type": "code",
      "source": [
        "# 특정 라이브러리 삭제\n",
        "!pip uninstall numpy"
      ],
      "metadata": {
        "colab": {
          "base_uri": "https://localhost:8080/"
        },
        "id": "gYe4VT7cBY4z",
        "outputId": "c8007fdf-02fc-4ef9-8833-1ff7d638e6ad"
      },
      "id": "gYe4VT7cBY4z",
      "execution_count": null,
      "outputs": [
        {
          "output_type": "stream",
          "name": "stdout",
          "text": [
            "Found existing installation: numpy 1.23.5\n",
            "Uninstalling numpy-1.23.5:\n",
            "  Would remove:\n",
            "    /usr/local/bin/f2py\n",
            "    /usr/local/bin/f2py3\n",
            "    /usr/local/bin/f2py3.10\n",
            "    /usr/local/lib/python3.10/dist-packages/numpy-1.23.5.dist-info/*\n",
            "    /usr/local/lib/python3.10/dist-packages/numpy.libs/libgfortran-040039e1.so.5.0.0\n",
            "    /usr/local/lib/python3.10/dist-packages/numpy.libs/libopenblas64_p-r0-742d56dc.3.20.so\n",
            "    /usr/local/lib/python3.10/dist-packages/numpy.libs/libquadmath-96973f99.so.0.0.0\n",
            "    /usr/local/lib/python3.10/dist-packages/numpy/*\n",
            "Proceed (Y/n)? \n",
            "  Successfully uninstalled numpy-1.23.5\n"
          ]
        }
      ]
    },
    {
      "cell_type": "code",
      "source": [
        "!pip show numpy"
      ],
      "metadata": {
        "colab": {
          "base_uri": "https://localhost:8080/"
        },
        "id": "iHh0ZEEHBmMV",
        "outputId": "3c71abb4-10d5-455f-b26d-dd51147287ad"
      },
      "id": "iHh0ZEEHBmMV",
      "execution_count": null,
      "outputs": [
        {
          "output_type": "stream",
          "name": "stdout",
          "text": [
            "\u001b[33mWARNING: Package(s) not found: numpy\u001b[0m\u001b[33m\n",
            "\u001b[0m"
          ]
        }
      ]
    },
    {
      "cell_type": "code",
      "source": [
        "# 특정 라이브러리 설치\n",
        "!pip install numpy"
      ],
      "metadata": {
        "colab": {
          "base_uri": "https://localhost:8080/"
        },
        "id": "06ff3uAFBGT6",
        "outputId": "d98cdc6c-2524-41b2-8d83-ad4c89586467"
      },
      "id": "06ff3uAFBGT6",
      "execution_count": null,
      "outputs": [
        {
          "output_type": "stream",
          "name": "stdout",
          "text": [
            "Requirement already satisfied: numpy in /usr/local/lib/python3.10/dist-packages (1.25.2)\n"
          ]
        }
      ]
    },
    {
      "cell_type": "code",
      "source": [
        "!pip show numpy"
      ],
      "metadata": {
        "colab": {
          "base_uri": "https://localhost:8080/"
        },
        "id": "7lliQGNnCLtu",
        "outputId": "8b368979-73a7-4eae-9efe-74d439b3b7e3"
      },
      "id": "7lliQGNnCLtu",
      "execution_count": null,
      "outputs": [
        {
          "output_type": "stream",
          "name": "stdout",
          "text": [
            "Name: numpy\n",
            "Version: 1.25.2\n",
            "Summary: Fundamental package for array computing in Python\n",
            "Home-page: https://www.numpy.org\n",
            "Author: Travis E. Oliphant et al.\n",
            "Author-email: \n",
            "License: BSD-3-Clause\n",
            "Location: /usr/local/lib/python3.10/dist-packages\n",
            "Requires: \n",
            "Required-by: albumentations, altair, arviz, astropy, autograd, blis, bokeh, chex, cmdstanpy, contourpy, cufflinks, cvxpy, datascience, db-dtypes, dopamine-rl, ecos, flax, folium, gensim, gym, h5py, holoviews, hyperopt, imageio, imbalanced-learn, imgaug, jax, jaxlib, librosa, lightgbm, matplotlib, matplotlib-venn, missingno, mizani, ml-dtypes, mlxtend, moviepy, music21, nibabel, numba, numexpr, opencv-contrib-python, opencv-python, opencv-python-headless, opt-einsum, optax, orbax-checkpoint, osqp, pandas, pandas-gbq, patsy, plotnine, prophet, pyarrow, pycocotools, pyerfa, pymc, pytensor, python-louvain, PyWavelets, qdldl, qudida, scikit-image, scikit-learn, scipy, scs, seaborn, shapely, sklearn-pandas, soxr, spacy, statsmodels, tables, tensorboard, tensorflow, tensorflow-datasets, tensorflow-hub, tensorflow-probability, tensorstore, thinc, tifffile, torchtext, torchvision, wordcloud, xarray, xarray-einstats, xgboost, yellowbrick, yfinance\n"
          ]
        }
      ]
    },
    {
      "cell_type": "markdown",
      "id": "d4eed572",
      "metadata": {
        "id": "d4eed572"
      },
      "source": [
        "### #학습 코드 위치(현재 위치)"
      ]
    },
    {
      "cell_type": "code",
      "execution_count": null,
      "id": "6abdcb34",
      "metadata": {
        "colab": {
          "base_uri": "https://localhost:8080/"
        },
        "id": "6abdcb34",
        "outputId": "49ce9968-5ec8-46a9-aeb5-c31f9d54f9cc"
      },
      "outputs": [
        {
          "output_type": "stream",
          "name": "stdout",
          "text": [
            "/content\n"
          ]
        }
      ],
      "source": [
        "import os\n",
        "\n",
        "print( os.getcwd() ) #현재 폴더 경로"
      ]
    },
    {
      "cell_type": "markdown",
      "id": "7dababe2",
      "metadata": {
        "id": "7dababe2"
      },
      "source": [
        "-------------------------"
      ]
    },
    {
      "cell_type": "markdown",
      "id": "48f63310",
      "metadata": {
        "id": "48f63310"
      },
      "source": [
        "## 1-3.코랩 사용하기"
      ]
    },
    {
      "cell_type": "markdown",
      "id": "deba4e7b",
      "metadata": {
        "id": "deba4e7b"
      },
      "source": [
        "### #코랩 사용방법"
      ]
    },
    {
      "cell_type": "markdown",
      "id": "b8255481",
      "metadata": {
        "id": "b8255481"
      },
      "source": [
        "#### 1.제목(Heading) 작성하는 방법"
      ]
    },
    {
      "cell_type": "markdown",
      "id": "26c7d401",
      "metadata": {
        "id": "26c7d401"
      },
      "source": [
        "# 제목 - 첫 번째 큰 글씨\n",
        "## 제목 - 두 번째 큰 글씨\n",
        "### 제목 - 세 번째 큰 글씨\n",
        "#### 제목 - 네 번째 큰 글씨\n",
        "##### 제목 - 다섯 번째 큰 글씨\n",
        "설명 작성하기"
      ]
    },
    {
      "cell_type": "markdown",
      "id": "98216abf",
      "metadata": {
        "id": "98216abf"
      },
      "source": [
        "#### 2. 코드 작성하고 실행하기"
      ]
    },
    {
      "cell_type": "code",
      "execution_count": null,
      "id": "f51bbe87",
      "metadata": {
        "colab": {
          "base_uri": "https://localhost:8080/"
        },
        "id": "f51bbe87",
        "outputId": "9f44e4a6-6eb7-4224-d493-0d785f49d56e"
      },
      "outputs": [
        {
          "output_type": "execute_result",
          "data": {
            "text/plain": [
              "700"
            ]
          },
          "metadata": {},
          "execution_count": 3
        }
      ],
      "source": [
        "300 + 400"
      ]
    },
    {
      "cell_type": "code",
      "execution_count": null,
      "id": "4b147d79",
      "metadata": {
        "colab": {
          "base_uri": "https://localhost:8080/"
        },
        "id": "4b147d79",
        "outputId": "7da966fc-9c60-452c-bab5-f1ccdd3bcf5d"
      },
      "outputs": [
        {
          "output_type": "execute_result",
          "data": {
            "text/plain": [
              "900"
            ]
          },
          "metadata": {},
          "execution_count": 4
        }
      ],
      "source": [
        "300 + 400   # 화면에 결과가 출력되지 않습니다.\n",
        "500 + 400   # 주피터 노트북의 맨 마지막 행은 print()함수가 없어도 출력이 된다."
      ]
    },
    {
      "cell_type": "markdown",
      "id": "f4e4e060",
      "metadata": {
        "id": "f4e4e060"
      },
      "source": [
        "-------------------------"
      ]
    },
    {
      "cell_type": "markdown",
      "id": "f1429775",
      "metadata": {
        "id": "f1429775"
      },
      "source": [
        "## 1-4.파이썬 맛보기"
      ]
    },
    {
      "cell_type": "markdown",
      "id": "5a3a6b07",
      "metadata": {
        "id": "5a3a6b07"
      },
      "source": [
        "### #화면에 출력하는 함수 : print( )"
      ]
    },
    {
      "cell_type": "code",
      "execution_count": null,
      "id": "6cb8ede1",
      "metadata": {
        "colab": {
          "base_uri": "https://localhost:8080/"
        },
        "id": "6cb8ede1",
        "outputId": "b4e69a1b-1ac5-4f95-d530-5cd8ac182c8e"
      },
      "outputs": [
        {
          "output_type": "stream",
          "name": "stdout",
          "text": [
            "\n"
          ]
        }
      ],
      "source": [
        "print()"
      ]
    },
    {
      "cell_type": "markdown",
      "id": "ad173c5e",
      "metadata": {
        "id": "ad173c5e"
      },
      "source": [
        "### #숫자 계산하기"
      ]
    },
    {
      "cell_type": "code",
      "execution_count": null,
      "id": "fc292336",
      "metadata": {
        "colab": {
          "base_uri": "https://localhost:8080/"
        },
        "id": "fc292336",
        "outputId": "b37925ab-55c7-4632-945b-0bdf24b392ce"
      },
      "outputs": [
        {
          "output_type": "stream",
          "name": "stdout",
          "text": [
            "30\n",
            "10\n",
            "200\n",
            "2.0\n",
            "0\n",
            "1000\n"
          ]
        }
      ],
      "source": [
        "# 변수를 이용한 계산\n",
        "print(10 + 20)\n",
        "print(20 - 10)\n",
        "print(20 * 10)\n",
        "print(10 / 5)\n",
        "print(10 % 5)\n",
        "print(10**3)\n"
      ]
    },
    {
      "cell_type": "code",
      "execution_count": null,
      "id": "acfc0e9b",
      "metadata": {
        "id": "acfc0e9b"
      },
      "outputs": [],
      "source": [
        "# math 라이브러리를 이용한 수학\n",
        "import math\n",
        "\n",
        "print(    )   # 파이\n",
        "print(    )   # 최대공약수(greatest common divisor)\n",
        "print(    )   # 최소공배수(least common multiple)\n",
        "print(    )   # 팩토리얼 5x4x3x2x1"
      ]
    },
    {
      "cell_type": "markdown",
      "id": "a4c37be4",
      "metadata": {
        "id": "a4c37be4"
      },
      "source": [
        "### #문자열 출력하기\n",
        "문자열은 **작은따옴표('')** 또는 **큰따옴표(\"\")** 둘 중에 아무거나 사용 가능합니다."
      ]
    },
    {
      "cell_type": "code",
      "execution_count": null,
      "id": "2b581266",
      "metadata": {
        "id": "2b581266"
      },
      "outputs": [],
      "source": [
        "#자신의 학교/학년/반/이름 출력하기\n",
        "print(\"나는 OO중학교/O학년/O반/OOO 학생입니다.\")\n"
      ]
    },
    {
      "cell_type": "markdown",
      "id": "687fa042",
      "metadata": {
        "id": "687fa042"
      },
      "source": [
        "##### 문자열에 '*' 곱하기 기호를 사용하면 문자열을 반복한다"
      ]
    },
    {
      "cell_type": "code",
      "execution_count": null,
      "id": "7c1df6c8",
      "metadata": {
        "scrolled": false,
        "id": "7c1df6c8"
      },
      "outputs": [],
      "source": [
        "# 문자열 반복하기\n"
      ]
    },
    {
      "cell_type": "markdown",
      "id": "11668415",
      "metadata": {
        "id": "11668415"
      },
      "source": [
        "### #주석표시\n",
        "**주석** : 코드에서 실행되지는 않지만 사람이 이해할 수 있도록 설명하는 문장\n",
        "- **#** 문장 앞에 이 기호를 사용\n",
        "- **작은따옴표(''' ''')** 또는 **큰따옴표(\"\"\" \"\"\")** 를 세개 사용하는 경우는 주석표시로 사용된다."
      ]
    },
    {
      "cell_type": "code",
      "execution_count": null,
      "id": "d0b4d454",
      "metadata": {
        "id": "d0b4d454"
      },
      "outputs": [],
      "source": []
    },
    {
      "cell_type": "markdown",
      "id": "c9d7d654",
      "metadata": {
        "id": "c9d7d654"
      },
      "source": [
        "----------------------------"
      ]
    },
    {
      "cell_type": "markdown",
      "id": "96f14fe3",
      "metadata": {
        "id": "96f14fe3"
      },
      "source": [
        "## [미션] :  코랩에서 파이썬 정보 확인하기"
      ]
    },
    {
      "cell_type": "markdown",
      "id": "9781cc96",
      "metadata": {
        "id": "9781cc96"
      },
      "source": [
        "### #우리가 사용하는 파이썬 버전 확인하기"
      ]
    },
    {
      "cell_type": "code",
      "execution_count": null,
      "id": "ebdbd150",
      "metadata": {
        "id": "ebdbd150"
      },
      "outputs": [],
      "source": []
    },
    {
      "cell_type": "markdown",
      "id": "368431c0",
      "metadata": {
        "id": "368431c0"
      },
      "source": [
        "### #파이썬 실행파일 위치 확인하기"
      ]
    },
    {
      "cell_type": "code",
      "execution_count": null,
      "id": "60158dc2",
      "metadata": {
        "id": "60158dc2"
      },
      "outputs": [],
      "source": []
    },
    {
      "cell_type": "markdown",
      "id": "a446c706",
      "metadata": {
        "id": "a446c706"
      },
      "source": [
        "------------------------------------------"
      ]
    },
    {
      "cell_type": "markdown",
      "id": "416d36fc",
      "metadata": {
        "id": "416d36fc"
      },
      "source": [
        "끝"
      ]
    }
  ],
  "metadata": {
    "kernelspec": {
      "display_name": "Python 3 (ipykernel)",
      "language": "python",
      "name": "python3"
    },
    "language_info": {
      "codemirror_mode": {
        "name": "ipython",
        "version": 3
      },
      "file_extension": ".py",
      "mimetype": "text/x-python",
      "name": "python",
      "nbconvert_exporter": "python",
      "pygments_lexer": "ipython3",
      "version": "3.10.9"
    },
    "vscode": {
      "interpreter": {
        "hash": "b41e41bff03a930185ac2cbea60ce521f7c8c2f5401ceb5c30214081f77ab4f5"
      }
    },
    "colab": {
      "provenance": [],
      "include_colab_link": true
    }
  },
  "nbformat": 4,
  "nbformat_minor": 5
}