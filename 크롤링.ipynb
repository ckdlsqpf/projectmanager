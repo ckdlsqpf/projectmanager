{
  "nbformat": 4,
  "nbformat_minor": 0,
  "metadata": {
    "colab": {
      "provenance": [],
      "authorship_tag": "ABX9TyNwzx0MN/ZHkb6O7KdhNW8b",
      "include_colab_link": true
    },
    "kernelspec": {
      "name": "python3",
      "display_name": "Python 3"
    },
    "language_info": {
      "name": "python"
    }
  },
  "cells": [
    {
      "cell_type": "markdown",
      "metadata": {
        "id": "view-in-github",
        "colab_type": "text"
      },
      "source": [
        "<a href=\"https://colab.research.google.com/github/ckdlsqpf/projectmanager/blob/main/%ED%81%AC%EB%A1%A4%EB%A7%81.ipynb\" target=\"_parent\"><img src=\"https://colab.research.google.com/assets/colab-badge.svg\" alt=\"Open In Colab\"/></a>"
      ]
    },
    {
      "cell_type": "code",
      "execution_count": 1,
      "metadata": {
        "id": "vuwqqHBYYWvL",
        "colab": {
          "base_uri": "https://localhost:8080/"
        },
        "outputId": "6cad9de6-b501-4263-9733-be42aba8d622"
      },
      "outputs": [
        {
          "output_type": "stream",
          "name": "stdout",
          "text": [
            "Requirement already satisfied: selenium in /usr/local/lib/python3.10/dist-packages (4.13.0)\n",
            "Requirement already satisfied: urllib3[socks]<3,>=1.26 in /usr/local/lib/python3.10/dist-packages (from selenium) (2.0.5)\n",
            "Requirement already satisfied: trio~=0.17 in /usr/local/lib/python3.10/dist-packages (from selenium) (0.22.2)\n",
            "Requirement already satisfied: trio-websocket~=0.9 in /usr/local/lib/python3.10/dist-packages (from selenium) (0.11.1)\n",
            "Requirement already satisfied: certifi>=2021.10.8 in /usr/local/lib/python3.10/dist-packages (from selenium) (2023.7.22)\n",
            "Requirement already satisfied: attrs>=20.1.0 in /usr/local/lib/python3.10/dist-packages (from trio~=0.17->selenium) (23.1.0)\n",
            "Requirement already satisfied: sortedcontainers in /usr/local/lib/python3.10/dist-packages (from trio~=0.17->selenium) (2.4.0)\n",
            "Requirement already satisfied: idna in /usr/local/lib/python3.10/dist-packages (from trio~=0.17->selenium) (3.4)\n",
            "Requirement already satisfied: outcome in /usr/local/lib/python3.10/dist-packages (from trio~=0.17->selenium) (1.2.0)\n",
            "Requirement already satisfied: sniffio in /usr/local/lib/python3.10/dist-packages (from trio~=0.17->selenium) (1.3.0)\n",
            "Requirement already satisfied: exceptiongroup>=1.0.0rc9 in /usr/local/lib/python3.10/dist-packages (from trio~=0.17->selenium) (1.1.3)\n",
            "Requirement already satisfied: wsproto>=0.14 in /usr/local/lib/python3.10/dist-packages (from trio-websocket~=0.9->selenium) (1.2.0)\n",
            "Requirement already satisfied: pysocks!=1.5.7,<2.0,>=1.5.6 in /usr/local/lib/python3.10/dist-packages (from urllib3[socks]<3,>=1.26->selenium) (1.7.1)\n",
            "Requirement already satisfied: h11<1,>=0.9.0 in /usr/local/lib/python3.10/dist-packages (from wsproto>=0.14->trio-websocket~=0.9->selenium) (0.14.0)\n"
          ]
        }
      ],
      "source": [
        "!pip install selenium"
      ]
    },
    {
      "cell_type": "code",
      "source": [
        "!apt-get update\n",
        "!apt install chromium-chromedriver"
      ],
      "metadata": {
        "id": "Vmce_llRYxDj",
        "colab": {
          "base_uri": "https://localhost:8080/"
        },
        "outputId": "3d4bf9d1-5970-4128-d411-324d24d7687a"
      },
      "execution_count": 2,
      "outputs": [
        {
          "output_type": "stream",
          "name": "stdout",
          "text": [
            "\r0% [Working]\r            \rHit:1 https://cloud.r-project.org/bin/linux/ubuntu jammy-cran40/ InRelease\n",
            "Hit:2 https://developer.download.nvidia.com/compute/cuda/repos/ubuntu2204/x86_64  InRelease\n",
            "Hit:3 http://archive.ubuntu.com/ubuntu jammy InRelease\n",
            "Get:4 http://security.ubuntu.com/ubuntu jammy-security InRelease [110 kB]\n",
            "Get:5 http://archive.ubuntu.com/ubuntu jammy-updates InRelease [119 kB]\n",
            "Get:6 http://archive.ubuntu.com/ubuntu jammy-backports InRelease [109 kB]\n",
            "Hit:7 https://ppa.launchpadcontent.net/c2d4u.team/c2d4u4.0+/ubuntu jammy InRelease\n",
            "Hit:8 https://ppa.launchpadcontent.net/deadsnakes/ppa/ubuntu jammy InRelease\n",
            "Hit:9 https://ppa.launchpadcontent.net/graphics-drivers/ppa/ubuntu jammy InRelease\n",
            "Hit:10 https://ppa.launchpadcontent.net/ubuntugis/ppa/ubuntu jammy InRelease\n",
            "Fetched 338 kB in 3s (128 kB/s)\n",
            "Reading package lists... Done\n",
            "Reading package lists... Done\n",
            "Building dependency tree... Done\n",
            "Reading state information... Done\n",
            "chromium-chromedriver is already the newest version (1:85.0.4183.83-0ubuntu2.22.04.1).\n",
            "0 upgraded, 0 newly installed, 0 to remove and 28 not upgraded.\n"
          ]
        }
      ]
    },
    {
      "cell_type": "code",
      "source": [
        "import selenium\n",
        "from selenium.webdriver import Chrome, ChromeOptions\n",
        "from selenium.webdriver.chrome.service import Service\n",
        "\n",
        "options = ChromeOptions()\n",
        "options.binary_location = '/usr/lib/chromium-browser/chromedriver'\n",
        "options.add_argument('--headless')\n",
        "options.add_argument('--no-sandbox')\n",
        "options.add_argument('--disable-dev-shm-usage')\n",
        "options.add_argument(\"--remote-debugging-port=9222\")\n",
        "options.add_argument('--disable-features=VizDisplayCompositor')\n",
        "\n",
        "browser = Chrome(options=options)"
      ],
      "metadata": {
        "id": "wqfqHz4jciz6"
      },
      "execution_count": 8,
      "outputs": []
    },
    {
      "cell_type": "code",
      "source": [
        "browser.get('https://blog.naver.com')"
      ],
      "metadata": {
        "id": "yIb3DcFlcyk7"
      },
      "execution_count": 21,
      "outputs": []
    },
    {
      "cell_type": "code",
      "source": [
        "browser.current_url"
      ],
      "metadata": {
        "colab": {
          "base_uri": "https://localhost:8080/",
          "height": 54
        },
        "id": "_8FaWNvQcypC",
        "outputId": "8a251868-88f6-4293-e753-e3a30d747442"
      },
      "execution_count": 22,
      "outputs": [
        {
          "output_type": "execute_result",
          "data": {
            "text/plain": [
              "'https://section.blog.naver.com/BlogHome.naver?directoryNo=0&currentPage=1&groupId=0'"
            ],
            "application/vnd.google.colaboratory.intrinsic+json": {
              "type": "string"
            }
          },
          "metadata": {},
          "execution_count": 22
        }
      ]
    },
    {
      "cell_type": "code",
      "source": [
        "from selenium.webdriver.common.by import By\n",
        "elems = browser.find_elements(By.CSS_SELECTOR, 'a.link_naver')\n",
        "elems"
      ],
      "metadata": {
        "colab": {
          "base_uri": "https://localhost:8080/"
        },
        "id": "a6OdV738eEEL",
        "outputId": "94b4bf88-5029-41d2-ee72-f7a7dcf273ff"
      },
      "execution_count": 23,
      "outputs": [
        {
          "output_type": "execute_result",
          "data": {
            "text/plain": [
              "[<selenium.webdriver.remote.webelement.WebElement (session=\"db6acb3052694da6925db4e36f372080\", element=\"B5A9E65E6747F8DA3D1A7AF4B8523E54_element_193\")>]"
            ]
          },
          "metadata": {},
          "execution_count": 23
        }
      ]
    },
    {
      "cell_type": "code",
      "source": [
        "elem = elems[0]\n",
        "elem.text"
      ],
      "metadata": {
        "colab": {
          "base_uri": "https://localhost:8080/",
          "height": 36
        },
        "id": "_yCqz9WPeEHL",
        "outputId": "59972024-f85f-4639-bb1c-5c476a792e52"
      },
      "execution_count": 24,
      "outputs": [
        {
          "output_type": "execute_result",
          "data": {
            "text/plain": [
              "'NAVER'"
            ],
            "application/vnd.google.colaboratory.intrinsic+json": {
              "type": "string"
            }
          },
          "metadata": {},
          "execution_count": 24
        }
      ]
    },
    {
      "cell_type": "code",
      "source": [
        "elem.get_attribute('href')"
      ],
      "metadata": {
        "colab": {
          "base_uri": "https://localhost:8080/",
          "height": 36
        },
        "id": "Sq_4YGI6eZ3I",
        "outputId": "93c4ba9c-f8ee-4747-af10-b12c998c99eb"
      },
      "execution_count": 25,
      "outputs": [
        {
          "output_type": "execute_result",
          "data": {
            "text/plain": [
              "'http://www.naver.com/'"
            ],
            "application/vnd.google.colaboratory.intrinsic+json": {
              "type": "string"
            }
          },
          "metadata": {},
          "execution_count": 25
        }
      ]
    },
    {
      "cell_type": "code",
      "source": [
        "elem.click()"
      ],
      "metadata": {
        "id": "LM98hJu5epFm"
      },
      "execution_count": 26,
      "outputs": []
    },
    {
      "cell_type": "code",
      "source": [
        "browser.current_url"
      ],
      "metadata": {
        "colab": {
          "base_uri": "https://localhost:8080/",
          "height": 36
        },
        "id": "313qzOuXesaN",
        "outputId": "c940bd34-16e6-4438-9590-0613c253a5e8"
      },
      "execution_count": 27,
      "outputs": [
        {
          "output_type": "execute_result",
          "data": {
            "text/plain": [
              "'https://www.naver.com/'"
            ],
            "application/vnd.google.colaboratory.intrinsic+json": {
              "type": "string"
            }
          },
          "metadata": {},
          "execution_count": 27
        }
      ]
    },
    {
      "cell_type": "code",
      "source": [
        "url = 'https://section.blog.naver.com/Search/Post.naver?pageNo={}&keyword={}'\n",
        "browser.get(url.format(1, '수원여행'))"
      ],
      "metadata": {
        "id": "ktq1Q-pwjAJY"
      },
      "execution_count": 28,
      "outputs": []
    },
    {
      "cell_type": "code",
      "source": [
        "elems = browser.find_elements(By.CSS_SELECTOR, 'a.desc_inner')\n",
        "\n",
        "post_urls = []\n",
        "for elem in elems:\n",
        "    post_urls.append(elem.get_attribute('href'))\n",
        "\n",
        "post_urls"
      ],
      "metadata": {
        "colab": {
          "base_uri": "https://localhost:8080/"
        },
        "id": "m-U8FnR9jAMu",
        "outputId": "f515e943-5f66-4911-8242-6337c633ddc4"
      },
      "execution_count": 29,
      "outputs": [
        {
          "output_type": "execute_result",
          "data": {
            "text/plain": [
              "['https://blog.naver.com/onlyucake/223223442947',\n",
              " 'https://blog.naver.com/coreabis/223156317887',\n",
              " 'https://blog.naver.com/gjtndkql70/223217756986',\n",
              " 'https://blog.naver.com/saechimbeen/223214275485',\n",
              " 'https://blog.naver.com/fpdl5/223168958389',\n",
              " 'https://blog.naver.com/lio97/223121223589',\n",
              " 'https://blog.naver.com/ydl1/223092565853']"
            ]
          },
          "metadata": {},
          "execution_count": 29
        }
      ]
    },
    {
      "cell_type": "code",
      "source": [
        "import re\n",
        "post_url = post_urls[0]\n",
        "m = re.match(r'https://blog.naver.com/(\\w+)/(\\d+)', post_url)\n",
        "blog_id, log_no = m.groups()\n",
        "frame_url = f'https://blog.naver.com/PostView.naver?blogId={blog_id}&logNo={log_no}'\n",
        "\n",
        "browser.get(frame_url)\n",
        "\n",
        "browser.find_element(By.CSS_SELECTOR, 'div.se-main-container').text"
      ],
      "metadata": {
        "colab": {
          "base_uri": "https://localhost:8080/",
          "height": 339
        },
        "id": "KLn1FZwmm-aV",
        "outputId": "4952147c-d9be-4fc5-9d8f-32ab6b6b53b0"
      },
      "execution_count": 30,
      "outputs": [
        {
          "output_type": "execute_result",
          "data": {
            "text/plain": [
              "'수원여행 / 행궁 연무시장 근처 수원 숙소 / 넘버25호텔 추천\\n수원여행 / 행궁 연무시장 근처 수원 숙소 / 넘버25호텔 추천\\n내일부터 추석연휴가 시작이네요.\\n이번 연휴는 꽤 길어서 해외에 가시는 분들도 있고\\n이곳저곳 국내로 계획을 짜시는 분들도 많으실 것 같아요.\\n저도 이제 다리가 많이 호전되고 걸을만 해져서 얼마 전부터 조금씩 돌아다니고 있거든요~ㅎㅎㅎ\\n수원 행궁 여행\\n그 중 최근 수원여행 코스로 행궁 야간개장 데이트를 했는데 입장료도 성인 1,500원으로 저렴하고, 날씨도 선선한데다 조명도 넘 예뻐서 아주 즐겁게 구경을 했답니다.\\n요즘은 명절임에도 당일만 제외하고 쉬지 않고 계속 영업하는 곳들이 많아서 돌아다니기가 너무 좋잖아요.\\n심지어 이번 추석은 물론, 명절엔 궁들을 무료개방 해주기 때문에 연휴기간에 가시면 무료로 더욱 편하게 맘껏 즐길 수 있으니 지금이라도 추석 연휴 모임, 데이트 계획 못짜신 분들은 수원 행궁 여행 코스 추천드리니 계획해보세요~\\n안에 조형물들도 예쁘게 꾸며놔서 완전 포토스팟이랍니다ㅎㅎㅎ\\n그리고 멀리서 구경오신 분들은\\n당일치기가 힘드니 숙박할 곳을 알아보실텐데요.\\n제가 이번에 묵었던 깔끔하고 가성비 좋은\\n행궁 근처 수원 숙소 넘버25호텔 소개해드릴게요!\\n수원 숙소 넘버25호텔 위치\\n넘버25 수원경기대점\\n경기도 수원시 장안구 창훈로80번길 8 넘버25 경기대점\\n● 전화번호 : 0507-1490-2005\\n● 입실시간 : 오후 5시 이후\\n● 퇴실시간 : 오후 12시 이전\\n행궁입구에서 차로 약5~6분이면 도착하는\\n넘버25호텔 수원경기대점 은 대중교통을 이용해 오기에도 아주 편하답니다.\\n보훈원복지타운.보훈요양원 버스정류장에서 하차해 바로 앞에 있는 창훈교만 건너가면 돼요.\\n우린 달빛야간개장을 보고 오느라 밤9시가 넘어 도착을 했는데 건물이 버스정류장 바로 근처에 있는데다 조명도 밝고 건물도 큼직해 한 눈에 찾기가 쉬웠답니다.\\n게다가 수원숙소 바로 근처에 도보 2~3분이면 갈 수 있는 반딧불이 연무시장 , 편의점 , 식자재 마트 등이 있어서 밤 늦게 도착했음에도 잠시 들러 간단한 먹거리들을 사갖고 들어갈 수 있어 너무 좋았어요 ~\\n수원 숙소 넘버25호텔 외관\\n수원 행궁 숙소 장소인 넘버25호텔 건물 입구예요.\\n자동문을 열고 안으로 들어갔습니다.\\n침거러 옆에 주차장쪽에도 들어갈 수 있는 문이 있어요.\\n수원 숙소 넘버25 호텔 체크인\\n& 할인 & 원두커피 무료 서비스\\n수원 숙소 건물 안 통로를 따라 들어가면\\n정면에 프론트가 바로 보이는데요.\\n저는 미리 예약을 하고 방문해 빠르게 체크인을 하고\\n방키를 받았습니다.\\n앱 말고 직접 예약을 해서 방문하면\\n3,000원 적립이 가능하니 참고하시구요~\\n프론트 옆에 제빙기와 커피 자동머신이 있어서\\n원두커피를 무료로 마실 수 있는데 이거 너무 좋았어요.\\n잠도 싹 깨고 엄청 맛있더라고요 ~ ㅎㅎㅎ\\n수원 숙소 넘버25 건물은 5성급 호텔 퀄리티로\\n전체 건물 내 금연, 전객실이 리뉴얼돼 더욱 깨끗하고 쾌적하게 관리되고 있었어요.\\n건물이 총6층까지 있는데 우리는 맨 윗층인 6층 방으로 안내를 받았고, 금액은 5만원으로 굉장히 저렴했습니다.\\n엘리베이터를 타고 6층에서 내리자 길다란 복도가 이어졌는데요.\\n벽에 그림도 걸려있고, 조명과 벽지도 밝아서\\n전혀 음침하지 않고 고급스러운 느낌이 들어 너무 좋더라고요.\\n방 앞에 카드키를 대자 삑 !\\n소리가 나며 문이 열렸습니다.\\n수원 숙소 넘버25호텔 방 내부\\n문에는 비상대피안내 도면이 붙어있고 벽에는 비상랜턴, 바닥에는 간이 완강기와 소화기가 비치돼 있었구요.\\n현관 옆에는 구둣주걱 , 바닥에는 실내 슬리퍼 한 쌍이 가지런히 준비돼 있었습니다.\\n문 옆에 카드키를 꽂자 방 안에 불이 켜지고\\n에어컨이 자동으로 켜져 돌아가기 시작했어요.\\n이렇게 현관 옆은 욕실, 정면은 침실로 구성돼 있었구요.\\n창틀에 먼지 하나 없을만큼 청결한 상태였고,\\n아늑한 조명에 모던하고 심플한 인테리어로\\n2명이 묵기에 적당한 사이즈의 룸이었습니다.\\n화장실 & 욕실 인테리어 디자인도\\n타일, 세면대, 거울 등이 세련되고 예쁘더라고요.\\n수건, 두루마리 휴지도 2개씩 여유있게 비치돼 있고\\n청소 상태도 위생적으로 잘 돼 있었어요.\\n세면대와 샤워기에 따뜻한 물도 잘 나오고,\\n막힘없이 배수도 잘 됐습니다.\\n전등 컨트롤러는 침실쪽에 달려 있었어요.\\n객실 중앙에 놓인 더블침대는 새하얀 침구류로 셋팅돼 있어 더욱 깔끔하고 보기가 좋았는데요.\\n베개가 그리 높지도 낮지도 않아 편안하더라고요~\\n또 에어컨을 끄면 덥고 켜면 추운 상태였는데\\n이불 보온력이 좋아서 에어컨을 약하게 켜놓고 바람이 좀 차게 느껴질 때 이불을 살짝 덮어주면 바로 따뜻해서 너무 좋았어요.\\n정말 고급호텔에서 자는 것 같은 느낌이더라고요~\\n침대 위에 놓인 어메니티 파우치 안에는\\n샴푸, 바디워시, 트리트먼트, 비누, 빗, 면봉,\\n헤어끈, 면도기, 칫솔, 스킨, 로션 등 위생용품과\\n스킨 및 헤어케어 제품들도 골고루 준비돼 있었습니다.\\n샤워 후 비치돼있는 가운을 걸치고 나와\\n헤어드라이기로 머리를 말리고 스킨, 로션으로 피부결을 말끔히 정리해주었구요.\\n저는 별도로 준비해온 마스크팩도 꺼내서 지인과 둘이 얼굴에 붙여줬습니다 ㅎㅎㅎ\\n문 옆에는 이렇게 다용도 테이블과 넓은 의자가 있어서 편히 앉아 화장도 하고 쉴 수가 있어서 좋았어요.\\n수원 숙소 넘버25 모텔 객실 테이블 밑에는 미니 냉장고가 있었는데요.\\n열어보니 생수가 3통, 탄산수가 1통 들어있더라고요.\\n4통 다 무료 서비스라 그냥 먹으면 됩니다ㅎㅎㅎ\\n한 쪽에 전기포트와 머그잔, 가루커피도 준비돼 있어서 뜨끈한 커피도 타먹고, 가져온 먹거리들도 꺼내 야식 파티를 벌였답니다 ㅎㅎㅎ\\n하루종일 밖에서 돌아다닌 탓에 핸드폰 배터리가 거의 방전된 상태였는데요.\\n침대 옆을 보니 충전케이블이 타입별로 모두 준비돼 있더라고요. 그래서 바로 충전했어요 ㅎㅎㅎ\\n예약하신 분들은 별도 젠더 안가져오셔도 됩니다.\\n리모콘은 2개가 있는데요.\\n하나는 에어컨 강,약 조절하는데 사용했구요.\\n하나는 OTT시청할 때 사용했어요.\\n와~ 근데 여기 진짜 다양한 OTT를 볼 수 있어 너무 좋더라고요 ~~\\n티빙, 웨이브, 디즈니, 넷플릭스 다 볼 수 있습니다! ㅎㅎㅎ\\n빔프로젝터를 설치해 시청은 별도 TV모니터 없이 벽면을 스크린으로 사용하는데요.\\n불 끄고 시청하니 밝고 선명하게 잘 나오고 사이즈도 큰데다 양쪽 스피커에서 사운드도 빵빵하게 잘 나오니 너무 좋더라고요 ~ !\\n그래서 더욱 여행 온 분위기가 났어요^^\\n객실마다 에어컨과 공기청정기가 비치돼있는데\\n쌩쌩 잘 돌아가서 아주 쾌적했구요.\\n덕분에 전 새벽 3시까지 OTT 시청하다 잠들었어요 ㅎㅎㅎ\\n침대까지 너무 편안해서 몇 시간 밖에 안잤는데도 완전 꿀잠자고 있어났답니다~\\n심지어 늦잠 자고 다음 날 오전 11시반에\\n체크아웃하고 나오는데 바로 앞이 물가에\\n산책코스라 공기도 상쾌하고 머리가 맑아져서 너무 좋았어요 ~\\n수도권이라 그렇게 멀지도 않으면서\\n알뜰한 금액에 5성급 Hotel 시설을 누리고 가는 느낌이랄까요~ㅎㅎㅎ\\n완전 제대로 힐링하고 왔습니다^^\\n이제 추석 연휴 시작인데 ~\\n행궁 근처 쾌적하고 가성비 좋은 수원 숙소\\n찾으시는 분들은 리뉴얼 후 더욱 깨끗하고 시설도 좋아진\\n넘버25호텔 이용해보세요^^'"
            ],
            "application/vnd.google.colaboratory.intrinsic+json": {
              "type": "string"
            }
          },
          "metadata": {},
          "execution_count": 30
        }
      ]
    },
    {
      "cell_type": "code",
      "source": [
        "import time\n",
        "url = 'https://section.blog.naver.com/Search/Post.naver?pageNo={}&keyword={}'\n",
        "\n",
        "post_urls = []\n",
        "\n",
        "for page in range(1, 3): # 1~2페이지(3페이지 포함X)\n",
        "    browser.get(url.format(page, '유럽여행'))\n",
        "    time.sleep(3) # 3초간 대기\n",
        "    elems = browser.find_elements(By.CSS_SELECTOR, 'a.desc_inner')\n",
        "    for elem in elems:\n",
        "        post_urls.append(elem.get_attribute('href'))\n",
        "\n",
        "post_urls"
      ],
      "metadata": {
        "id": "WX_Wle_Zr4sG",
        "colab": {
          "base_uri": "https://localhost:8080/"
        },
        "outputId": "bf5f853f-9377-4c0d-bac3-5e7677777354"
      },
      "execution_count": 32,
      "outputs": [
        {
          "output_type": "execute_result",
          "data": {
            "text/plain": [
              "['https://blog.naver.com/xox_dorothy/223226527237',\n",
              " 'https://blog.naver.com/0watergirl0/223211321454',\n",
              " 'https://blog.naver.com/whtjdcks0414/223215122326',\n",
              " 'https://blog.naver.com/hoti7746/223216827690',\n",
              " 'https://blog.naver.com/annalee90/223215115371',\n",
              " 'https://blog.naver.com/syluv0207/223215443754',\n",
              " 'https://blog.naver.com/sullbee/223214783524',\n",
              " 'https://blog.naver.com/p911c4/223227389285',\n",
              " 'https://blog.naver.com/cham4lang1/223189906768',\n",
              " 'https://blog.naver.com/seojeong8024/223225350119',\n",
              " 'https://blog.naver.com/saladin324/223214527216',\n",
              " 'https://blog.naver.com/hahalupme/223208660378',\n",
              " 'https://blog.naver.com/sticky4/223219189400',\n",
              " 'https://blog.naver.com/powerofguy2/223203481713']"
            ]
          },
          "metadata": {},
          "execution_count": 32
        }
      ]
    },
    {
      "cell_type": "code",
      "source": [
        "texts = []\n",
        "for post_url in post_urls:\n",
        "    m = re.match(r'https://blog.naver.com/(\\w+)/(\\d+)', post_url)\n",
        "    blog_id, log_no = m.groups()\n",
        "    frame_url = f'https://blog.naver.com/PostView.naver?blogId={blog_id}&logNo={log_no}'\n",
        "\n",
        "    browser.get(frame_url)\n",
        "    time.sleep(3)\n",
        "    texts.append(browser.find_element(By.CSS_SELECTOR, 'div.se-main-container').text)\n",
        "\n",
        "    # browser.get(frame_url)\n",
        "    # time.sleep(3)\n",
        "    # block1 = browser.find_elements(By.CSS_SELECTOR, 'div.se-main-container')\n",
        "    # block2 = browser.find_elements(By.CSS_SELECTOR, 'div.se_component_wrap')\n",
        "    # block = block1 or block2\n",
        "    # texts.append(block[-1].text)"
      ],
      "metadata": {
        "id": "zkEcyy9Gtsie"
      },
      "execution_count": 33,
      "outputs": []
    },
    {
      "cell_type": "code",
      "source": [
        "import pandas as pd\n",
        "df = pd.DataFrame({'url': post_urls, 'text': texts})\n",
        "df.to_excel('blog.xlsx')"
      ],
      "metadata": {
        "id": "fTHbjtdPtsnc"
      },
      "execution_count": 34,
      "outputs": []
    },
    {
      "cell_type": "markdown",
      "source": [
        "### 특허 모으기\n",
        "\n",
        "http://kportal.kipris.or.kr/kportal/search/search_patent.do\n",
        "에 가서 원하는 검색어로 검색"
      ],
      "metadata": {
        "id": "zbE7-J8i90ga"
      }
    },
    {
      "cell_type": "code",
      "source": [
        "from selenium.webdriver.common.by import By"
      ],
      "metadata": {
        "id": "rpfbuiGV99cS"
      },
      "execution_count": 37,
      "outputs": []
    },
    {
      "cell_type": "code",
      "source": [
        "import time\n",
        "수집된페이지 = set(['이전페이지', '1'])\n",
        "titles = []\n",
        "abstracts = []\n",
        "\n",
        "while len(수집된페이지) < 5:\n",
        "    for e in browser.find_elements(By.CSS_SELECTOR, 'h1.stitle a'):\n",
        "        titles.append(e.text)\n",
        "    for e in browser.find_elements(By.CSS_SELECTOR, 'div.search_txt'):\n",
        "        abstracts.append(e.text)\n",
        "    pagers = browser.find_elements(By.CSS_SELECTOR, 'div.board_pager a')\n",
        "    for pager in pagers:\n",
        "        if pager.text not in 수집된페이지:\n",
        "            수집된페이지.add(pager.text)\n",
        "            pager.click()\n",
        "            time.sleep(3)\n",
        "            break\n",
        "    else:\n",
        "        break"
      ],
      "metadata": {
        "id": "ybDXO1GH9vtt"
      },
      "execution_count": 38,
      "outputs": []
    },
    {
      "cell_type": "code",
      "source": [
        "import pandas as pd\n",
        "df = pd.DataFrame({'title': titles, 'abstract': abstracts})\n",
        "df.to_excel('patent.xlsx')"
      ],
      "metadata": {
        "id": "WTwtW-bV9x_v"
      },
      "execution_count": 39,
      "outputs": []
    }
  ]
}