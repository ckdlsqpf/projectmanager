{
  "cells": [
    {
      "cell_type": "markdown",
      "metadata": {
        "id": "view-in-github",
        "colab_type": "text"
      },
      "source": [
        "<a href=\"https://colab.research.google.com/github/ckdlsqpf/projectmanager/blob/main/1_%E1%84%91%E1%85%A1%E1%84%8B%E1%85%B5%E1%84%8A%E1%85%A5%E1%86%AB%E1%84%80%E1%85%B5%E1%84%8E%E1%85%A9_02_%E1%84%8C%E1%85%A1%E1%84%85%E1%85%AD%E1%84%92%E1%85%A7%E1%86%BC%E1%84%80%E1%85%AA%E1%84%83%E1%85%A6%E1%84%8B%E1%85%B5%E1%84%90%E1%85%A5%E1%84%91%E1%85%AD%E1%84%92%E1%85%A7%E1%86%AB_%EC%8B%A4%EC%8A%B5.ipynb\" target=\"_parent\"><img src=\"https://colab.research.google.com/assets/colab-badge.svg\" alt=\"Open In Colab\"/></a>"
      ]
    },
    {
      "cell_type": "markdown",
      "id": "8daf7079",
      "metadata": {
        "id": "8daf7079"
      },
      "source": [
        "# 파이썬 기초 다지기"
      ]
    },
    {
      "cell_type": "markdown",
      "id": "3f3da3bd",
      "metadata": {
        "id": "3f3da3bd"
      },
      "source": [
        "## 2 - 파이썬 자료형과 데이터 표현\n",
        "파이썬의 다양한 데이터 타입과 다양한 연산자, 문자열"
      ]
    },
    {
      "cell_type": "markdown",
      "id": "0c52a67e",
      "metadata": {
        "id": "0c52a67e"
      },
      "source": [
        "----------------------------------"
      ]
    },
    {
      "cell_type": "markdown",
      "id": "1ff36611",
      "metadata": {
        "id": "1ff36611"
      },
      "source": [
        "## 2-1.파이썬 자료형(Data Type)"
      ]
    },
    {
      "cell_type": "markdown",
      "id": "278fb39c",
      "metadata": {
        "id": "278fb39c"
      },
      "source": [
        "### 수학 연산하기"
      ]
    },
    {
      "cell_type": "code",
      "execution_count": null,
      "id": "7ea3146f",
      "metadata": {
        "id": "7ea3146f"
      },
      "outputs": [],
      "source": [
        "print(10 + 20)\n",
        "print(20 - 10)\n",
        "print(20 * 10)\n",
        "print(10 / 5)\n",
        "print(10 % 5)\n",
        "print(10**3)\n",
        "\n",
        "# 변수 사용하기\n",
        "a = 10\n",
        "b = 20\n",
        "print(a + b)\n",
        "print(a - b)\n",
        "print(a * b)"
      ]
    },
    {
      "cell_type": "markdown",
      "id": "105f773c",
      "metadata": {
        "id": "105f773c"
      },
      "source": [
        "### [실습문제]\n",
        "- 문제1: 10 + 3 x 4 결과 출력\n",
        "- 문제2: 아이폰 15대를 가지고 있다. 아이폰의 가격이 130만원 일 때 총 금액은?\n",
        "- 문제3: 주어진 자연수가 홀수인지 짝수인지 판별하는 방법은?\n",
        "- 문제4: 2x2x2x5x5x5x5x3x3x3x3을 제곱형태로 나타낸 후 그 결과 출력하기"
      ]
    },
    {
      "cell_type": "code",
      "execution_count": 40,
      "id": "7a853d89",
      "metadata": {
        "colab": {
          "base_uri": "https://localhost:8080/"
        },
        "id": "7a853d89",
        "outputId": "ed2ccb51-d0cd-4ca5-d5fc-241c8200b645"
      },
      "outputs": [
        {
          "output_type": "stream",
          "name": "stdout",
          "text": [
            "10 + 3 x 4 = 22\n",
            "19500000\n",
            "1300000 x 15 = 19500000\n",
            "1300000 x 15 = 19500000\n",
            "1300000 x 15 = 19500000\n",
            "1\n",
            "19 홀수\n",
            "2x2x2x5x5x5x5x3x3x3x3= 405000\n"
          ]
        }
      ],
      "source": [
        "#1번\n",
        "print('10 + 3 x 4 =', 10 + 3*4)\n",
        "\n",
        "#2번\n",
        "iphone_price = 1300000\n",
        "num = 15\n",
        "total_price = iphone_price * num\n",
        "print(total_price)\n",
        "print('%d x %d = %d' % (iphone_price, num, total_price))\n",
        "print(f'{iphone_price} x {num} = {total_price}')\n",
        "print('{} x {} = {}'.format(iphone_price, num, total_price))\n",
        "\n",
        "\n",
        "#3번\n",
        "natural_num = 9\n",
        "print(natural_num % 2) #0이 나오면 짝수, 1이 나오면 홀수\n",
        "\n",
        "##random 사용하기\n",
        "import random\n",
        "\n",
        "number = random.randint(1,100)\n",
        "\n",
        "if number % 2 == 0:\n",
        "  print(number, '짝수')\n",
        "else:\n",
        "  print(number, '홀수')\n",
        "\n",
        "#4번\n",
        "a = 2\n",
        "b = 5\n",
        "c = 3\n",
        "print('2x2x2x5x5x5x5x3x3x3x3=', a**3 * b**4 * c**4)\n",
        "\n",
        "\n"
      ]
    },
    {
      "cell_type": "markdown",
      "id": "65487a5c",
      "metadata": {
        "id": "65487a5c"
      },
      "source": [
        "### 변수\n",
        "데이터를 저장할 수 있는 공간\n",
        "\n",
        "**변수 사용 시 주의사항**\n",
        "- 첫 글자는 영문, 혹은 _(언더바)로 시작할 것 (한글도 가능)\n",
        "- 영문자, 숫자, _(언더바)만으로 구성할 것 (공백문자 불가)\n",
        "- 대문자, 소문자 구분해서 사용할 것\n",
        "- 예약어는 피할 것"
      ]
    },
    {
      "cell_type": "code",
      "execution_count": null,
      "id": "c86ab944",
      "metadata": {
        "id": "c86ab944"
      },
      "outputs": [],
      "source": []
    },
    {
      "cell_type": "markdown",
      "id": "6b43e39d",
      "metadata": {
        "id": "6b43e39d"
      },
      "source": [
        "### 파이썬 자료형"
      ]
    },
    {
      "cell_type": "code",
      "execution_count": 41,
      "id": "bdcd0ef1",
      "metadata": {
        "colab": {
          "base_uri": "https://localhost:8080/"
        },
        "id": "bdcd0ef1",
        "outputId": "39947798-cf7f-4ecf-d338-e8105b19c2e8"
      },
      "outputs": [
        {
          "output_type": "stream",
          "name": "stdout",
          "text": [
            "데이터 123의 자료형: <class 'int'>\n",
            "데이터 123의 자료형: <class 'str'>\n",
            "데이터 [123]의 자료형: <class 'list'>\n",
            "데이터 (123,)의 자료형: <class 'tuple'>\n",
            "데이터 {'key': 123}의 자료형: <class 'dict'>\n",
            "데이터 {123}의 자료형: <class 'set'>\n",
            "데이터 True의 자료형: <class 'bool'>\n"
          ]
        }
      ],
      "source": [
        "d1 = 123\n",
        "d2 = '123'\n",
        "d3 = [123]\n",
        "d4 = (123,)\n",
        "d5 = {'key':123}\n",
        "d6 = {123}\n",
        "d7 = True\n",
        "\n",
        "print(f'데이터 {d1}의 자료형: {type(d1)}')\n",
        "print(f'데이터 {d2}의 자료형: {type(d2)}')\n",
        "print(f'데이터 {d3}의 자료형: {type(d3)}')\n",
        "print(f'데이터 {d4}의 자료형: {type(d4)}')\n",
        "print(f'데이터 {d5}의 자료형: {type(d5)}')\n",
        "print(f'데이터 {d6}의 자료형: {type(d6)}')\n",
        "print(f'데이터 {d7}의 자료형: {type(d7)}')"
      ]
    },
    {
      "cell_type": "markdown",
      "id": "7cda86df",
      "metadata": {
        "id": "7cda86df"
      },
      "source": [
        "### 표준 입력과 출력\n",
        "- 키보드로부터 입력을 받는 함수( input() )을 표준 입력함수라 한다.\n",
        "- 화면에 출력하는 함수( print() )를 표준 출력함수라 한다."
      ]
    },
    {
      "cell_type": "code",
      "execution_count": 63,
      "id": "00ff5c37",
      "metadata": {
        "colab": {
          "base_uri": "https://localhost:8080/"
        },
        "id": "00ff5c37",
        "outputId": "20818d6a-46c8-4dfd-f43a-4a09de1ba801"
      },
      "outputs": [
        {
          "output_type": "stream",
          "name": "stdout",
          "text": [
            "숫자를 입력하세요: 20\n",
            "변수 a의 값: 20, <class 'str'>, <class 'int'>\n",
            "\n",
            "숫자를 입력하세요: 20\n",
            "변수 b의 값: 20.0, <class 'float'>\n"
          ]
        }
      ],
      "source": [
        "# 표준 입력(키보드로부터 데이터를 입력 받는 것)\n",
        "a = input('숫자를 입력하세요: ')\n",
        "\n",
        "# 표준 출력\n",
        "print(f'변수 a의 값: {a}, {type(a)}, {type(int(a))}\\n')\n",
        "\n",
        "b = float(input('숫자를 입력하세요: '))\n",
        "print(f'변수 b의 값: {b}, {type(b)}')\n"
      ]
    },
    {
      "cell_type": "markdown",
      "id": "18bc822a",
      "metadata": {
        "id": "18bc822a"
      },
      "source": [
        "#### 문자열 데이터를 숫자(정수)로 변환하기"
      ]
    },
    {
      "cell_type": "code",
      "execution_count": null,
      "id": "aaf9890f",
      "metadata": {
        "id": "aaf9890f"
      },
      "outputs": [],
      "source": [
        "# 문자열 데이터를 숫자(정수)로 변환하기\n",
        "\n"
      ]
    },
    {
      "cell_type": "markdown",
      "id": "c0436ecb",
      "metadata": {
        "id": "c0436ecb"
      },
      "source": [
        "#### 다양한 변수 출력 방법"
      ]
    },
    {
      "cell_type": "code",
      "execution_count": null,
      "id": "7d2e160d",
      "metadata": {
        "scrolled": true,
        "id": "7d2e160d"
      },
      "outputs": [],
      "source": [
        "\n",
        "\n"
      ]
    },
    {
      "cell_type": "markdown",
      "id": "7ea5c22e",
      "metadata": {
        "id": "7ea5c22e"
      },
      "source": [
        "### [실습문제] : 계산기 프로그램 만들기\n",
        "정수 2개를 키보드로 각각 입력 받아 아래와 같이 덧셈, 뺄셈, 곱셈, 몫, 나머지를\n",
        "\n",
        "\n",
        "출력하는 프로그램을 만들어 보세요.\n"
      ]
    },
    {
      "cell_type": "code",
      "execution_count": null,
      "id": "fa128ef7",
      "metadata": {
        "id": "fa128ef7"
      },
      "outputs": [],
      "source": [
        "num1 = int( input('첫 번째 숫자: ') )\n",
        "num2 = int( input('두 번째 숫자: ') )\n",
        "print('-' * 50)\n",
        "print('덧셈: %d + %d = %d' % (num1, num2, num1 + num2))\n",
        "print('뺄셈: %d - %d = %d' % (num1, num2, num1 - num2))\n",
        "print('나눗셈: %d / %d = %f' % (num1, num2, num1 / num2))\n",
        "print('곱셈: %d * %d = %d' % (num1, num2, num1 * num2))"
      ]
    },
    {
      "cell_type": "markdown",
      "id": "ca1816b6",
      "metadata": {
        "id": "ca1816b6"
      },
      "source": [
        "- f'string' 함수를 이용해 출력하기"
      ]
    },
    {
      "cell_type": "code",
      "execution_count": null,
      "id": "8b486e15",
      "metadata": {
        "id": "8b486e15"
      },
      "outputs": [],
      "source": [
        "print(f'덧셈: {num1} + {num2} = {num1 + num2}')\n",
        "print(f'뺄셈: {num1} - {num2} = {num1 - num2}')\n",
        "print(f'나눗셈: {num1} / {num2} = {num1 / num2:.2f}') #:2f는 소숫점 자리 지정\n",
        "print(f'곱셈: {num1} * {num2} = {num1 * num2}')"
      ]
    },
    {
      "cell_type": "markdown",
      "id": "157b41ef",
      "metadata": {
        "id": "157b41ef"
      },
      "source": [
        "### [실습문제] : 시간 계산 프로그램\n",
        "속력과 거리를 입력 받아 시간을 계산하여 출력하는 프로그램을 만드세요!\n",
        "- 시간 = 거리 / 속력"
      ]
    },
    {
      "cell_type": "code",
      "execution_count": 129,
      "id": "93102e01",
      "metadata": {
        "colab": {
          "base_uri": "https://localhost:8080/"
        },
        "id": "93102e01",
        "outputId": "8e1bb484-b29a-4652-c1b4-bc164d65ec44"
      },
      "outputs": [
        {
          "output_type": "stream",
          "name": "stdout",
          "text": [
            "속력를 입력해 주세요(km/h) : 38\n",
            "거리를 입력해 주세요(km) : 45\n",
            "--------------------------------------------------\n",
            "속력 : 38.0 km/h\n",
            "거리 : 45.0 km\n",
            "시간 : 1.1842105263157894 h\n",
            "속력: 38.0 km/h\n",
            "거리: 45.0 km\n",
            "시간: 1.2 h\n"
          ]
        }
      ],
      "source": [
        "velocity = float(input('속력를 입력해 주세요(km/h) : '))\n",
        "distance = float(input('거리를 입력해 주세요(km) : '))\n",
        "\n",
        "print('-' * 50)\n",
        "print(f'속력 : {velocity} km/h')\n",
        "print(f'거리 : {distance} km')\n",
        "print(f'시간 : {distance / velocity} h')\n",
        "\n",
        "print('속력: %.1f km/h' % velocity)\n",
        "print('거리: %.1f km' % distance)\n",
        "print('시간: %.1f h' % (distance / velocity))\n",
        "\n"
      ]
    },
    {
      "cell_type": "markdown",
      "id": "89f48168",
      "metadata": {
        "id": "89f48168"
      },
      "source": [
        "- eval()함수 사용하여 문자열을 계산할 수 있다"
      ]
    },
    {
      "cell_type": "code",
      "execution_count": 99,
      "id": "39dab77c",
      "metadata": {
        "colab": {
          "base_uri": "https://localhost:8080/"
        },
        "id": "39dab77c",
        "outputId": "9b9ad141-23eb-46cc-ebe7-cdce2bfaef2e"
      },
      "outputs": [
        {
          "output_type": "execute_result",
          "data": {
            "text/plain": [
              "12"
            ]
          },
          "metadata": {},
          "execution_count": 99
        }
      ],
      "source": [
        "# eval()함수 사용\n",
        "eval('10+2')\n",
        "\n"
      ]
    },
    {
      "cell_type": "markdown",
      "id": "85b8c542",
      "metadata": {
        "id": "85b8c542"
      },
      "source": [
        "### 내장 수학 함수\n",
        "- 파이썬 내장 함수 https://docs.python.org/ko/3.10/library/functions.html"
      ]
    },
    {
      "cell_type": "code",
      "execution_count": 120,
      "id": "2bfba8be",
      "metadata": {
        "scrolled": true,
        "colab": {
          "base_uri": "https://localhost:8080/"
        },
        "id": "2bfba8be",
        "outputId": "39b1da60-d507-4e6b-b329-d82e50762602"
      },
      "outputs": [
        {
          "output_type": "stream",
          "name": "stdout",
          "text": [
            "원주율: 3.141592653589793\n",
            "절대값: 3.34\n",
            "반올림: 3\n",
            "올림  : 4\n",
            "내림  : 3\n",
            "제곱  : 16.0\n",
            "제곱근: 2.0\n",
            "로그  : 2.995732273553991\n"
          ]
        }
      ],
      "source": [
        "import math\n",
        "a= 3.34\n",
        "\n",
        "print(f'원주율: {math.pi}')\n",
        "print(f'절대값: {abs(a)}')\n",
        "print(f'반올림: {round(a) }')\n",
        "print(f'올림  : {math.ceil(a)}')\n",
        "print(f'내림  : {math.floor(a)}')\n",
        "print(f'제곱  : {math.pow(4,2)}')\n",
        "print(f'제곱근: {math.sqrt(4)}')\n",
        "print(f'로그  : {math.log(20)}')"
      ]
    },
    {
      "cell_type": "markdown",
      "id": "c8147e87",
      "metadata": {
        "id": "c8147e87"
      },
      "source": [
        "### [실습문제]: 수학 함수 사용하여 계산하기\n",
        "- 문제1: 반지름이 4인 원의 넓이 출력\n",
        "- 문제2: 3.14 곱하가 2 나누기 7의 값을 반올림하여 계산 결과 출력\n",
        "- 문제3: 원주율을 3.14로 만들어서 반지름이 4인 원의 둘레의 길이 출력"
      ]
    },
    {
      "cell_type": "code",
      "execution_count": 138,
      "id": "45ed86c9",
      "metadata": {
        "colab": {
          "base_uri": "https://localhost:8080/"
        },
        "id": "45ed86c9",
        "outputId": "101fb326-01ee-4c9c-a15c-286a4d34acac"
      },
      "outputs": [
        {
          "output_type": "stream",
          "name": "stdout",
          "text": [
            "원의 넓이: 50.26548245743669\n",
            "1\n",
            "원의 둘레: 25.12\n"
          ]
        }
      ],
      "source": [
        "r = 4\n",
        "print(f'원의 넓이: {math.pi * r**2}')\n",
        "print(f'{round(3.14 * 2 / 7)}')\n",
        "print(f'원의 둘레: {2 * round(math.pi,2) * r}')"
      ]
    },
    {
      "cell_type": "code",
      "source": [
        "print('hello\\n') #새로운 줄\n",
        "print('\\thello') #tab 만큼 띄어쓰기\n",
        "print('he\\bllo')"
      ],
      "metadata": {
        "colab": {
          "base_uri": "https://localhost:8080/"
        },
        "id": "WD2Mxaq8jdrq",
        "outputId": "c81b75a6-4a33-40e0-bca3-77e8c9441b31"
      },
      "id": "WD2Mxaq8jdrq",
      "execution_count": 143,
      "outputs": [
        {
          "output_type": "stream",
          "name": "stdout",
          "text": [
            "hello\n",
            "\n",
            "\thello\n",
            "he\bllo\n"
          ]
        }
      ]
    },
    {
      "cell_type": "code",
      "source": [
        "a = input('정수를 입력하세요: ')\n",
        "b = int(a)\n",
        "print(f'{a} + {a*2} + {a*3} = {b*(1 + 11 + 111)}')\n",
        "\n",
        "result = f'{a} + {a*2} + {a*3}'\n",
        "print(f'{a} + {a*2} + {a*3} = {eval(result)}')\n",
        "# 또는\n",
        "print(f'{a} + {a*2} + {a*3} = {int(a) + int(a+a) + int(a+a+a)}')"
      ],
      "metadata": {
        "colab": {
          "base_uri": "https://localhost:8080/"
        },
        "id": "CxNnDLEqoH6P",
        "outputId": "d2e3952b-cd11-4d29-d11b-d80fbc631bc1"
      },
      "id": "CxNnDLEqoH6P",
      "execution_count": 172,
      "outputs": [
        {
          "output_type": "stream",
          "name": "stdout",
          "text": [
            "정수를 입력하세요: 7\n",
            "7 + 77 + 777 = 861\n",
            "7 + 77 + 777 = 861\n",
            "7 + 77 + 777 = 861\n"
          ]
        }
      ]
    },
    {
      "cell_type": "markdown",
      "id": "32f4b4ce",
      "metadata": {
        "id": "32f4b4ce"
      },
      "source": [
        "---------------------------"
      ]
    },
    {
      "cell_type": "markdown",
      "id": "12be6789",
      "metadata": {
        "id": "12be6789"
      },
      "source": [
        "## 2-2.문자와 문자열"
      ]
    },
    {
      "cell_type": "markdown",
      "id": "90255097",
      "metadata": {
        "id": "90255097"
      },
      "source": [
        "#### 문자와 문자열 변환"
      ]
    },
    {
      "cell_type": "code",
      "execution_count": 2,
      "id": "a52f17d8",
      "metadata": {
        "colab": {
          "base_uri": "https://localhost:8080/"
        },
        "id": "a52f17d8",
        "outputId": "41c6ddc8-1a5b-4497-bdff-ae5891c86ff9"
      },
      "outputs": [
        {
          "output_type": "stream",
          "name": "stdout",
          "text": [
            "65\n",
            "97\n",
            "33\n",
            "44032\n"
          ]
        }
      ],
      "source": [
        "# 문자 --> 숫자(정수) 로 변환 : ord() 함수 사용\n",
        "print( ord('A') )\n",
        "print( ord('a') )\n",
        "print( ord('!') )\n",
        "print( ord('가') )"
      ]
    },
    {
      "cell_type": "code",
      "execution_count": 3,
      "id": "88bbb733",
      "metadata": {
        "colab": {
          "base_uri": "https://localhost:8080/"
        },
        "id": "88bbb733",
        "outputId": "fe03f3fb-f7c7-49a1-8589-b85b7740092a"
      },
      "outputs": [
        {
          "output_type": "stream",
          "name": "stdout",
          "text": [
            "A\n",
            "B\n",
            "a\n",
            "b\n",
            "가\n",
            "각\n"
          ]
        }
      ],
      "source": [
        "# 숫자(정수) --> 문자 로 변환 : chr() 함수 사용\n",
        "print( chr(65) )\n",
        "print( chr(66) )\n",
        "print( chr(97) )\n",
        "print( chr(98) )\n",
        "print( chr(44032) )\n",
        "print( chr(44033) )"
      ]
    },
    {
      "cell_type": "code",
      "execution_count": 13,
      "id": "1cbfb609",
      "metadata": {
        "colab": {
          "base_uri": "https://localhost:8080/"
        },
        "id": "1cbfb609",
        "outputId": "48c684d6-606a-45fa-af61-11b1549e1c93"
      },
      "outputs": [
        {
          "output_type": "stream",
          "name": "stdout",
          "text": [
            "0b1101001100001100 0b1100011101110100 0b1100001101101100 "
          ]
        }
      ],
      "source": [
        "# 문자 --> 숫자 --> 이진수 로 변환\n",
        "for c in '파이썬':\n",
        "    숫자변환 = ord(c)              # unicode\n",
        "    이진수변환 = bin(숫자변환)     # 16진수 binarycode\n",
        "    print(이진수변환, end=' ')  # 한 줄로 표현하기"
      ]
    },
    {
      "cell_type": "code",
      "execution_count": 14,
      "id": "d9577a3f",
      "metadata": {
        "colab": {
          "base_uri": "https://localhost:8080/"
        },
        "id": "d9577a3f",
        "outputId": "15d1a4f7-7f16-422a-fa2f-baedf3a4a4d9"
      },
      "outputs": [
        {
          "output_type": "stream",
          "name": "stdout",
          "text": [
            "1101001100001100 1100011101110100 1100001101101100 "
          ]
        }
      ],
      "source": [
        "for c in '파이썬':\n",
        "    # 이진수에서 앞'0b'를 없애기 위해 format() 함수 사용할 수 있다.\n",
        "    print( format(ord(c), 'b'), end = ' ')  # 한 줄로 표현하기"
      ]
    },
    {
      "cell_type": "markdown",
      "id": "c87a0c03",
      "metadata": {
        "id": "c87a0c03"
      },
      "source": [
        "### 문자열 따옴표로 지정"
      ]
    },
    {
      "cell_type": "markdown",
      "id": "e343167b",
      "metadata": {
        "id": "e343167b"
      },
      "source": [
        "#### 큰 따옴표  or 작은 따옴표로 지정한다"
      ]
    },
    {
      "cell_type": "code",
      "execution_count": 15,
      "id": "fae54804",
      "metadata": {
        "colab": {
          "base_uri": "https://localhost:8080/"
        },
        "id": "fae54804",
        "outputId": "be11c450-2c6d-403f-a50e-216e82d75906"
      },
      "outputs": [
        {
          "output_type": "stream",
          "name": "stdout",
          "text": [
            "Hello\n",
            "Hello\n",
            "Hello 'world\n",
            "Hello \"world\n",
            " \"Yes, I can!\" \n"
          ]
        }
      ],
      "source": [
        "print('Hello')\n",
        "print(\"Hello\")\n",
        "print(\"Hello 'world\")\n",
        "print('Hello \"world')\n",
        "print(' \"Yes, I can!\" ')"
      ]
    },
    {
      "cell_type": "markdown",
      "id": "66f9d31e",
      "metadata": {
        "id": "66f9d31e"
      },
      "source": [
        "#### 따옴표 세 개 사용 : 여러 줄로 표현할 때"
      ]
    },
    {
      "cell_type": "code",
      "execution_count": 18,
      "id": "48fe4ca0",
      "metadata": {
        "colab": {
          "base_uri": "https://localhost:8080/"
        },
        "id": "48fe4ca0",
        "outputId": "9852d85c-c825-4f0a-c933-7614d0e7c2ac"
      },
      "outputs": [
        {
          "output_type": "stream",
          "name": "stdout",
          "text": [
            "박씨가 소리질렀다.\n",
            "도둑이야!\n"
          ]
        }
      ],
      "source": [
        "a = '''박씨가 소리질렀다.\n",
        "도둑이야!'''\n",
        "print(a)"
      ]
    },
    {
      "cell_type": "code",
      "execution_count": 19,
      "id": "b32c2a51",
      "metadata": {
        "scrolled": true,
        "colab": {
          "base_uri": "https://localhost:8080/"
        },
        "id": "b32c2a51",
        "outputId": "a3d44814-4f25-4e10-86c2-b2ba60d8517a"
      },
      "outputs": [
        {
          "output_type": "stream",
          "name": "stdout",
          "text": [
            "OOO카페 메뉴판\n",
            "- 아메리카노:  3000원\n",
            "- 카페라테:     4000원\n",
            "- 카페모카:     5000원\n"
          ]
        }
      ],
      "source": [
        "a = '''OOO카페 메뉴판\n",
        "- 아메리카노:  3000원\n",
        "- 카페라테:     4000원\n",
        "- 카페모카:     5000원'''\n",
        "print(a)"
      ]
    },
    {
      "cell_type": "markdown",
      "id": "fb8a7c56",
      "metadata": {
        "id": "fb8a7c56"
      },
      "source": [
        "### [실습] 주문받아 출력하기"
      ]
    },
    {
      "cell_type": "code",
      "execution_count": 22,
      "id": "3a4d57f5",
      "metadata": {
        "colab": {
          "base_uri": "https://localhost:8080/"
        },
        "id": "3a4d57f5",
        "outputId": "a3102ae8-29f5-4bda-c97d-70f6e80bbbe2"
      },
      "outputs": [
        {
          "output_type": "stream",
          "name": "stdout",
          "text": [
            "OOO카페 메뉴판\n",
            "- 아메리카노:  3000원\n",
            "- 카페라테:     4000원\n",
            "- 카페모카:     5000원\n"
          ]
        }
      ],
      "source": [
        "# 주문받아 출력하기\n",
        "menu = a\n",
        "print(menu)"
      ]
    },
    {
      "cell_type": "code",
      "source": [
        "print('카페주문 프로그램입니다.')\n",
        "print('-' * 50)\n",
        "print(menu)\n",
        "print('-' * 50)\n",
        "coffee = input('주문하실 음료를 입력하세요: ')\n",
        "print(f'주문하신 음료 {coffee}가 나왔습니다. 맛있게 드세요~')"
      ],
      "metadata": {
        "colab": {
          "base_uri": "https://localhost:8080/"
        },
        "id": "bK1pS38ICRk8",
        "outputId": "b947f011-9beb-4c88-9c2b-9c43e5788ef3"
      },
      "id": "bK1pS38ICRk8",
      "execution_count": 23,
      "outputs": [
        {
          "output_type": "stream",
          "name": "stdout",
          "text": [
            "카페주문 프로그램입니다.\n",
            "--------------------------------------------------\n",
            "OOO카페 메뉴판\n",
            "- 아메리카노:  3000원\n",
            "- 카페라테:     4000원\n",
            "- 카페모카:     5000원\n",
            "--------------------------------------------------\n",
            "주문하실 음료를 입력하세요: 카페모카\n",
            "주문하신 음료 카페모카가 나왔습니다. 맛있게 드세요~\n"
          ]
        }
      ]
    },
    {
      "cell_type": "markdown",
      "id": "38c40628",
      "metadata": {
        "id": "38c40628"
      },
      "source": [
        "### 문자열 연산\n",
        "- (+): 문자열 연결하기"
      ]
    },
    {
      "cell_type": "code",
      "execution_count": 30,
      "id": "6af90aaf",
      "metadata": {
        "colab": {
          "base_uri": "https://localhost:8080/"
        },
        "id": "6af90aaf",
        "outputId": "81b96683-7d05-4db1-a3bf-85b641d1c651"
      },
      "outputs": [
        {
          "output_type": "stream",
          "name": "stdout",
          "text": [
            "안녕하세요이진희님\n",
            "안녕하세요 이진희님\n",
            "14\n",
            "77\n"
          ]
        }
      ],
      "source": [
        "print('안녕하세요' + '이진희님')\n",
        "print('안녕하세요', '이진희님') #쉼표는 공백을 생성\n",
        "print(7 + 7)\n",
        "print('7' + '7')"
      ]
    },
    {
      "cell_type": "markdown",
      "id": "a27ee4d1",
      "metadata": {
        "id": "a27ee4d1"
      },
      "source": [
        "- (*) : 반복의 의미"
      ]
    },
    {
      "cell_type": "code",
      "execution_count": 36,
      "id": "229965c2",
      "metadata": {
        "colab": {
          "base_uri": "https://localhost:8080/"
        },
        "id": "229965c2",
        "outputId": "4c8e749c-78bd-42c3-d1ad-dcb2da49bbad"
      },
      "outputs": [
        {
          "output_type": "stream",
          "name": "stdout",
          "text": [
            "이진희님 이진희님 이진희님 이진희님 이진희님 \n"
          ]
        }
      ],
      "source": [
        "print('이진희님 ' * 5)"
      ]
    },
    {
      "cell_type": "markdown",
      "id": "2d2a3e0e",
      "metadata": {
        "id": "2d2a3e0e"
      },
      "source": [
        "### [실습문제] 문자열 출력하기\n",
        "- 문제1: 화면에   Mary’s cosmetics   출력\n",
        "- 문제2: 화면에  박씨가 소리질렀다. “도둑이야!”.  출력\n",
        "- 문제3: 다음 코드 실행시켜서 \\t와 \\n의 역할 확인하기 <br>\n",
        "print(\"안녕하세요.\\n오늘\\t날씨가\\t\\t좋습니다.\")    "
      ]
    },
    {
      "cell_type": "code",
      "execution_count": 46,
      "id": "36f87e66",
      "metadata": {
        "colab": {
          "base_uri": "https://localhost:8080/"
        },
        "id": "36f87e66",
        "outputId": "2a854f1a-11c0-4a31-adc2-592c0a63afd9"
      },
      "outputs": [
        {
          "output_type": "stream",
          "name": "stdout",
          "text": [
            "Mary's cosmetics\n",
            "박씨가 소리질렀다. \"도둑이야!\"\n",
            "박씨가 소리질렀다. \"도둑이야!\"\n",
            "안녕하세요.\n",
            "오늘\t날씨가\t\t좋습니다.\n"
          ]
        }
      ],
      "source": [
        "print('Mary\\'s cosmetics')\n",
        "print('박씨가 소리질렀다. \"도둑이야!\"')\n",
        "print(\"박씨가 소리질렀다. \\\"도둑이야!\\\"\")\n",
        "print(\"안녕하세요.\\n오늘\\t날씨가\\t\\t좋습니다.\")\n"
      ]
    },
    {
      "cell_type": "markdown",
      "id": "13245f26",
      "metadata": {
        "id": "13245f26"
      },
      "source": [
        "-------------------"
      ]
    },
    {
      "cell_type": "markdown",
      "id": "020d1cc5",
      "metadata": {
        "id": "020d1cc5"
      },
      "source": [
        "## 2-3.문자열 인덱싱과 슬라이싱"
      ]
    },
    {
      "cell_type": "code",
      "execution_count": 52,
      "id": "9c875a9b",
      "metadata": {
        "colab": {
          "base_uri": "https://localhost:8080/"
        },
        "id": "9c875a9b",
        "outputId": "ae4685f7-6499-4c38-e00b-8618afca782d"
      },
      "outputs": [
        {
          "output_type": "stream",
          "name": "stdout",
          "text": [
            "우리는\n",
            "우는\n",
            "우리는\n",
            "우리는 민족중흥의 역사적 사명을 띠고 이 땅에 태어났다.\n",
            "우리는 민족중흥의 역사적 사명을 띠고 이 땅에 태어났다.\n"
          ]
        }
      ],
      "source": [
        "a = '우리는 민족중흥의 역사적 사명을 띠고 이 땅에 태어났다.'\n",
        "print(a[0:3])\n",
        "print(a[0:3:2])\n",
        "print(a[0:3])\n",
        "print(a[:])\n",
        "print(a[0:])"
      ]
    },
    {
      "cell_type": "code",
      "execution_count": null,
      "id": "e50df3b3",
      "metadata": {
        "id": "e50df3b3"
      },
      "outputs": [],
      "source": [
        "fruits = 'orange'\n",
        "print( )\n"
      ]
    },
    {
      "cell_type": "code",
      "source": [
        "from importlib import find_loader\n",
        "# 자릿수\n",
        "print('%10s' % 'python')\n",
        "print('%-10s사랑해' % 'python')\n",
        "\n",
        "# 문자 갯수 세기\n",
        "a= 'hobby'\n",
        "count_b = a.count('b')\n",
        "print(count_b)\n",
        "\n",
        "# 처음 나온 위치 알려주기\n",
        "find_o = a.find('o')\n",
        "print(find_o)\n",
        "\n",
        "index_o = a.index('o')\n",
        "print(index_o)"
      ],
      "metadata": {
        "colab": {
          "base_uri": "https://localhost:8080/"
        },
        "id": "aMAYKWALJHKG",
        "outputId": "7838e2ec-5931-4b90-b6fd-027538aa498b"
      },
      "id": "aMAYKWALJHKG",
      "execution_count": 73,
      "outputs": [
        {
          "output_type": "stream",
          "name": "stdout",
          "text": [
            "    python\n",
            "python    사랑해\n",
            "2\n",
            "1\n",
            "1\n"
          ]
        }
      ]
    },
    {
      "cell_type": "code",
      "source": [
        "# 문자열 삽입\n",
        "a = ','\n",
        "print(a.join('abcd'))\n",
        "\n",
        "# 소문자를 대문자로, 대문자를 소문자로\n",
        "a = 'python'\n",
        "print(a.upper())\n",
        "b = 'PYTHON'\n",
        "print(b.lower())"
      ],
      "metadata": {
        "colab": {
          "base_uri": "https://localhost:8080/"
        },
        "id": "SdYSSYLuLmkF",
        "outputId": "281d3b2c-4d1e-4c3d-ad26-9c1a9f29bbed"
      },
      "id": "SdYSSYLuLmkF",
      "execution_count": 76,
      "outputs": [
        {
          "output_type": "stream",
          "name": "stdout",
          "text": [
            "a,b,c,d\n",
            "PYTHON\n",
            "python\n"
          ]
        }
      ]
    },
    {
      "cell_type": "code",
      "source": [
        "# 공백 지우기\n",
        "a = ' python '\n",
        "print(a.strip())\n",
        "\n",
        "# 왼쪽 공백 지우기\n",
        "print(a.lstrip())\n",
        "\n",
        "# 오른쪽 공백 지우기\n",
        "print(a.rstrip())\n",
        "\n",
        "# 문자열 바꾸기\n",
        "m = 'life is good'\n",
        "print(m.replace('life', 'food'))\n",
        "\n",
        "# 문자열 나누기\n",
        "print(m.split())"
      ],
      "metadata": {
        "colab": {
          "base_uri": "https://localhost:8080/"
        },
        "id": "2_L0ivzrMH83",
        "outputId": "6fcf3323-817a-41ad-c6de-17c4f6f1c2ee"
      },
      "id": "2_L0ivzrMH83",
      "execution_count": 87,
      "outputs": [
        {
          "output_type": "stream",
          "name": "stdout",
          "text": [
            "python\n",
            "python \n",
            " python\n",
            "food is good\n",
            "['life', 'is', 'good']\n"
          ]
        }
      ]
    },
    {
      "cell_type": "code",
      "source": [
        "# 문자열 거꾸로\n",
        "s = input('문자열을 입력하세요: ')\n",
        "print(s[::-1])"
      ],
      "metadata": {
        "colab": {
          "base_uri": "https://localhost:8080/"
        },
        "id": "eMjoqOZjMPr3",
        "outputId": "ae66ba20-de70-46d6-dc94-03374cdeb9bc"
      },
      "id": "eMjoqOZjMPr3",
      "execution_count": 88,
      "outputs": [
        {
          "output_type": "stream",
          "name": "stdout",
          "text": [
            "문자열을 입력하세요: 안녕\n",
            "녕안\n"
          ]
        }
      ]
    },
    {
      "cell_type": "code",
      "source": [
        "# [실습문제]: 파일명과 확장자 분리하기\n",
        "\n",
        "fname = input('파일을 입력하세요: ')\n",
        "fsplit = fname.split('.')\n",
        "print(f'파일명: {fsplit[0]}, 확장자: {fsplit[1]}')\n"
      ],
      "metadata": {
        "colab": {
          "base_uri": "https://localhost:8080/"
        },
        "id": "rL1eT_GsNGcT",
        "outputId": "335911c8-5ea6-4242-8dab-8327e781910f"
      },
      "id": "rL1eT_GsNGcT",
      "execution_count": 92,
      "outputs": [
        {
          "output_type": "stream",
          "name": "stdout",
          "text": [
            "파일을 입력하세요: test.py\n",
            "파일명: test, 확장자: py\n"
          ]
        }
      ]
    },
    {
      "cell_type": "markdown",
      "id": "0f48d7cf",
      "metadata": {
        "id": "0f48d7cf"
      },
      "source": [
        "## 2-4.변수 활용"
      ]
    },
    {
      "cell_type": "markdown",
      "id": "d26c5d6e",
      "metadata": {
        "id": "d26c5d6e"
      },
      "source": [
        "### [실습문제]: 지불할 음식 총 가격 계산하기\n",
        "- 음식가격:  4,450 원\n",
        "- 세금: 6.75%\n",
        "- 팁: 15%\n",
        "1. meal 변수를 선언하고 값을 4450으로 지정하세요.\n",
        "2. tax 변수를 생성하고 값으로 6.75%를 소수점 형태로 지정하세요.\n",
        "3. tip 변수를 생성하고 값으로 15%를 소수점 형태로 지정하세요.\n",
        "4. meal의 변수값에 세금을 곱해 meal 변수에 지정하세요.\n",
        "5. 음식값에 tip을 더해 total 변수에 지정하세요.\n",
        "6. total 변수 값을 출력하세요."
      ]
    },
    {
      "cell_type": "code",
      "execution_count": 100,
      "id": "933828b3",
      "metadata": {
        "colab": {
          "base_uri": "https://localhost:8080/"
        },
        "id": "933828b3",
        "outputId": "9bdb8fb1-cb52-4934-f80a-af50e680b85c"
      },
      "outputs": [
        {
          "output_type": "stream",
          "name": "stdout",
          "text": [
            "5462.93\n"
          ]
        }
      ],
      "source": [
        "meal = 4450    # 1.음식가격\n",
        "tax = 0.0675   # 2.세금\n",
        "tip = 0.15     # 3.팁\n",
        "\n",
        "meal = meal + (meal * tax)\n",
        "total = meal + (meal * tip)\n",
        "print(round(total,2))"
      ]
    },
    {
      "cell_type": "markdown",
      "id": "a4fa74c9",
      "metadata": {
        "id": "a4fa74c9"
      },
      "source": [
        "### [실습문제]: 섭씨온도를 화씨온도로 변환하기\n",
        "- 섭씨 온도 (Celsius): 1 atm에서의 물의 어는점을 0도, 끓는점을 100도로 정한 온도 체계. (°C)\n",
        "\n",
        "\n",
        "- 화씨 온도 (Fahrenheit): 물이 어는 온도는 32도, 물이 끓는 온도는 212도. 180등분. (°F)\n",
        "- 섭씨온도(℃) = (5 / 9) × (℉ - 32)  # Celsius\n",
        "- 화씨온도(℉) = (9 / 5) × ℃ + 32    # Fahrenheit"
      ]
    },
    {
      "cell_type": "code",
      "execution_count": 109,
      "id": "d65f3301",
      "metadata": {
        "scrolled": true,
        "colab": {
          "base_uri": "https://localhost:8080/"
        },
        "id": "d65f3301",
        "outputId": "4128f691-9748-4009-e4f3-c9ee652a7031"
      },
      "outputs": [
        {
          "output_type": "stream",
          "name": "stdout",
          "text": [
            "온도를 입력해 주세요(섭씨): 25\n",
            "77.0 <class 'float'> \n",
            "\n",
            "온도를 입력해 주세요(화씨): 77\n",
            "25.0 <class 'float'>\n"
          ]
        }
      ],
      "source": [
        "c_temp = input('온도를 입력해 주세요(섭씨): ')\n",
        "c_temp = int(c_temp)\n",
        "f_temp = (9 / 5) * c_temp + 32\n",
        "print(f_temp, type(f_temp), '\\n')\n",
        "\n",
        "f_temp = input('온도를 입력해 주세요(화씨): ')\n",
        "f_temp = int(f_temp)\n",
        "c_temp = (5 / 9) * (f_temp - 32)\n",
        "print(c_temp, type(c_temp))"
      ]
    },
    {
      "cell_type": "markdown",
      "id": "a57cbf87",
      "metadata": {
        "id": "a57cbf87"
      },
      "source": [
        "-------"
      ]
    },
    {
      "cell_type": "markdown",
      "id": "f0265f78",
      "metadata": {
        "id": "f0265f78"
      },
      "source": [
        "## 2-5.연산자"
      ]
    },
    {
      "cell_type": "markdown",
      "id": "bff8051d",
      "metadata": {
        "id": "bff8051d"
      },
      "source": [
        "### [실습문제]: 동전 교환 프로그램 만들기"
      ]
    },
    {
      "cell_type": "code",
      "execution_count": 119,
      "id": "105db988",
      "metadata": {
        "colab": {
          "base_uri": "https://localhost:8080/"
        },
        "id": "105db988",
        "outputId": "0e491a7c-d508-4a6d-a084-f734596cf567"
      },
      "outputs": [
        {
          "output_type": "stream",
          "name": "stdout",
          "text": [
            "---동전교환기 프로그램을 작동합니다.---\n",
            "금액을 입력하세요: 4371\n",
            "동전으로 교환하겠습니다.---------\n",
            "500원짜리 ==> 8개\n",
            "100원짜리 ==> 3개\n",
            "50원짜리 ==> 1개\n",
            "10원짜리 ==> 2개\n",
            "잔돈 ==> 1원\n"
          ]
        }
      ],
      "source": [
        "# 키보드로부터 금액 입력 받기\n",
        "print('---동전교환기 프로그램을 작동합니다.---')\n",
        "money = int( input('금액을 입력하세요: '))\n",
        "print('동전으로 교환하겠습니다.---------')\n",
        "\n",
        "print(f'500원짜리 ==> {money // 500}개')\n",
        "money %= 500\n",
        "print(f'100원짜리 ==> {money // 100}개')\n",
        "money %= 100\n",
        "print(f'50원짜리 ==> {money // 50}개')\n",
        "money %= 50\n",
        "print(f'10원짜리 ==> {money // 10}개')\n",
        "money %= 10\n",
        "print(f'잔돈 ==> {money}원')"
      ]
    },
    {
      "cell_type": "code",
      "source": [
        "coin = [500, 100, 50, 10]\n",
        "money = int( input('금액을 입력하세요: '))\n",
        "\n",
        "for i in coin:\n",
        "  print(f'{i}원짜리 ==> {money // i}개')\n",
        "  money %= i\n",
        "print(f'잔돈 ==> {money}원')"
      ],
      "metadata": {
        "colab": {
          "base_uri": "https://localhost:8080/"
        },
        "id": "XQnMDtSLaZUs",
        "outputId": "98b9b469-8644-477c-ecda-48596042a6fd"
      },
      "id": "XQnMDtSLaZUs",
      "execution_count": 120,
      "outputs": [
        {
          "output_type": "stream",
          "name": "stdout",
          "text": [
            "금액을 입력하세요: 4371\n",
            "500원짜리 ==> 8개\n",
            "100원짜리 ==> 3개\n",
            "50원짜리 ==> 1개\n",
            "10원짜리 ==> 2개\n",
            "잔돈 ==> 1원\n"
          ]
        }
      ]
    },
    {
      "cell_type": "markdown",
      "id": "d8c018ca",
      "metadata": {
        "id": "d8c018ca"
      },
      "source": [
        "## 2-6.리스트(List)\n",
        "- 리스트는 여러 개의 데이터 값을 하나의 변수에 담을 수 있는 데이터 구조\n",
        "- 리스트는 순서(인덱스)가 있고 데이터를 수정, 삭제, 추가 가능하다.\n",
        "- 대괄호로 표현되고 내부 원소는 ,(쉼표)로 구분됨"
      ]
    },
    {
      "cell_type": "markdown",
      "id": "693f2484",
      "metadata": {
        "id": "693f2484"
      },
      "source": [
        "### 리스트 생성"
      ]
    },
    {
      "cell_type": "code",
      "execution_count": 123,
      "id": "a1b79606",
      "metadata": {
        "id": "a1b79606"
      },
      "outputs": [],
      "source": [
        "a = list()\n",
        "a = []\n",
        "a = [1,2,3]\n",
        "a = ['I', 'Love', 'Python']\n",
        "b = [1,2, '사랑해요', 'Python']\n",
        "b = ['a', '1', 1, [2,3], -4]\n",
        "a = [1,2,['a','b',['사랑해', '파이썬']], 3]"
      ]
    },
    {
      "cell_type": "code",
      "execution_count": 133,
      "id": "df23f6cf",
      "metadata": {
        "colab": {
          "base_uri": "https://localhost:8080/"
        },
        "id": "df23f6cf",
        "outputId": "1f22c468-ba5b-4754-bde7-b69a4e4cd3e1"
      },
      "outputs": [
        {
          "output_type": "stream",
          "name": "stdout",
          "text": [
            "[1, 2, ['a', 'b', ['사랑해', '파이썬']], 3]\n",
            "['a', '1', 1, [2, 3], -4]\n"
          ]
        }
      ],
      "source": [
        "print(a)\n",
        "print(b)"
      ]
    },
    {
      "cell_type": "code",
      "source": [
        "# range(10) : 정수를 순차적으로 만들어주는 함수\n",
        "print(list(range(10)))"
      ],
      "metadata": {
        "colab": {
          "base_uri": "https://localhost:8080/"
        },
        "id": "v0uKSmfWgAaJ",
        "outputId": "0a66d5e2-f3ed-4ff2-e769-745a023c2224"
      },
      "id": "v0uKSmfWgAaJ",
      "execution_count": 139,
      "outputs": [
        {
          "output_type": "stream",
          "name": "stdout",
          "text": [
            "[0, 1, 2, 3, 4, 5, 6, 7, 8, 9]\n"
          ]
        }
      ]
    },
    {
      "cell_type": "code",
      "source": [
        "a = 'python'\n",
        "list(a)"
      ],
      "metadata": {
        "colab": {
          "base_uri": "https://localhost:8080/"
        },
        "id": "I5T9RLYJgs79",
        "outputId": "b6931766-5004-4e88-9230-6b127efe4c7a"
      },
      "id": "I5T9RLYJgs79",
      "execution_count": 143,
      "outputs": [
        {
          "output_type": "execute_result",
          "data": {
            "text/plain": [
              "['p', 'y', 't', 'h', 'o', 'n']"
            ]
          },
          "metadata": {},
          "execution_count": 143
        }
      ]
    },
    {
      "cell_type": "code",
      "source": [
        "article = '''간담회에 참석한 이주호 부총리 겸 교육부 장관은 시안에 대해 \"그간 현장에서 요청한 과제들이 충실히 반영됐다는 의견과, 입법 등 실행을 뒷받침할 노력이 필요하다는 의견이 있다\"며 \"추가적인 의견수렴을 통해 좀 더 완성도 높고 실효성 있는 방안을 만들겠다\"고 전했다.\n",
        "앞서 교육부는 학교에 민원대응팀을 신설하고 무분별한 아동학대 신고를 막기 위해 관련 아동학대처벌법 개정을 추진하는 것 등을 주요 내용으로 하는 교권회복·보호 종합방안 시안을 내놨다.'''\n",
        "\n",
        "result = article.split(' ')\n",
        "print(f'리스트 요소 개수: {len(result)}')\n",
        "print('\\n')\n",
        "print(article.count('에'))\n",
        "article = article.replace('에', ' ')\n",
        "print(article)"
      ],
      "metadata": {
        "colab": {
          "base_uri": "https://localhost:8080/"
        },
        "id": "OvtKuxhjiDnV",
        "outputId": "95bea509-1e42-4389-e9f3-be501692df04"
      },
      "id": "OvtKuxhjiDnV",
      "execution_count": 151,
      "outputs": [
        {
          "output_type": "stream",
          "name": "stdout",
          "text": [
            "리스트 요소 개수: 58\n",
            "\n",
            "\n",
            "4\n",
            "간담회  참석한 이주호 부총리 겸 교육부 장관은 시안  대해 \"그간 현장 서 요청한 과제들이 충실히 반영됐다는 의견과, 입법 등 실행을 뒷받침할 노력이 필요하다는 의견이 있다\"며 \"추가적인 의견수렴을 통해 좀 더 완성도 높고 실효성 있는 방안을 만들겠다\"고 전했다.\n",
            "앞서 교육부는 학교  민원대응팀을 신설하고 무분별한 아동학대 신고를 막기 위해 관련 아동학대처벌법 개정을 추진하는 것 등을 주요 내용으로 하는 교권회복·보호 종합방안 시안을 내놨다.\n"
          ]
        }
      ]
    },
    {
      "cell_type": "markdown",
      "id": "7eef7d7c",
      "metadata": {
        "id": "7eef7d7c"
      },
      "source": [
        "### 리스트 삭제"
      ]
    },
    {
      "cell_type": "code",
      "execution_count": 158,
      "id": "52a5a894",
      "metadata": {
        "colab": {
          "base_uri": "https://localhost:8080/",
          "height": 269
        },
        "id": "52a5a894",
        "outputId": "a854358f-5e55-49ad-de0b-b2a5e1909822"
      },
      "outputs": [
        {
          "output_type": "stream",
          "name": "stdout",
          "text": [
            "[1, 2, ['a', 'b', ['사랑해', '파이썬']], 3]\n"
          ]
        },
        {
          "output_type": "error",
          "ename": "NameError",
          "evalue": "ignored",
          "traceback": [
            "\u001b[0;31m---------------------------------------------------------------------------\u001b[0m",
            "\u001b[0;31mNameError\u001b[0m                                 Traceback (most recent call last)",
            "\u001b[0;32m<ipython-input-158-222e119d474d>\u001b[0m in \u001b[0;36m<cell line: 6>\u001b[0;34m()\u001b[0m\n\u001b[1;32m      4\u001b[0m \u001b[0;32mdel\u001b[0m\u001b[0;34m(\u001b[0m\u001b[0mb\u001b[0m\u001b[0;34m)\u001b[0m\u001b[0;34m\u001b[0m\u001b[0;34m\u001b[0m\u001b[0m\n\u001b[1;32m      5\u001b[0m \u001b[0mprint\u001b[0m\u001b[0;34m(\u001b[0m\u001b[0ma\u001b[0m\u001b[0;34m)\u001b[0m\u001b[0;34m\u001b[0m\u001b[0;34m\u001b[0m\u001b[0m\n\u001b[0;32m----> 6\u001b[0;31m \u001b[0mprint\u001b[0m\u001b[0;34m(\u001b[0m\u001b[0mb\u001b[0m\u001b[0;34m)\u001b[0m\u001b[0;34m\u001b[0m\u001b[0;34m\u001b[0m\u001b[0m\n\u001b[0m",
            "\u001b[0;31mNameError\u001b[0m: name 'b' is not defined"
          ]
        }
      ],
      "source": [
        "a = [1,2,['a','b',['사랑해', '파이썬']], 3]\n",
        "b = ['a', '1', 1, [2,3], -4]\n",
        "\n",
        "del(b) # 리스트 전체 삭제\n",
        "print(a)\n",
        "print(b) # 삭제되서 오류남"
      ]
    },
    {
      "cell_type": "code",
      "source": [
        "name = ['수지', '민수', '안호', '철수']\n",
        "print(name)\n",
        "\n",
        "del name[0] # 특정 요소 삭제\n",
        "print(name)\n",
        "\n",
        "name.remove('민수')\n",
        "print(name)\n",
        "\n",
        "name.pop()\n",
        "print(name)"
      ],
      "metadata": {
        "colab": {
          "base_uri": "https://localhost:8080/"
        },
        "id": "pQFBRTN9ptez",
        "outputId": "d6e0c513-8ea9-4e3e-c5f4-aab7b4facd28"
      },
      "id": "pQFBRTN9ptez",
      "execution_count": 218,
      "outputs": [
        {
          "output_type": "stream",
          "name": "stdout",
          "text": [
            "['수지', '민수', '안호', '철수']\n",
            "['민수', '안호', '철수']\n",
            "['안호', '철수']\n",
            "['안호']\n"
          ]
        }
      ]
    },
    {
      "cell_type": "markdown",
      "id": "b3ab38e4",
      "metadata": {
        "id": "b3ab38e4"
      },
      "source": [
        "### 리스트 요소에 접근"
      ]
    },
    {
      "cell_type": "code",
      "execution_count": 162,
      "id": "d36d5b62",
      "metadata": {
        "scrolled": true,
        "colab": {
          "base_uri": "https://localhost:8080/"
        },
        "id": "d36d5b62",
        "outputId": "1b8d2887-03ca-4904-a658-469c16654305"
      },
      "outputs": [
        {
          "output_type": "stream",
          "name": "stdout",
          "text": [
            "2\n",
            "['a', 'b', ['사랑해', '파이썬']]\n",
            "b\n",
            "파이썬\n"
          ]
        }
      ],
      "source": [
        "print( a[1] )\n",
        "print( a[2] )\n",
        "print( a[2][1] )\n",
        "\n",
        "# '파이썬'을 출력하려면?\n",
        "print(a[2][2][1])"
      ]
    },
    {
      "cell_type": "markdown",
      "id": "b7811d5d",
      "metadata": {
        "id": "b7811d5d"
      },
      "source": [
        "### 리스트 요소 추가 / 변경"
      ]
    },
    {
      "cell_type": "code",
      "execution_count": 243,
      "id": "010220d8",
      "metadata": {
        "colab": {
          "base_uri": "https://localhost:8080/"
        },
        "id": "010220d8",
        "outputId": "454b1bae-ace2-43e7-ff88-2b1c6b8617e7"
      },
      "outputs": [
        {
          "output_type": "stream",
          "name": "stdout",
          "text": [
            "['봄', '가을', ['초록', '핑크']]\n",
            "['봄', '가을', ['초록', '핑크'], '겨울']\n",
            "['봄', '여름', '가을', ['초록', '핑크'], '겨울']\n"
          ]
        }
      ],
      "source": [
        "colors = ['봄', '가을', ['초록','핑크']]\n",
        "print(colors)\n",
        "colors.append('겨울')     # 리스트 맨 끝에 추가\n",
        "print(colors)\n",
        "colors.insert(1, '여름')  # 리스트명.insert(인덱스위치, 값)\n",
        "print(colors)"
      ]
    },
    {
      "cell_type": "code",
      "source": [
        "# 리스트 요소 변경\n",
        "colors[1] = '주황색'\n",
        "print(colors)\n",
        "\n",
        "colors[3][0] = '진한초록'\n",
        "print(colors)"
      ],
      "metadata": {
        "colab": {
          "base_uri": "https://localhost:8080/"
        },
        "id": "0W10H3Xrl8ZE",
        "outputId": "dd211a53-c0e2-4e1a-f0ae-98fe2e454267"
      },
      "id": "0W10H3Xrl8ZE",
      "execution_count": 214,
      "outputs": [
        {
          "output_type": "stream",
          "name": "stdout",
          "text": [
            "['봄', '주황색', '가을', ['초록', '핑크'], '겨울']\n",
            "['봄', '주황색', '가을', ['진한초록', '핑크'], '겨울']\n"
          ]
        }
      ]
    },
    {
      "cell_type": "code",
      "source": [
        "colors[3:] = '노랑'\n",
        "print(colors)"
      ],
      "metadata": {
        "colab": {
          "base_uri": "https://localhost:8080/"
        },
        "id": "l83XhwWlm5Bk",
        "outputId": "850b4731-e02d-4389-84f9-41621aa8062c"
      },
      "id": "l83XhwWlm5Bk",
      "execution_count": 215,
      "outputs": [
        {
          "output_type": "stream",
          "name": "stdout",
          "text": [
            "['봄', '주황색', '가을', '노', '랑']\n"
          ]
        }
      ]
    },
    {
      "cell_type": "markdown",
      "id": "5a5820d1",
      "metadata": {
        "id": "5a5820d1"
      },
      "source": [
        "### 리스트 요소 삭제"
      ]
    },
    {
      "cell_type": "code",
      "execution_count": 216,
      "id": "e4c76b68",
      "metadata": {
        "colab": {
          "base_uri": "https://localhost:8080/"
        },
        "id": "e4c76b68",
        "outputId": "91f523c1-ff01-427a-edc8-5ced9427a1ef"
      },
      "outputs": [
        {
          "output_type": "stream",
          "name": "stdout",
          "text": [
            "['봄', '주황색', '가을', '노', '랑']\n",
            "['봄', '주황색', '가을', '노']\n",
            "['주황색', '가을', '노']\n"
          ]
        }
      ],
      "source": [
        "print(colors)\n",
        "colors.pop()     # 리스트 맨 끝 요소 삭제\n",
        "print(colors)\n",
        "colors.remove('봄')  # 리스트명.remove(값), 단 여러 개 일 경우 첫 번째만 삭제됨\n",
        "print(colors)"
      ]
    },
    {
      "cell_type": "code",
      "source": [
        "for i in range(-1,-4,-1):\n",
        "  colors.pop()\n",
        "  print(colors)"
      ],
      "metadata": {
        "colab": {
          "base_uri": "https://localhost:8080/"
        },
        "id": "LYdeC4W4oPeV",
        "outputId": "53aceda2-60cf-43c9-ed80-af7771df1d22"
      },
      "id": "LYdeC4W4oPeV",
      "execution_count": 217,
      "outputs": [
        {
          "output_type": "stream",
          "name": "stdout",
          "text": [
            "['주황색', '가을']\n",
            "['주황색']\n",
            "[]\n"
          ]
        }
      ]
    },
    {
      "cell_type": "code",
      "source": [
        "# 임의의 수 생성해서 리스트로 만들고 정렬하기\n",
        "import random\n",
        "numbers = []\n",
        "random.randint(1,100)\n",
        "\n",
        "numbers.append(random.randint(1,100))\n",
        "numbers.append(random.randint(1,100))\n",
        "numbers.append(random.randint(1,100))\n",
        "numbers.append(random.randint(1,100))\n",
        "numbers.append(random.randint(1,100))\n",
        "\n",
        "print(numbers)\n",
        "\n",
        "# 정렬하기\n",
        "numbers.sort()\n",
        "print(numbers)\n",
        "\n",
        "numbers.reverse()\n",
        "print(numbers)"
      ],
      "metadata": {
        "colab": {
          "base_uri": "https://localhost:8080/"
        },
        "id": "91XCDlSBr4Cl",
        "outputId": "41b397f6-de44-4589-976e-8eed696f0944"
      },
      "id": "91XCDlSBr4Cl",
      "execution_count": 235,
      "outputs": [
        {
          "output_type": "stream",
          "name": "stdout",
          "text": [
            "[47, 70, 57, 97, 3]\n",
            "[3, 47, 57, 70, 97]\n",
            "[97, 70, 57, 47, 3]\n"
          ]
        }
      ]
    },
    {
      "cell_type": "markdown",
      "id": "df6f6d08",
      "metadata": {
        "id": "df6f6d08"
      },
      "source": [
        "## 2-7.딕셔너리(Dictionary)\n",
        "- 딕셔너리는 쌍이 하나로 묶인 자료구조\n",
        "- 인덱스를 의미하는 ‘키(key)'와 자료의 내용인 ‘ 값(value)'을 이용하여  데이터를 관리\n",
        "- 중괄호 { }로 묶어 구성, 키(Key)와 값(Value)의 쌍으로 구성\n",
        "- 순서(sequence)가 없다"
      ]
    },
    {
      "cell_type": "markdown",
      "id": "4393e9e4",
      "metadata": {
        "id": "4393e9e4"
      },
      "source": [
        "### 딕셔너리 생성"
      ]
    },
    {
      "cell_type": "code",
      "execution_count": 258,
      "id": "da6bca38",
      "metadata": {
        "colab": {
          "base_uri": "https://localhost:8080/"
        },
        "id": "da6bca38",
        "outputId": "013d9cb8-33f4-41c0-da58-ad02401a7aff"
      },
      "outputs": [
        {
          "output_type": "stream",
          "name": "stdout",
          "text": [
            "진\n",
            "진\n",
            "{'name': '진', 'age': 29, 'email': 'jin@gggmail.com', 7: ['정국', '뷔', '지민']}\n"
          ]
        }
      ],
      "source": [
        "members = {} # 빈 딕셔너리\n",
        "members = dict() # 빈 딕셔너리\n",
        "\n",
        "members = {'name':'진', 'age':29, 'email':'jin@gggmail.com'}\n",
        "type(members)\n",
        "\n",
        "print(members['name'])\n",
        "print(members.get('name'))\n",
        "\n",
        "# 새로운 요소 추가\n",
        "members[7] = ['정국', '뷔', '지민']\n",
        "print(members)"
      ]
    },
    {
      "cell_type": "markdown",
      "id": "b5f4d763",
      "metadata": {
        "id": "b5f4d763"
      },
      "source": [
        "### 딕셔너리 키(key)와 값(value)에 접근하기"
      ]
    },
    {
      "cell_type": "code",
      "execution_count": 299,
      "id": "0697a654",
      "metadata": {
        "colab": {
          "base_uri": "https://localhost:8080/"
        },
        "id": "0697a654",
        "outputId": "ed9f8e3c-6c44-4013-eae4-7278402135c2"
      },
      "outputs": [
        {
          "output_type": "stream",
          "name": "stdout",
          "text": [
            "100\n",
            "---방법1---\n",
            "국어 => 100\n",
            "수학 => 90\n",
            "영어 => 80\n",
            "---방법2---\n",
            "국어 => 100\n",
            "수학 => 90\n",
            "영어 => 80\n"
          ]
        }
      ],
      "source": [
        "scores = {'국어': 100, '수학': 90, '영어': 80}\n",
        "\n",
        "print(scores['국어'])  # 딕셔너리는 키로 접근한다.\n",
        "\n",
        "# 방법1\n",
        "print('---방법1---')\n",
        "for key in scores:\n",
        "    print('%s => %s' % (key, scores[key]))\n",
        "\n",
        "# 방법2\n",
        "print('---방법2---')\n",
        "for key, value in scores.items():\n",
        "    print('%s => %s' % (key, value))"
      ]
    },
    {
      "cell_type": "code",
      "execution_count": 300,
      "id": "011745db",
      "metadata": {
        "colab": {
          "base_uri": "https://localhost:8080/"
        },
        "id": "011745db",
        "outputId": "37442e4d-6b88-45c7-e691-8c6708523ea9"
      },
      "outputs": [
        {
          "output_type": "stream",
          "name": "stdout",
          "text": [
            "dict_keys(['국어', '수학', '영어'])\n",
            "dict_values([100, 90, 80])\n",
            "dict_items([('국어', 100), ('수학', 90), ('영어', 80)])\n"
          ]
        }
      ],
      "source": [
        "print(scores.keys())   # 키만 추출, 리스트로 반환\n",
        "print(scores.values()) # 키만 추출, 리스트로 반환\n",
        "print(scores.items())  # (키,값)쌍 형태로 추출, 리스트로 반환"
      ]
    },
    {
      "cell_type": "markdown",
      "id": "7d76f114",
      "metadata": {
        "id": "7d76f114"
      },
      "source": [
        "### 딕셔너리에 요소 추가/수정/삭제"
      ]
    },
    {
      "cell_type": "code",
      "execution_count": 276,
      "id": "f15a3506",
      "metadata": {
        "colab": {
          "base_uri": "https://localhost:8080/"
        },
        "id": "f15a3506",
        "outputId": "c41557f1-10da-4a4c-8d92-8edc8f478573"
      },
      "outputs": [
        {
          "output_type": "stream",
          "name": "stdout",
          "text": [
            "{'국어': 100, '수학': 90, '영어': 80, 'music': 100}\n",
            "{'국어': 100, '수학': 99, '영어': 80, 'music': 100}\n",
            "{'국어': 100, '수학': 99, 'music': 100}\n"
          ]
        }
      ],
      "source": [
        "# 키로 요소 추가하기\n",
        "scores['music'] = 100\n",
        "print(scores)\n",
        "\n",
        "# 요소 값 수정하기\n",
        "scores['수학'] = 99\n",
        "print(scores)\n",
        "\n",
        "# 요소 삭제하기\n",
        "del scores['영어']\n",
        "print(scores)"
      ]
    },
    {
      "cell_type": "code",
      "source": [
        "del scores['국어'], scores['수학']\n",
        "print(scores)"
      ],
      "metadata": {
        "colab": {
          "base_uri": "https://localhost:8080/"
        },
        "id": "kGydUnXw2y1_",
        "outputId": "a50eec64-295a-4809-aca2-f6f6583e6034"
      },
      "id": "kGydUnXw2y1_",
      "execution_count": 281,
      "outputs": [
        {
          "output_type": "stream",
          "name": "stdout",
          "text": [
            "{'music': 100}\n"
          ]
        }
      ]
    },
    {
      "cell_type": "markdown",
      "id": "45e329e4",
      "metadata": {
        "id": "45e329e4"
      },
      "source": [
        "------------------------"
      ]
    },
    {
      "cell_type": "markdown",
      "source": [
        "### 튜플(Tuple)\n",
        "- 요소 추가 및 변경 불가"
      ],
      "metadata": {
        "id": "svWWjoKO7KOW"
      },
      "id": "svWWjoKO7KOW"
    },
    {
      "cell_type": "code",
      "source": [
        "a = tuple()\n",
        "a = ()\n",
        "print(type(a))"
      ],
      "metadata": {
        "colab": {
          "base_uri": "https://localhost:8080/"
        },
        "id": "asA5Qcxm7OXo",
        "outputId": "7811b72b-631f-44e4-eb7a-e2fe2cbbd77a"
      },
      "id": "asA5Qcxm7OXo",
      "execution_count": 288,
      "outputs": [
        {
          "output_type": "stream",
          "name": "stdout",
          "text": [
            "<class 'tuple'>\n"
          ]
        }
      ]
    },
    {
      "cell_type": "code",
      "source": [
        "a = (1) # 튜플에 요소 1개를 정의할 때는 반드시 , 사용. 그렇지 않으면 문자나 숫자로 인식.\n",
        "print(type(a))\n",
        "\n",
        "b = (1,)\n",
        "print(type(b))"
      ],
      "metadata": {
        "colab": {
          "base_uri": "https://localhost:8080/"
        },
        "id": "IcAVKaDe7RUe",
        "outputId": "92d16d42-687e-4e1c-fbd0-7220884ec19f"
      },
      "id": "IcAVKaDe7RUe",
      "execution_count": 294,
      "outputs": [
        {
          "output_type": "stream",
          "name": "stdout",
          "text": [
            "<class 'int'>\n",
            "<class 'tuple'>\n"
          ]
        }
      ]
    },
    {
      "cell_type": "code",
      "source": [
        "a = 1,2,3,4,5\n",
        "print(a[3])\n",
        "print(a[:3])"
      ],
      "metadata": {
        "colab": {
          "base_uri": "https://localhost:8080/"
        },
        "id": "lms4uauv7-6d",
        "outputId": "932d4b9d-5fe2-44e5-a4de-838969dcff3b"
      },
      "id": "lms4uauv7-6d",
      "execution_count": 303,
      "outputs": [
        {
          "output_type": "stream",
          "name": "stdout",
          "text": [
            "4\n",
            "(1, 2, 3)\n"
          ]
        }
      ]
    },
    {
      "cell_type": "markdown",
      "source": [
        "### 집합 생성"
      ],
      "metadata": {
        "id": "ugoXQn8g6yyX"
      },
      "id": "ugoXQn8g6yyX"
    },
    {
      "cell_type": "code",
      "source": [
        "a = set() # 빈 집합 형태\n",
        "a = set((1,2,3))\n",
        "print(type(a), a)"
      ],
      "metadata": {
        "colab": {
          "base_uri": "https://localhost:8080/"
        },
        "id": "115AtZlq60_Z",
        "outputId": "e944a820-30f5-4ca6-8a4c-f869fc9244bc"
      },
      "id": "115AtZlq60_Z",
      "execution_count": 305,
      "outputs": [
        {
          "output_type": "stream",
          "name": "stdout",
          "text": [
            "<class 'set'> {1, 2, 3}\n"
          ]
        }
      ]
    },
    {
      "cell_type": "code",
      "source": [
        "b = set('Hello') # 중복된 값은 하나만 출력\n",
        "print(type(b), b)"
      ],
      "metadata": {
        "colab": {
          "base_uri": "https://localhost:8080/"
        },
        "id": "HukZYCgy6_vd",
        "outputId": "681d0aa1-e08a-4eb1-d89c-4f41f4064f96"
      },
      "id": "HukZYCgy6_vd",
      "execution_count": 304,
      "outputs": [
        {
          "output_type": "stream",
          "name": "stdout",
          "text": [
            "<class 'set'> {'e', 'H', 'o', 'l'}\n"
          ]
        }
      ]
    },
    {
      "cell_type": "code",
      "source": [
        "# 집합에서는 중복된 데이터를 배제시킬 수 있다\n",
        "fruits = set(('사과', '바나나', '사과', '포도', '귤', '귤'))\n",
        "print(type(fruits), fruits)"
      ],
      "metadata": {
        "colab": {
          "base_uri": "https://localhost:8080/"
        },
        "id": "C8KXMTKs9M_j",
        "outputId": "e8375e42-7b58-402b-87db-081e5aa81556"
      },
      "id": "C8KXMTKs9M_j",
      "execution_count": 310,
      "outputs": [
        {
          "output_type": "stream",
          "name": "stdout",
          "text": [
            "<class 'set'> {'포도', '귤', '사과', '바나나'}\n"
          ]
        }
      ]
    },
    {
      "cell_type": "code",
      "source": [
        "fruits = ['사과', '바나나', '사과', '포도', '귤', '귤']\n",
        "a = tuple(fruits)\n",
        "print(type(a), a)\n",
        "\n",
        "b = list(set(fruits))\n",
        "b.sort()\n",
        "print(type(b), b)"
      ],
      "metadata": {
        "colab": {
          "base_uri": "https://localhost:8080/"
        },
        "id": "RD18Mt9a9Mua",
        "outputId": "5ae54470-9a9d-4f8c-95ac-9ce488107cfb"
      },
      "id": "RD18Mt9a9Mua",
      "execution_count": 320,
      "outputs": [
        {
          "output_type": "stream",
          "name": "stdout",
          "text": [
            "<class 'tuple'> ('사과', '바나나', '사과', '포도', '귤', '귤')\n",
            "<class 'list'> ['귤', '바나나', '사과', '포도']\n"
          ]
        }
      ]
    },
    {
      "cell_type": "markdown",
      "id": "66025633",
      "metadata": {
        "id": "66025633"
      },
      "source": [
        "끝"
      ]
    },
    {
      "cell_type": "code",
      "source": [
        "# list에 쓸 수 있는 함수 설명서\n",
        "help(list)"
      ],
      "metadata": {
        "id": "ay7blGPZ-uGY"
      },
      "id": "ay7blGPZ-uGY",
      "execution_count": null,
      "outputs": []
    },
    {
      "cell_type": "code",
      "source": [],
      "metadata": {
        "id": "93JbjgKB-vNi"
      },
      "id": "93JbjgKB-vNi",
      "execution_count": null,
      "outputs": []
    }
  ],
  "metadata": {
    "kernelspec": {
      "display_name": "Python 3 (ipykernel)",
      "language": "python",
      "name": "python3"
    },
    "language_info": {
      "codemirror_mode": {
        "name": "ipython",
        "version": 3
      },
      "file_extension": ".py",
      "mimetype": "text/x-python",
      "name": "python",
      "nbconvert_exporter": "python",
      "pygments_lexer": "ipython3",
      "version": "3.10.9"
    },
    "vscode": {
      "interpreter": {
        "hash": "b41e41bff03a930185ac2cbea60ce521f7c8c2f5401ceb5c30214081f77ab4f5"
      }
    },
    "colab": {
      "provenance": [],
      "include_colab_link": true
    }
  },
  "nbformat": 4,
  "nbformat_minor": 5
}