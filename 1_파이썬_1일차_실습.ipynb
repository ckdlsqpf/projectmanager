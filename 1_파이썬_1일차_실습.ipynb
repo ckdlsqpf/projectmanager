{
  "nbformat": 4,
  "nbformat_minor": 0,
  "metadata": {
    "colab": {
      "provenance": [],
      "authorship_tag": "ABX9TyNJwijutJumAMGszdWxt3Jg",
      "include_colab_link": true
    },
    "kernelspec": {
      "name": "python3",
      "display_name": "Python 3"
    },
    "language_info": {
      "name": "python"
    }
  },
  "cells": [
    {
      "cell_type": "markdown",
      "metadata": {
        "id": "view-in-github",
        "colab_type": "text"
      },
      "source": [
        "<a href=\"https://colab.research.google.com/github/ckdlsqpf/projectmanager/blob/main/1_%ED%8C%8C%EC%9D%B4%EC%8D%AC_1%EC%9D%BC%EC%B0%A8_%EC%8B%A4%EC%8A%B5.ipynb\" target=\"_parent\"><img src=\"https://colab.research.google.com/assets/colab-badge.svg\" alt=\"Open In Colab\"/></a>"
      ]
    },
    {
      "cell_type": "markdown",
      "source": [
        "# 파이썬 기초 프로그래밍 - 1일차 실습\n",
        "\n"
      ],
      "metadata": {
        "id": "1qKE0uhSeSHq"
      }
    },
    {
      "cell_type": "markdown",
      "source": [
        "## 1.코랩에서 파이썬 사용하기\n",
        "#### 시작\n",
        "\n",
        "\n",
        "\n",
        "---\n",
        "\n"
      ],
      "metadata": {
        "id": "_vesNuvDeiIS"
      }
    },
    {
      "cell_type": "markdown",
      "source": [
        "### 1-1. 파이썬 실습 1일차\n"
      ],
      "metadata": {
        "id": "CqhNzLZ0gYoC"
      }
    },
    {
      "cell_type": "code",
      "source": [
        "from google.colab import drive\n",
        "drive.mount('/content/drive')"
      ],
      "metadata": {
        "id": "xD8OduOlhIcE"
      },
      "execution_count": null,
      "outputs": []
    },
    {
      "cell_type": "code",
      "execution_count": 1,
      "metadata": {
        "id": "xRMY-Emidfjn",
        "colab": {
          "base_uri": "https://localhost:8080/",
          "height": 35
        },
        "outputId": "22a9f493-71fd-4a3f-9051-6972228875f6"
      },
      "outputs": [
        {
          "output_type": "execute_result",
          "data": {
            "text/plain": [
              "'3.10.12 (main, Jun 11 2023, 05:26:28) [GCC 11.4.0]'"
            ],
            "application/vnd.google.colaboratory.intrinsic+json": {
              "type": "string"
            }
          },
          "metadata": {},
          "execution_count": 1
        }
      ],
      "source": [
        "import sys\n",
        "\n",
        "sys.version"
      ]
    },
    {
      "cell_type": "markdown",
      "source": [
        "*   **간단 계산기 프로그램 작성하기**"
      ],
      "metadata": {
        "id": "XTigbCiYfITy"
      }
    },
    {
      "cell_type": "markdown",
      "source": [],
      "metadata": {
        "id": "Qgk3gmn5fnQ6"
      }
    },
    {
      "cell_type": "code",
      "source": [
        "a = 100\n",
        "b = 50\n",
        "print('덧셈: ', a + b)\n",
        "print('뺄셈: ', a - b)\n",
        "print('곱셈: ', a * b)\n",
        "print('나눗셈: ', a / b)"
      ],
      "metadata": {
        "colab": {
          "base_uri": "https://localhost:8080/"
        },
        "id": "YSEoen5Hf1_6",
        "outputId": "1efb764e-76da-46ed-ae7a-b6a9f59e7619"
      },
      "execution_count": 3,
      "outputs": [
        {
          "output_type": "stream",
          "name": "stdout",
          "text": [
            "덧셈:  150\n",
            "뺄셈:  50\n",
            "곱셈:  5000\n",
            "나눗셈:  2.0\n"
          ]
        }
      ]
    },
    {
      "cell_type": "code",
      "source": [],
      "metadata": {
        "id": "azHKUe3zf6Sl"
      },
      "execution_count": null,
      "outputs": []
    }
  ]
}