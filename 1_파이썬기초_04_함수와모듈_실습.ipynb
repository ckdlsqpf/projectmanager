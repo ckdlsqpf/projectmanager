{
  "cells": [
    {
      "cell_type": "markdown",
      "metadata": {
        "id": "view-in-github",
        "colab_type": "text"
      },
      "source": [
        "<a href=\"https://colab.research.google.com/github/ckdlsqpf/projectmanager/blob/main/1_%E1%84%91%E1%85%A1%E1%84%8B%E1%85%B5%E1%84%8A%E1%85%A5%E1%86%AB%E1%84%80%E1%85%B5%E1%84%8E%E1%85%A9_04_%E1%84%92%E1%85%A1%E1%86%B7%E1%84%89%E1%85%AE%E1%84%8B%E1%85%AA%E1%84%86%E1%85%A9%E1%84%83%E1%85%B2%E1%86%AF_%EC%8B%A4%EC%8A%B5.ipynb\" target=\"_parent\"><img src=\"https://colab.research.google.com/assets/colab-badge.svg\" alt=\"Open In Colab\"/></a>"
      ]
    },
    {
      "cell_type": "markdown",
      "id": "25f81d8c",
      "metadata": {
        "id": "25f81d8c"
      },
      "source": [
        "# 파이썬 기초 다지기"
      ]
    },
    {
      "cell_type": "markdown",
      "id": "3f3da3bd",
      "metadata": {
        "id": "3f3da3bd"
      },
      "source": [
        "## 4- 함수와 모듈\n",
        "데이터 추상화하고 구조화하기"
      ]
    },
    {
      "cell_type": "code",
      "execution_count": null,
      "id": "b2055fa4",
      "metadata": {
        "id": "b2055fa4"
      },
      "outputs": [],
      "source": [
        "import random   # random.py (모듈)\n",
        "\n",
        "room = random.randint(1, 3)  # 1,2,3중에 임의의 수\n"
      ]
    },
    {
      "cell_type": "markdown",
      "id": "0c52a67e",
      "metadata": {
        "id": "0c52a67e"
      },
      "source": [
        "----------------------------------"
      ]
    },
    {
      "cell_type": "markdown",
      "id": "aee8f2e8",
      "metadata": {
        "id": "aee8f2e8"
      },
      "source": [
        "## 4-1.함수 < 모듈 < 패키기"
      ]
    },
    {
      "cell_type": "markdown",
      "id": "e89f3546",
      "metadata": {
        "id": "e89f3546"
      },
      "source": [
        "### 함수 정의하기"
      ]
    },
    {
      "cell_type": "code",
      "execution_count": null,
      "id": "4f161d86",
      "metadata": {
        "id": "4f161d86"
      },
      "outputs": [],
      "source": [
        "\n"
      ]
    },
    {
      "cell_type": "markdown",
      "id": "cb89ea65",
      "metadata": {
        "id": "cb89ea65"
      },
      "source": [
        "### 함수의 구조\n",
        "매개변수와 리턴값에 따른 함수의 유형 예"
      ]
    },
    {
      "cell_type": "markdown",
      "id": "8acceb64",
      "metadata": {
        "id": "8acceb64"
      },
      "source": [
        "- 매개변수(X), 리턴값(X)"
      ]
    },
    {
      "cell_type": "code",
      "execution_count": null,
      "id": "57a55c92",
      "metadata": {
        "id": "57a55c92"
      },
      "outputs": [],
      "source": [
        "def func():\n",
        "    print('안녕하세요!')\n",
        "\n",
        "print( func() )"
      ]
    },
    {
      "cell_type": "markdown",
      "id": "aba4c5e6",
      "metadata": {
        "id": "aba4c5e6"
      },
      "source": [
        "- 매개변수(X), 리턴값(O)"
      ]
    },
    {
      "cell_type": "code",
      "execution_count": null,
      "id": "aa699b58",
      "metadata": {
        "id": "aa699b58"
      },
      "outputs": [],
      "source": [
        "def func():\n",
        "    print('안녕하세요!')\n",
        "    return '처리완료!'\n",
        "\n",
        "print( func() )"
      ]
    },
    {
      "cell_type": "markdown",
      "id": "21f24a11",
      "metadata": {
        "id": "21f24a11"
      },
      "source": [
        "- 매개변수(O), 리턴값(X)"
      ]
    },
    {
      "cell_type": "code",
      "execution_count": null,
      "id": "f1c1db85",
      "metadata": {
        "id": "f1c1db85"
      },
      "outputs": [],
      "source": [
        "def func(a, b):\n",
        "    print('덧셈: %d + %d = %d' % (a, b, a+b))\n",
        "\n",
        "print( func(5, 7) )"
      ]
    },
    {
      "cell_type": "markdown",
      "id": "c80d6c02",
      "metadata": {
        "id": "c80d6c02"
      },
      "source": [
        "- 매개변수(O), 리턴값(O)"
      ]
    },
    {
      "cell_type": "code",
      "execution_count": null,
      "id": "d6d46e65",
      "metadata": {
        "id": "d6d46e65"
      },
      "outputs": [],
      "source": [
        "def func(a, b):\n",
        "    print('덧셈: %d + %d = %d' % (a, b, a+b))\n",
        "    return a+b\n",
        "\n",
        "print( func(5, 7) )"
      ]
    },
    {
      "cell_type": "markdown",
      "id": "fbe6e1c6",
      "metadata": {
        "id": "fbe6e1c6"
      },
      "source": [
        "### [실습문제] 암스트롱수 구하기\n",
        "다음 조건을 참고하여 암스트롱수를 구하는 함수를 만들어 출력하는 프로그램을 만들어 보세요.\n",
        "- **암스트롱수** : 세 자리의 정수 중에서 각 자리의 수를 세 제곱한 수의 합과 자신이 같은 수"
      ]
    },
    {
      "cell_type": "code",
      "execution_count": 1,
      "id": "3c387d60",
      "metadata": {
        "colab": {
          "base_uri": "https://localhost:8080/"
        },
        "id": "3c387d60",
        "outputId": "8721c956-04c6-42cb-9df4-b6a97fd1a40b"
      },
      "outputs": [
        {
          "output_type": "stream",
          "name": "stdout",
          "text": [
            "[153] is armstrong number!\n",
            "[370] is armstrong number!\n",
            "[371] is armstrong number!\n",
            "[407] is armstrong number!\n"
          ]
        }
      ],
      "source": [
        "def is_arm(N):  # 암스트롱 수 찾는 함수\n",
        "    n = str(N)    # 정수를 문자열로 변환\n",
        "    a = int(n[0]) # 100의 자리수\n",
        "    b = int(n[1]) # 10의 자리수\n",
        "    c = int(n[2]) # 1의 자리수\n",
        "    if N == (a**3 + b**3 + c**3):  # 암스트롱수의 조건\n",
        "        return True\n",
        "    else:\n",
        "        return False\n",
        "\n",
        "for i in range(100, 1000):\n",
        "    if is_arm(i):\n",
        "        print(f'[{i}] is armstrong number!')\n"
      ]
    },
    {
      "cell_type": "markdown",
      "id": "a78bd48d",
      "metadata": {
        "id": "a78bd48d"
      },
      "source": [
        "### [실습문제]\n",
        "앞에서 만든 커피 자동주문 머신 프로그램을 함수를 이용하여 만들어 보세요."
      ]
    },
    {
      "cell_type": "code",
      "execution_count": 8,
      "id": "ea29d25d",
      "metadata": {
        "colab": {
          "base_uri": "https://localhost:8080/"
        },
        "id": "ea29d25d",
        "outputId": "506f0c17-a6da-46ce-ab06-12f0b5e0b9eb"
      },
      "outputs": [
        {
          "output_type": "stream",
          "name": "stdout",
          "text": [
            "[커피 자동주문 머신 메뉴]\n",
            "------------------------------\n",
            "-아메리카노는 2500원\n",
            "-카레라떼는 3000원\n",
            "-카푸치노는 3000원\n",
            "입니다. 원하시는 커피종류와 잔수를 입력하세요.\n",
            "------------------------------\n",
            "아메리카노 몇잔?: 2\n",
            "카페라떼 몇잔?: 3\n",
            "카푸치노 몇잔?: 4\n",
            "지불할 총 금액은  26000 원 입니다\n",
            "--------------------------------------------------\n",
            "[지불할 금액:26000] : 돈을 넣어주세요: 20000\n",
            "입력한 금액이 부족합니다. 6000 원을 더 넣어주세요.\n",
            "--------------------------------------------------\n",
            "[지불할 금액:6000] : 돈을 넣어주세요: 10000\n",
            "거스름돈은 4000원 입니다.\n",
            "--------------------------------------------------\n",
            " 커피 맛있게 드세요.\n"
          ]
        }
      ],
      "source": [
        "def coffeeMachine(coffee1, coffee2, coffee3):\n",
        "    total = coffee1*2500 + coffee2*3000 + coffee3*3000 + coffee4*2500\n",
        "    print(\"지불할 총 금액은 \", total, \"원 입니다\")\n",
        "\n",
        "    while True:\n",
        "        print('-'*50)\n",
        "        money = int(input(f'[지불할 금액:{total}] : 돈을 넣어주세요: '))\n",
        "        if total > money  :\n",
        "            print(f'입력한 금액이 부족합니다. {total - money} 원을 더 넣어주세요.')\n",
        "            total = total - money\n",
        "        else:\n",
        "           print(f'거스름돈은 {money - total}원 입니다.')\n",
        "           break\n",
        "\n",
        "    print('-'*50)\n",
        "    print(' 커피 맛있게 드세요.')\n",
        "\n",
        "\n",
        "menu = '''[커피 자동주문 머신 메뉴]\n",
        "------------------------------\n",
        "-아메리카노는 2500원\n",
        "-카레라떼는 3000원\n",
        "-카푸치노는 3000원\n",
        "입니다. 원하시는 커피종류와 잔수를 입력하세요.\n",
        "------------------------------'''\n",
        "print(menu)\n",
        "coffee1 = int(input(\"아메리카노 몇잔?: \"))\n",
        "coffee2 = int(input(\"카페라떼 몇잔?: \"))\n",
        "coffee3 = int(input(\"카푸치노 몇잔?: \"))\n",
        "\n",
        "\n",
        "coffeeMachine(coffee1, coffee2, coffee3)     # 함수 호출"
      ]
    },
    {
      "cell_type": "markdown",
      "source": [
        "### lambda 함수\n",
        "- 한 줄로 간단하게 만들어 주는 함수, 일시적인 함수"
      ],
      "metadata": {
        "id": "0nEiMUicYT1Q"
      },
      "id": "0nEiMUicYT1Q"
    },
    {
      "cell_type": "code",
      "source": [
        "def hap(num1, num2):\n",
        "    res = num1 + num2\n",
        "    return res\n",
        "\n",
        "print(hap(10,20))"
      ],
      "metadata": {
        "colab": {
          "base_uri": "https://localhost:8080/"
        },
        "id": "MKsQl_GkYiMT",
        "outputId": "c32e4e80-b4e1-405d-c7f2-c5b9f0c4fbce"
      },
      "id": "MKsQl_GkYiMT",
      "execution_count": 12,
      "outputs": [
        {
          "output_type": "stream",
          "name": "stdout",
          "text": [
            "30\n"
          ]
        }
      ]
    },
    {
      "cell_type": "code",
      "source": [
        "hap = lambda num1, num2 : num1 + num2\n",
        "print(hap(10,20))"
      ],
      "metadata": {
        "colab": {
          "base_uri": "https://localhost:8080/"
        },
        "id": "duBealg1YOe8",
        "outputId": "32aaa60e-e56a-4284-bd6f-a4c84d8e7afc"
      },
      "id": "duBealg1YOe8",
      "execution_count": 10,
      "outputs": [
        {
          "output_type": "stream",
          "name": "stdout",
          "text": [
            "30\n"
          ]
        }
      ]
    },
    {
      "cell_type": "markdown",
      "source": [
        "### enumerate 함수"
      ],
      "metadata": {
        "id": "D7sE4XKeZlwP"
      },
      "id": "D7sE4XKeZlwP"
    },
    {
      "cell_type": "code",
      "source": [
        "mylist = [100, 200, 300, 400, 500]\n",
        "\n",
        "def add10(num):\n",
        "    return num + 10\n",
        "\n",
        "for idx, i in enumerate(mylist):\n",
        "    # print(idx, i, add10(i))\n",
        "    mylist[idx] = add10(i)\n",
        "\n",
        "print(mylist)"
      ],
      "metadata": {
        "colab": {
          "base_uri": "https://localhost:8080/"
        },
        "id": "K_SAr5R2Zk7V",
        "outputId": "b1930932-2a9f-455e-8637-1f7fe4303eac"
      },
      "id": "K_SAr5R2Zk7V",
      "execution_count": 20,
      "outputs": [
        {
          "output_type": "stream",
          "name": "stdout",
          "text": [
            "[110, 210, 310, 410, 510]\n"
          ]
        }
      ]
    },
    {
      "cell_type": "markdown",
      "source": [
        "### map 함수"
      ],
      "metadata": {
        "id": "g7z2hCuvYrWw"
      },
      "id": "g7z2hCuvYrWw"
    },
    {
      "cell_type": "code",
      "source": [
        "myList = [1,2,3,4,5]\n",
        "\n",
        "add10 = lambda num : num + 10\n",
        "myList = list(map(add10, myList))    # 첫 번째 인자: 함수명, 두 번째 인자: 순서가 있는 자료명\n",
        "\n",
        "print(myList)"
      ],
      "metadata": {
        "colab": {
          "base_uri": "https://localhost:8080/"
        },
        "id": "asgttv35ZQro",
        "outputId": "3a33c686-85b6-4b71-ef9e-bd8726e2948d"
      },
      "id": "asgttv35ZQro",
      "execution_count": 29,
      "outputs": [
        {
          "output_type": "stream",
          "name": "stdout",
          "text": [
            "[11, 12, 13, 14, 15]\n"
          ]
        }
      ]
    },
    {
      "cell_type": "markdown",
      "source": [
        "### 실습문제\n",
        "- 3의 배수를 문자열로 변환하는 프로그램"
      ],
      "metadata": {
        "id": "wFNHm_A3dfzg"
      },
      "id": "wFNHm_A3dfzg"
    },
    {
      "cell_type": "code",
      "source": [
        "myList = [1,2,3,4,5,6,7,8,9,10]\n",
        "Multiple3 = lambda x: str(x) if x % 3 == 0 else x\n",
        "myList = list(map(Multiple3, myList))\n",
        "print(myList)"
      ],
      "metadata": {
        "colab": {
          "base_uri": "https://localhost:8080/"
        },
        "id": "WfHcLqsVdgRb",
        "outputId": "0e5d4a86-de03-418a-9f88-feeaa45987d4"
      },
      "id": "WfHcLqsVdgRb",
      "execution_count": 33,
      "outputs": [
        {
          "output_type": "stream",
          "name": "stdout",
          "text": [
            "[1, 2, '3', 4, 5, '6', 7, 8, '9', 10]\n"
          ]
        }
      ]
    },
    {
      "cell_type": "code",
      "source": [
        "myList1 = [1,2,3,4,5]\n",
        "myList2 = [6,7,8,9,10]\n",
        "\n",
        "multiply = lambda x, y: x*y\n",
        "myList3 = list(map(multiply, myList1, myList2))\n",
        "print(myList3)"
      ],
      "metadata": {
        "colab": {
          "base_uri": "https://localhost:8080/"
        },
        "id": "cQVCHAEmefVb",
        "outputId": "9dd50dbc-d9b5-41ec-97d4-d30e274de607"
      },
      "id": "cQVCHAEmefVb",
      "execution_count": 129,
      "outputs": [
        {
          "output_type": "stream",
          "name": "stdout",
          "text": [
            "[6, 14, 24, 36, 50]\n"
          ]
        }
      ]
    },
    {
      "cell_type": "code",
      "source": [
        "# 동물 맞히기 게임\n",
        "# 게임 실행시, 정답은 랜덤으로 생성되며 총 5번의 기회가 주어집니다.\n",
        "\n",
        "import random\n",
        "\n",
        "All_Animals = ['도마뱀', '카멜레온', '이구아나', '너구리', '다람쥐', '원숭이', '사슴', '토끼', '양', '붉은여우', '까치', '까마귀', '참새', '오리', '앵무새', '두루미']\n",
        "파충류, 포유류, 조류 = [['도마뱀', '카멜레온', '이구아나'], ['너구리', ' 다람쥐', '원숭이', '사슴', '토끼', '양', '붉은여우'], ['까치', '까마귀', '참새', '오리', '앵무새', '두루미']]\n",
        "\n",
        "answer = All_Animals[(random.randint(0,15))]\n",
        "All_TRIES = 5\n",
        "\n",
        "print('''동물 맞히기 게임입니다. 아래 목록에서 동물을 골라 맞혀보세요.\n",
        "기회는 총 5번 주어집니다.''')\n",
        "print('파충류: ', 파충류)\n",
        "print('포유류: ', 포유류)\n",
        "print('조류: ', 조류, '\\n')\n",
        "\n",
        "print('시작합니다!')\n",
        "print('-'*40)\n",
        "\n",
        "for tries in range(0,5):\n",
        "    guess = input(f'기회가 {All_TRIES-tries}번 남았습니다. 동물을 맞혀 보세요: ')\n",
        "\n",
        "    if guess == answer:\n",
        "        print(f'축하합니다. {tries}번 만에 정답을 맞히셨습니다.')\n",
        "        break\n",
        "    elif tries < All_TRIES and guess not in All_Animals:\n",
        "        print('Hint: 목록에 없습니다.\\n')\n",
        "        continue\n",
        "    elif All_TRIES-tries == 1:\n",
        "        break\n",
        "\n",
        "    Animals_Type = [파충류, 포유류, 조류]\n",
        "    for i in Animals_Type:\n",
        "        if tries < All_TRIES and answer in i and guess in i:\n",
        "            print(f'Hint: 같은 종류의 다른 동물을 골라보세요.')\n",
        "        elif tries < All_TRIES and answer in i and guess not in i:\n",
        "            print(f'Hint: 다른 종류의 동물을 골라보세요.')\n",
        "\n",
        "    print('-' * 40, '\\n')\n",
        "\n",
        "if guess != answer:\n",
        "    print('-->', '\\n'\n",
        "        f'아쉽습니다. 정답은 {answer}입니다.')\n",
        "\n",
        "print ('*' * 40, '\\n'\n",
        "       '''게임이 종료됩니다.\n",
        "다시 게임을 실행하시려면 play 버튼을 눌러주세요!''')"
      ],
      "metadata": {
        "id": "x2ig8xNwDcau"
      },
      "id": "x2ig8xNwDcau",
      "execution_count": null,
      "outputs": []
    },
    {
      "cell_type": "markdown",
      "id": "45e329e4",
      "metadata": {
        "id": "45e329e4"
      },
      "source": [
        "------------------------"
      ]
    },
    {
      "cell_type": "markdown",
      "id": "66025633",
      "metadata": {
        "id": "66025633"
      },
      "source": [
        "끝"
      ]
    }
  ],
  "metadata": {
    "kernelspec": {
      "display_name": "Python 3 (ipykernel)",
      "language": "python",
      "name": "python3"
    },
    "language_info": {
      "codemirror_mode": {
        "name": "ipython",
        "version": 3
      },
      "file_extension": ".py",
      "mimetype": "text/x-python",
      "name": "python",
      "nbconvert_exporter": "python",
      "pygments_lexer": "ipython3",
      "version": "3.10.9"
    },
    "vscode": {
      "interpreter": {
        "hash": "b41e41bff03a930185ac2cbea60ce521f7c8c2f5401ceb5c30214081f77ab4f5"
      }
    },
    "colab": {
      "provenance": [],
      "include_colab_link": true
    }
  },
  "nbformat": 4,
  "nbformat_minor": 5
}