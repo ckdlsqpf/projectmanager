{
  "nbformat": 4,
  "nbformat_minor": 0,
  "metadata": {
    "colab": {
      "provenance": [],
      "authorship_tag": "ABX9TyMfptN8Yi4zPAO13pgwhGj4",
      "include_colab_link": true
    },
    "kernelspec": {
      "name": "python3",
      "display_name": "Python 3"
    },
    "language_info": {
      "name": "python"
    }
  },
  "cells": [
    {
      "cell_type": "markdown",
      "metadata": {
        "id": "view-in-github",
        "colab_type": "text"
      },
      "source": [
        "<a href=\"https://colab.research.google.com/github/ckdlsqpf/projectmanager/blob/main/%EB%A8%B8%EC%8B%A0%EB%9F%AC%EB%8B%9D1.ipynb\" target=\"_parent\"><img src=\"https://colab.research.google.com/assets/colab-badge.svg\" alt=\"Open In Colab\"/></a>"
      ]
    },
    {
      "cell_type": "code",
      "execution_count": null,
      "metadata": {
        "id": "8i4Fwzrw4jyw"
      },
      "outputs": [],
      "source": [
        "!pip install tensorflow"
      ]
    },
    {
      "cell_type": "code",
      "source": [
        "import tensorflow as tf"
      ],
      "metadata": {
        "id": "25PARmjoiZWk"
      },
      "execution_count": 2,
      "outputs": []
    },
    {
      "cell_type": "code",
      "source": [
        "(x_train, y_train), (x_test, y_test) = \\\n",
        "    tf.keras.datasets.mnist.load_data()"
      ],
      "metadata": {
        "colab": {
          "base_uri": "https://localhost:8080/"
        },
        "id": "rFUfe9D4icPh",
        "outputId": "1a706dd7-c920-4a42-b123-b1d0a7f351bb"
      },
      "execution_count": 3,
      "outputs": [
        {
          "output_type": "stream",
          "name": "stdout",
          "text": [
            "Downloading data from https://storage.googleapis.com/tensorflow/tf-keras-datasets/mnist.npz\n",
            "11490434/11490434 [==============================] - 0s 0us/step\n"
          ]
        }
      ]
    },
    {
      "cell_type": "code",
      "source": [
        "from PIL import Image\n",
        "Image.fromarray(x_train[0])  # 훈련용 이미지 0번을 그림으로 보기"
      ],
      "metadata": {
        "colab": {
          "base_uri": "https://localhost:8080/",
          "height": 45
        },
        "id": "wnGlp01pi-rH",
        "outputId": "8d8dc84f-103e-4dc2-adc4-6385c51a8d16"
      },
      "execution_count": 13,
      "outputs": [
        {
          "output_type": "execute_result",
          "data": {
            "text/plain": [
              "<PIL.Image.Image image mode=L size=28x28>"
            ],
            "image/png": "[encoded data removed]"
          },
          "metadata": {},
          "execution_count": 13
        }
      ]
    },
    {
      "cell_type": "code",
      "source": [
        "import numpy as np\n",
        "def filter_dataset(x, y, neg_cls, pos_cls):\n",
        "    # x와 y에서 neg_cls와 pos_cls만 추려내는 함수\n",
        "    m = (y == pos_cls) | (y == neg_cls)\n",
        "    x = x[m]\n",
        "    y = y[m]\n",
        "    y = np.where(y == neg_cls, 0, 1)\n",
        "    return x, y\n",
        "\n",
        "x_train2, y_train2 = filter_dataset(x_train, y_train, 0, 1)"
      ],
      "metadata": {
        "id": "0DQsVSOBjVQK"
      },
      "execution_count": 14,
      "outputs": []
    },
    {
      "cell_type": "code",
      "source": [
        "y_train2"
      ],
      "metadata": {
        "colab": {
          "base_uri": "https://localhost:8080/"
        },
        "id": "n0ucULRVkVz8",
        "outputId": "1982beaf-72f1-4ced-9c18-95568dfb82ad"
      },
      "execution_count": 15,
      "outputs": [
        {
          "output_type": "execute_result",
          "data": {
            "text/plain": [
              "array([0, 1, 1, ..., 1, 0, 1])"
            ]
          },
          "metadata": {},
          "execution_count": 15
        }
      ]
    },
    {
      "cell_type": "code",
      "source": [
        "Image.fromarray(x_train2[1])"
      ],
      "metadata": {
        "colab": {
          "base_uri": "https://localhost:8080/",
          "height": 45
        },
        "id": "D4C8p7hZkW79",
        "outputId": "084a155c-c361-40c8-8034-2474362e84a4"
      },
      "execution_count": 19,
      "outputs": [
        {
          "output_type": "execute_result",
          "data": {
            "text/plain": [
              "<PIL.Image.Image image mode=L size=28x28>"
            ],
            "image/png": "[encoded data removed]"
          },
          "metadata": {},
          "execution_count": 19
        }
      ]
    },
    {
      "cell_type": "code",
      "source": [
        "from tensorflow.keras.layers import *\n",
        "model = tf.keras.Sequential([\n",
        "    Flatten(),\n",
        "    Dense(1, activation='sigmoid'),\n",
        "])"
      ],
      "metadata": {
        "id": "y9db8hFwmy_K"
      },
      "execution_count": 30,
      "outputs": []
    },
    {
      "cell_type": "code",
      "source": [
        "model.compile(loss='binary_crossentropy', metrics=['accuracy'])\n",
        "result = model.fit(x_train2, y_train2, epochs=10)"
      ],
      "metadata": {
        "colab": {
          "base_uri": "https://localhost:8080/"
        },
        "id": "7Frz15xVoouR",
        "outputId": "2e4d415c-e20c-4af7-c07e-f441a76e9445"
      },
      "execution_count": 23,
      "outputs": [
        {
          "output_type": "stream",
          "name": "stdout",
          "text": [
            "Epoch 1/10\n",
            "396/396 [==============================] - 1s 2ms/step - loss: 0.0064 - accuracy: 0.9996\n",
            "Epoch 2/10\n",
            "396/396 [==============================] - 1s 2ms/step - loss: 0.0057 - accuracy: 0.9994\n",
            "Epoch 3/10\n",
            "396/396 [==============================] - 1s 2ms/step - loss: 0.0052 - accuracy: 0.9996\n",
            "Epoch 4/10\n",
            "396/396 [==============================] - 1s 2ms/step - loss: 3.2604e-04 - accuracy: 0.9999\n",
            "Epoch 5/10\n",
            "396/396 [==============================] - 1s 2ms/step - loss: 0.0053 - accuracy: 0.9997\n",
            "Epoch 6/10\n",
            "396/396 [==============================] - 1s 2ms/step - loss: 0.0032 - accuracy: 0.9998\n",
            "Epoch 7/10\n",
            "396/396 [==============================] - 1s 2ms/step - loss: 0.0024 - accuracy: 0.9998\n",
            "Epoch 8/10\n",
            "396/396 [==============================] - 1s 2ms/step - loss: 4.6129e-05 - accuracy: 1.0000\n",
            "Epoch 9/10\n",
            "396/396 [==============================] - 1s 2ms/step - loss: 0.0049 - accuracy: 0.9996\n",
            "Epoch 10/10\n",
            "396/396 [==============================] - 1s 2ms/step - loss: 8.2438e-04 - accuracy: 0.9998\n"
          ]
        }
      ]
    },
    {
      "cell_type": "code",
      "source": [
        "model.compile(loss='binary_crossentropy', metrics=['accuracy'])\n",
        "result = model.fit(x_train2, y_train2, validation_split=0.1, epochs=10)\n",
        "# validation_split: 성능테스트 # epochs: 몇 번 돌릴지 (돌릴수록 손실이 줄어들고 정확도가 올라감)"
      ],
      "metadata": {
        "colab": {
          "base_uri": "https://localhost:8080/"
        },
        "id": "qc4zXHR-m0o9",
        "outputId": "3024e96e-e578-47b8-ab8b-a332e28d05d9"
      },
      "execution_count": 31,
      "outputs": [
        {
          "output_type": "stream",
          "name": "stdout",
          "text": [
            "Epoch 1/10\n",
            "357/357 [==============================] - 1s 2ms/step - loss: 1.8497 - accuracy: 0.9662 - val_loss: 0.0679 - val_accuracy: 0.9968\n",
            "Epoch 2/10\n",
            "357/357 [==============================] - 1s 2ms/step - loss: 0.0936 - accuracy: 0.9982 - val_loss: 0.0573 - val_accuracy: 0.9984\n",
            "Epoch 3/10\n",
            "357/357 [==============================] - 1s 2ms/step - loss: 0.0611 - accuracy: 0.9984 - val_loss: 0.0475 - val_accuracy: 0.9984\n",
            "Epoch 4/10\n",
            "357/357 [==============================] - 1s 2ms/step - loss: 0.0519 - accuracy: 0.9988 - val_loss: 0.0558 - val_accuracy: 0.9984\n",
            "Epoch 5/10\n",
            "357/357 [==============================] - 1s 2ms/step - loss: 0.0483 - accuracy: 0.9986 - val_loss: 1.0039e-05 - val_accuracy: 1.0000\n",
            "Epoch 6/10\n",
            "357/357 [==============================] - 1s 2ms/step - loss: 0.0228 - accuracy: 0.9989 - val_loss: 0.0287 - val_accuracy: 0.9984\n",
            "Epoch 7/10\n",
            "357/357 [==============================] - 1s 2ms/step - loss: 0.0317 - accuracy: 0.9987 - val_loss: 5.6667e-04 - val_accuracy: 1.0000\n",
            "Epoch 8/10\n",
            "357/357 [==============================] - 1s 3ms/step - loss: 0.0132 - accuracy: 0.9993 - val_loss: 0.0176 - val_accuracy: 0.9984\n",
            "Epoch 9/10\n",
            "357/357 [==============================] - 1s 3ms/step - loss: 0.0308 - accuracy: 0.9989 - val_loss: 0.0064 - val_accuracy: 0.9984\n",
            "Epoch 10/10\n",
            "357/357 [==============================] - 1s 3ms/step - loss: 0.0176 - accuracy: 0.9992 - val_loss: 1.5202e-06 - val_accuracy: 1.0000\n"
          ]
        }
      ]
    },
    {
      "cell_type": "code",
      "source": [
        "import matplotlib.pyplot as plt\n",
        "plt.plot(result.history['accuracy'], 'b-', label='accuracy')\n",
        "plt.plot(result.history['val_accuracy'], 'r--', label='val_accuracy')\n",
        "plt.legend()"
      ],
      "metadata": {
        "colab": {
          "base_uri": "https://localhost:8080/",
          "height": 448
        },
        "id": "P7BGyRD8o-U0",
        "outputId": "63fab9a0-8fa9-46e4-e10f-3a413d732ff8"
      },
      "execution_count": 32,
      "outputs": [
        {
          "output_type": "execute_result",
          "data": {
            "text/plain": [
              "<matplotlib.legend.Legend at 0x790c1f60b070>"
            ]
          },
          "metadata": {},
          "execution_count": 32
        },
        {
          "output_type": "display_data",
          "data": {
            "text/plain": [
              "<Figure size 640x480 with 1 Axes>"
            ],
            "image/png": "[encoded data removed]"
          },
          "metadata": {}
        }
      ]
    },
    {
      "cell_type": "code",
      "source": [
        "plt.plot(result.history['loss'], 'b-', label='loss')\n",
        "plt.plot(result.history['val_loss'], 'r--', label='val_loss')\n",
        "plt.legend()"
      ],
      "metadata": {
        "colab": {
          "base_uri": "https://localhost:8080/",
          "height": 448
        },
        "id": "FKv1x8k6ppd3",
        "outputId": "638092f1-6b09-460a-9416-2e1202f6b929"
      },
      "execution_count": 33,
      "outputs": [
        {
          "output_type": "execute_result",
          "data": {
            "text/plain": [
              "<matplotlib.legend.Legend at 0x790c1bd2e0e0>"
            ]
          },
          "metadata": {},
          "execution_count": 33
        },
        {
          "output_type": "display_data",
          "data": {
            "text/plain": [
              "<Figure size 640x480 with 1 Axes>"
            ],
            "image/png": "[encoded data removed]"
          },
          "metadata": {}
        }
      ]
    },
    {
      "cell_type": "markdown",
      "source": [
        "**epochs**\n",
        "- Early Stopping: 100번을 하기로 했어도 성능이 떨어지기 시작하면 일찍 멈춤\n",
        "- Checkpoint: 중간중간 저장을 해놨다가 제일 성능이 좋았던 시점을 다시 불러온다\n",
        "https://playground.tensorflow.org/"
      ],
      "metadata": {
        "id": "qVaSU4Tnq4Ai"
      }
    }
  ]
}