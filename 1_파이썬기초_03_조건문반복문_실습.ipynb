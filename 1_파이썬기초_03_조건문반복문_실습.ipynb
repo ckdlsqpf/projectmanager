{
  "cells": [
    {
      "cell_type": "markdown",
      "metadata": {
        "id": "view-in-github",
        "colab_type": "text"
      },
      "source": [
        "<a href=\"https://colab.research.google.com/github/ckdlsqpf/projectmanager/blob/main/1_%E1%84%91%E1%85%A1%E1%84%8B%E1%85%B5%E1%84%8A%E1%85%A5%E1%86%AB%E1%84%80%E1%85%B5%E1%84%8E%E1%85%A9_03_%E1%84%8C%E1%85%A9%E1%84%80%E1%85%A5%E1%86%AB%E1%84%86%E1%85%AE%E1%86%AB%E1%84%87%E1%85%A1%E1%86%AB%E1%84%87%E1%85%A9%E1%86%A8%E1%84%86%E1%85%AE%E1%86%AB_%EC%8B%A4%EC%8A%B5.ipynb\" target=\"_parent\"><img src=\"https://colab.research.google.com/assets/colab-badge.svg\" alt=\"Open In Colab\"/></a>"
      ]
    },
    {
      "cell_type": "markdown",
      "id": "25f81d8c",
      "metadata": {
        "id": "25f81d8c"
      },
      "source": [
        "# 파이썬 기초 다지기"
      ]
    },
    {
      "cell_type": "markdown",
      "id": "3f3da3bd",
      "metadata": {
        "id": "3f3da3bd"
      },
      "source": [
        "## 3- 조건문과 반복문\n",
        "데이터와 처리의 흐름을 제어하는 조건문과 반목문"
      ]
    },
    {
      "cell_type": "markdown",
      "id": "0c52a67e",
      "metadata": {
        "id": "0c52a67e"
      },
      "source": [
        "----------------------------------"
      ]
    },
    {
      "cell_type": "markdown",
      "id": "aee8f2e8",
      "metadata": {
        "id": "aee8f2e8"
      },
      "source": [
        "## 3-1.if 조건문"
      ]
    },
    {
      "cell_type": "markdown",
      "id": "e89f3546",
      "metadata": {
        "id": "e89f3546"
      },
      "source": [
        "### 조건문: if"
      ]
    },
    {
      "cell_type": "code",
      "execution_count": 4,
      "id": "4f161d86",
      "metadata": {
        "colab": {
          "base_uri": "https://localhost:8080/"
        },
        "id": "4f161d86",
        "outputId": "598b1bba-22b1-481c-f3ab-03ec5f8b46c8"
      },
      "outputs": [
        {
          "output_type": "stream",
          "name": "stdout",
          "text": [
            "숫자를 입력하세요: 110\n",
            "110는 100보다 크군요!\n"
          ]
        }
      ],
      "source": [
        "a = int(input('숫자를 입력하세요: '))\n",
        "\n",
        "if a > 100:\n",
        "    print(f'{a}은 100보다 크군요!')"
      ]
    },
    {
      "cell_type": "markdown",
      "id": "cb89ea65",
      "metadata": {
        "id": "cb89ea65"
      },
      "source": [
        "### 조건문: if ~ else"
      ]
    },
    {
      "cell_type": "code",
      "execution_count": 6,
      "id": "6eca2413",
      "metadata": {
        "colab": {
          "base_uri": "https://localhost:8080/"
        },
        "id": "6eca2413",
        "outputId": "8df983cf-e226-4b08-ac8c-024daa8b1aa6"
      },
      "outputs": [
        {
          "output_type": "stream",
          "name": "stdout",
          "text": [
            "숫자를 입력하세요: 50\n",
            "50는 100보다 크지 않군요!\n"
          ]
        }
      ],
      "source": [
        "a = int(input('숫자를 입력하세요: '))\n",
        "\n",
        "if a > 100:\n",
        "    print(f'{a}는 100보다 크군요!')\n",
        "else:\n",
        "    print(f'{a}은 100보다 크지 않군요!')"
      ]
    },
    {
      "cell_type": "markdown",
      "id": "13b404bd",
      "metadata": {
        "id": "13b404bd"
      },
      "source": [
        "### 조건문 : 중첩if"
      ]
    },
    {
      "cell_type": "code",
      "execution_count": 10,
      "id": "9575f530",
      "metadata": {
        "colab": {
          "base_uri": "https://localhost:8080/"
        },
        "id": "9575f530",
        "outputId": "e4d5deed-d8ed-413d-a6c1-29c707ea580c"
      },
      "outputs": [
        {
          "output_type": "stream",
          "name": "stdout",
          "text": [
            "숫자를 입력하세요: 300\n",
            "300는 100보다 크군요!\n",
            "300은 200보다 크군요!\n"
          ]
        }
      ],
      "source": [
        "a = int(input('숫자를 입력하세요: '))\n",
        "\n",
        "if a > 100:\n",
        "    print(f'{a}는 100보다 크군요!')\n",
        "    if a > 200:\n",
        "        print(f'{a}은 200보다 크군요!')\n",
        "    else:\n",
        "        print(f'{a}은 200보다 같거나 크지 않군요!')\n",
        "\n",
        "else:\n",
        "    if a == 100:\n",
        "        print(f'{a}은 100과 같군요!')\n",
        "    else:\n",
        "        print(f'{a}은 100보다 작군요!')\n"
      ]
    },
    {
      "cell_type": "markdown",
      "source": [
        "### 조건문 : if ~ elif ~ else\n"
      ],
      "metadata": {
        "id": "223YBf64i8SV"
      },
      "id": "223YBf64i8SV"
    },
    {
      "cell_type": "code",
      "source": [
        "a = int(input('숫자를 입력하세요: '))\n",
        "\n",
        "if a > 200:\n",
        "    print(f'{a}은 200보다 크군요!')\n",
        "elif a > 100:\n",
        "    print(f'{a}은 100 초과 200 이하 이군요!')\n",
        "elif a == 100:\n",
        "    print(f'{a}은 100과 같군요!')\n",
        "else:\n",
        "    print(f'{a}은 100보다 작군요!')"
      ],
      "metadata": {
        "colab": {
          "base_uri": "https://localhost:8080/"
        },
        "id": "U-7PxIC_i_BT",
        "outputId": "c1bcdcbf-5f81-4a39-e6a6-20f35683721d"
      },
      "id": "U-7PxIC_i_BT",
      "execution_count": 15,
      "outputs": [
        {
          "output_type": "stream",
          "name": "stdout",
          "text": [
            "숫자를 입력하세요: 80\n",
            "80은 100보다 작군요!\n"
          ]
        }
      ]
    },
    {
      "cell_type": "markdown",
      "id": "349dec8b",
      "metadata": {
        "id": "349dec8b"
      },
      "source": [
        "### [실습문제] 짝수/홀수 판별하기"
      ]
    },
    {
      "cell_type": "code",
      "execution_count": 21,
      "id": "de48c13d",
      "metadata": {
        "colab": {
          "base_uri": "https://localhost:8080/"
        },
        "id": "de48c13d",
        "outputId": "3100e3d0-4b64-41b5-ca54-e574f4e1be0c"
      },
      "outputs": [
        {
          "output_type": "stream",
          "name": "stdout",
          "text": [
            "숫자를 입력해주세요: 43\n",
            "홀수입니다!\n"
          ]
        }
      ],
      "source": [
        "x = int(input('숫자를 입력해주세요: '))\n",
        "\n",
        "if x % 2 == 0:\n",
        "    print('짝수입니다!')\n",
        "else:\n",
        "    print('홀수입니다!')"
      ]
    },
    {
      "cell_type": "code",
      "source": [
        "# 멤버쉽 연산자 사용해서 조건문 판별하기\n",
        "a = [1,2,3,4,5]\n",
        "x = 9\n",
        "\n",
        "if x in a:\n",
        "    print(f'{x}는 {a} 리스트에 포함되어 있습니다.')\n",
        "else:\n",
        "    print(f'{x}는 {a} 리스트에 포함되어 있지 않습니다.')"
      ],
      "metadata": {
        "colab": {
          "base_uri": "https://localhost:8080/"
        },
        "id": "ojkqOCAimQfm",
        "outputId": "f86cf74f-5dce-430b-e4cd-190967e8bb7d"
      },
      "id": "ojkqOCAimQfm",
      "execution_count": 25,
      "outputs": [
        {
          "output_type": "stream",
          "name": "stdout",
          "text": [
            "9는 [1, 2, 3, 4, 5] 리스트에 포함되어 있지 않습니다.\n"
          ]
        }
      ]
    },
    {
      "cell_type": "markdown",
      "id": "30919e6b",
      "metadata": {
        "id": "30919e6b"
      },
      "source": [
        "### [실습문제]\n",
        "피타고라스 정리에 의해 직각삼각형의 세 변의 길이에 대한 관계는 아래와 같습니다. 이 정리를 이용하여 세 변의 길이를 입력 받은 삼각형이 직각삼각형인지 아닌지 판별하는 프로그램을 만들어 보세요.\n"
      ]
    },
    {
      "cell_type": "code",
      "execution_count": 27,
      "id": "f6e6ca29",
      "metadata": {
        "scrolled": false,
        "colab": {
          "base_uri": "https://localhost:8080/"
        },
        "id": "f6e6ca29",
        "outputId": "cab4262f-a1fb-4b1e-86c7-fb60b4875232"
      },
      "outputs": [
        {
          "output_type": "stream",
          "name": "stdout",
          "text": [
            "변 a의 길이: 1\n",
            "변 b의 길이: 2\n",
            "변 c의 길이: 3\n",
            "------------------------------\n"
          ]
        }
      ],
      "source": [
        "# 1. 세 변의 길이 입력 받기\n",
        "a = int(input('변 a의 길이: '))\n",
        "b = int(input('변 b의 길이: '))\n",
        "c = int(input('변 c의 길이: '))\n",
        "\n",
        "print('-' * 30)  # 분리 선\n",
        "\n",
        "# 2. 직각삼각형 판별하기\n",
        "if a**2 + b**2 == c**2:\n",
        "    print('직각삼각형입니다.')\n",
        "else:\n",
        "    print('직각삼각형이 아닙니다.')"
      ]
    },
    {
      "cell_type": "code",
      "source": [
        "# 성적 등급 판별 방법1\n",
        "score = int(input('성적을 입력해 주세요: '))\n",
        "print('-' * 30)\n",
        "\n",
        "if score >= 90:\n",
        "    print(f'성적: {score}점은 A 등급 입니다.')\n",
        "elif score >= 80:\n",
        "    print(f'성적: {score}점은 B 등급 입니다.')\n",
        "elif score >= 70:\n",
        "    print(f'성적: {score}점은 C 등급 입니다.')\n",
        "else:\n",
        "    print(f'성적: {score}점은 D 등급 입니다.')"
      ],
      "metadata": {
        "colab": {
          "base_uri": "https://localhost:8080/"
        },
        "id": "dv1ayEm-tg8G",
        "outputId": "09a7625a-d75f-417f-c975-74743f167c6d"
      },
      "id": "dv1ayEm-tg8G",
      "execution_count": 32,
      "outputs": [
        {
          "output_type": "stream",
          "name": "stdout",
          "text": [
            "성적을 입력해 주세요: 78\n",
            "------------------------------\n",
            "성적: 78점은 C 등급 입니다.\n"
          ]
        }
      ]
    },
    {
      "cell_type": "code",
      "source": [
        "# 성적 등급 판별 방법2\n",
        "score = int(input('성적을 입력해 주세요: '))\n",
        "print('-'*30)\n",
        "\n",
        "if score >= 90:\n",
        "  grade = \"A\"\n",
        "elif score >= 80:\n",
        "  grade = \"B\"\n",
        "elif score >= 70:\n",
        "  grade = \"C\"\n",
        "else:\n",
        "  grade = \"D\"\n",
        "\n",
        "print(f'성적: {score} 는 {grade} 등급 입니다.')"
      ],
      "metadata": {
        "colab": {
          "base_uri": "https://localhost:8080/"
        },
        "id": "zz1yv_bputqt",
        "outputId": "8010979f-d073-48ed-ef2b-6ad5cf5ec3fc"
      },
      "id": "zz1yv_bputqt",
      "execution_count": 33,
      "outputs": [
        {
          "output_type": "stream",
          "name": "stdout",
          "text": [
            "성적을 입력해 주세요: 20\n",
            "------------------------------\n",
            "성적: 20 는 D 등급 입니다.\n"
          ]
        }
      ]
    },
    {
      "cell_type": "code",
      "source": [
        "# 온도 판별\n",
        "temp = int(input('온도를 입력하세요: '))\n",
        "\n",
        "if temp >= 30:\n",
        "    print('에어컨을 켜시오.')\n",
        "elif temp < 15:\n",
        "    if temp <= 10:\n",
        "        print('난방기를 켜시오.')\n",
        "    else:\n",
        "        print('내복을 입으시오.')\n",
        "else:\n",
        "    print('쾌적한 온도입니다.')"
      ],
      "metadata": {
        "colab": {
          "base_uri": "https://localhost:8080/"
        },
        "id": "KA1SqsnIxgnM",
        "outputId": "719e765d-9a4d-43fa-bf53-1c69d169e9ee"
      },
      "id": "KA1SqsnIxgnM",
      "execution_count": 41,
      "outputs": [
        {
          "output_type": "stream",
          "name": "stdout",
          "text": [
            "온도를 입력하세요: 10\n",
            "난방기를 켜시오.\n"
          ]
        }
      ]
    },
    {
      "cell_type": "code",
      "source": [
        "pip install gTTS"
      ],
      "metadata": {
        "id": "JAn8-kd04SLf"
      },
      "id": "JAn8-kd04SLf",
      "execution_count": null,
      "outputs": []
    },
    {
      "cell_type": "code",
      "source": [
        "from gtts import gTTS\n",
        "from IPython.display import Audio\n",
        "\n",
        "kor_wav = gTTS('안녕 여러분!', lang = 'ko')\n",
        "kor_wav.save('kor.wav')\n",
        "\n",
        "display(Audio('kor.wav', autoplay=True))"
      ],
      "metadata": {
        "colab": {
          "base_uri": "https://localhost:8080/",
          "height": 76
        },
        "id": "j3CqEKCW4P-4",
        "outputId": "661bc249-34d3-4163-ba38-eebc47967120"
      },
      "id": "j3CqEKCW4P-4",
      "execution_count": 53,
      "outputs": [
        {
          "output_type": "display_data",
          "data": {
            "text/plain": [
              "<IPython.lib.display.Audio object>"
            ],
            "text/html": [
              "\n",
              "                <audio  controls=\"controls\" autoplay=\"autoplay\">\n",
              "                    <source src=\"data:audio/x-wav;base64,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\" type=\"audio/x-wav\" />\n",
              "                    Your browser does not support the audio element.\n",
              "                </audio>\n",
              "              "
            ]
          },
          "metadata": {}
        }
      ]
    },
    {
      "cell_type": "markdown",
      "id": "862598a5",
      "metadata": {
        "id": "862598a5"
      },
      "source": [
        "### [실습문제]\n",
        "아래 조건을 만족하는 커피 자동주문 머신을 만들어보세요.<br><br>\n",
        "[커피 자동주문 머신]<br>\n",
        "친구들과 현금 커피 자동주문 머신 앞에서\n",
        " - 아메리카노 2잔과 카페라테 2잔 카푸치노 1잔을 주문하였다.\n",
        " - 아메리카노 한잔에 2500원이고\n",
        " - 카페라테는 한잔에 3000원\n",
        " - 카푸치노는 한잔에 3000원이다.\n",
        "커피 종류와 잔 수를 결정한 후 현금 15000원을 투입하고 잔돈을 1000원 받았다."
      ]
    },
    {
      "cell_type": "code",
      "execution_count": 56,
      "id": "0d6035c2",
      "metadata": {
        "colab": {
          "base_uri": "https://localhost:8080/"
        },
        "id": "0d6035c2",
        "outputId": "def24689-f576-45c7-cf23-10a1a986cc1e"
      },
      "outputs": [
        {
          "output_type": "stream",
          "name": "stdout",
          "text": [
            "[커피 자동주문 머신 메뉴]\n",
            "------------------------------\n",
            "-아메리카노는 2500원\n",
            "-카레라떼는 3000원\n",
            "-카푸치노는 3000원\n",
            "입니다. 원하시는 커피종류와 잔수를 입력하세요.\n",
            "------------------------------\n",
            "아메리카노 몇잔?4\n",
            "카페라떼 몇잔?2\n",
            "카푸치노 몇잔?1\n",
            "지불할 총 금액은 19000원 입니다.\n",
            "돈을 넣어주세요~ 20000\n",
            "거스름돈은 1000원 입니다.\n"
          ]
        }
      ],
      "source": [
        "menu = '''[커피 자동주문 머신 메뉴]\n",
        "------------------------------\n",
        "-아메리카노는 2500원\n",
        "-카레라떼는 3000원\n",
        "-카푸치노는 3000원\n",
        "입니다. 원하시는 커피종류와 잔수를 입력하세요.\n",
        "------------------------------'''\n",
        "print(menu)\n",
        "coffee1 = int(input(\"아메리카노 몇잔?\"))\n",
        "coffee2 = int(input(\"카페라떼 몇잔?\"))\n",
        "coffee3 = int(input(\"카푸치노 몇잔?\"))\n",
        "total = coffee1*2500 + coffee2*3000 + coffee3*3000\n",
        "print(f'지불할 총 금액은 {total}원 입니다.')\n",
        "\n",
        "money = int(input('돈을 넣어주세요~ '))\n",
        "if money > total:\n",
        "    print(f'거스름돈은 {money-total}원 입니다.')\n",
        "elif money < total:\n",
        "    print(f'입력한 금액이 부족합니다. {total-money}원을 넣어주세요.')"
      ]
    },
    {
      "cell_type": "markdown",
      "source": [
        "### 간소화된 조건문 표현식"
      ],
      "metadata": {
        "id": "mXhdsP27GZG1"
      },
      "id": "mXhdsP27GZG1"
    },
    {
      "cell_type": "code",
      "source": [
        "score = int(input('점수를 입력하세요: '))\n",
        "if score >= 80:\n",
        "    message = 'success'\n",
        "else:\n",
        "    message = 'fail'\n",
        "print(message)"
      ],
      "metadata": {
        "colab": {
          "base_uri": "https://localhost:8080/"
        },
        "id": "W7OVUylRGXtS",
        "outputId": "56f4c5c5-4dc0-4d86-d42b-87eeb8108350"
      },
      "id": "W7OVUylRGXtS",
      "execution_count": 57,
      "outputs": [
        {
          "output_type": "stream",
          "name": "stdout",
          "text": [
            "점수를 입력하세요: 50\n",
            "fail\n"
          ]
        }
      ]
    },
    {
      "cell_type": "code",
      "source": [
        "score = int(input('점수를 입력하세요: '))\n",
        "# message = 'success' if score >= 80 else 'fail'\n",
        "print('success' if score >= 80 else 'fail')"
      ],
      "metadata": {
        "colab": {
          "base_uri": "https://localhost:8080/"
        },
        "id": "gddbwrAbG3Y9",
        "outputId": "f9fd5453-58fa-4cd4-ba06-a611e724dc1c"
      },
      "id": "gddbwrAbG3Y9",
      "execution_count": 59,
      "outputs": [
        {
          "output_type": "stream",
          "name": "stdout",
          "text": [
            "점수를 입력하세요: 20\n",
            "fail\n"
          ]
        }
      ]
    },
    {
      "cell_type": "markdown",
      "id": "67412428",
      "metadata": {
        "id": "67412428"
      },
      "source": [
        "## 3-2.반복문"
      ]
    },
    {
      "cell_type": "markdown",
      "id": "44197774",
      "metadata": {
        "id": "44197774"
      },
      "source": [
        "### 반복문: for 반복문"
      ]
    },
    {
      "cell_type": "code",
      "execution_count": 65,
      "id": "9f69ecc4",
      "metadata": {
        "scrolled": true,
        "colab": {
          "base_uri": "https://localhost:8080/"
        },
        "id": "9f69ecc4",
        "outputId": "f471e563-3278-4ca0-ae07-10a3ecc0db35"
      },
      "outputs": [
        {
          "output_type": "stream",
          "name": "stdout",
          "text": [
            "0\n",
            "1\n",
            "2\n",
            "a p p l e "
          ]
        }
      ],
      "source": [
        "for i in range(0,3,1):\n",
        "    print(i)\n",
        "\n",
        "a = 'apple'\n",
        "for i in a:\n",
        "    print(i, end = ' ')"
      ]
    },
    {
      "cell_type": "markdown",
      "id": "8288e636",
      "metadata": {
        "id": "8288e636"
      },
      "source": [
        "### [실습문제]\n",
        "키보드로 양의 정수(n)을 입력 받아 1~n까지의 합을 구하는 프로그램을 만들어 보세요."
      ]
    },
    {
      "cell_type": "code",
      "execution_count": 71,
      "id": "d6774150",
      "metadata": {
        "colab": {
          "base_uri": "https://localhost:8080/"
        },
        "id": "d6774150",
        "outputId": "2ad6591d-4759-4494-86f8-dbe562749185"
      },
      "outputs": [
        {
          "output_type": "stream",
          "name": "stdout",
          "text": [
            "합계를 구할 숫자 입력: 5\n",
            "1 ~ 5까지 합계는: 15\n",
            "1 ~ 5까지 짝수를 제외한 합은: 9\n"
          ]
        }
      ],
      "source": [
        "# 1. 숫자 N을 입력하세요.\n",
        "n = int(input('합계를 구할 숫자 입력: '))\n",
        "\n",
        "# 2. 1~N까지 합계를 구하세요.\n",
        "total = 0\n",
        "for i in range(1,n+1,1):\n",
        "    total += i\n",
        "\n",
        "print(f'1 ~ {n}까지 합계는: {total}')"
      ]
    },
    {
      "cell_type": "markdown",
      "id": "aae06acb",
      "metadata": {
        "id": "aae06acb"
      },
      "source": [
        "### [실습문제]\n",
        "키보드로 양의 정수(n)을 입력 받아 1~n까지의 합을 구할 때 짝수를 제외하고 합을 구하는 프로그램을 만들어 보세요."
      ]
    },
    {
      "cell_type": "code",
      "execution_count": 2,
      "id": "c87285cf",
      "metadata": {
        "colab": {
          "base_uri": "https://localhost:8080/"
        },
        "id": "c87285cf",
        "outputId": "64f5c9c4-eedb-4986-b756-15896b16192d"
      },
      "outputs": [
        {
          "output_type": "stream",
          "name": "stdout",
          "text": [
            "합계를 구할 숫자 입력: 10\n",
            "1 ~ 10까지 짝수를 제외한 합은: 25\n",
            "1 ~ 10까지 짝수를 제외한 합은: 25\n",
            "1 ~ 10까지 짝수를 제외한 합은: 25\n"
          ]
        }
      ],
      "source": [
        "n = int(input('합계를 구할 숫자 입력: '))\n",
        "\n",
        "# 3. 1~N까지 짝수를 제외한 합계를 구하세요. (방법1)\n",
        "hap= 0\n",
        "for i in range(1,n+1,1):\n",
        "    if i % 2 != 0:\n",
        "        hap += i\n",
        "\n",
        "print(f'1 ~ {n}까지 짝수를 제외한 합은: {hap}')\n",
        "\n",
        "## 3-2. 방법2\n",
        "hap_2 = 0\n",
        "for i in range(1,n+1,2):\n",
        "    hap_2 += i\n",
        "\n",
        "print(f'1 ~ {n}까지 짝수를 제외한 합은: {hap}')\n",
        "\n",
        "## 3-3. 방법3\n",
        "hap_3 = 0\n",
        "for i in range(1,n+1,1):\n",
        "    if i%2 == 0 :  # 짝수\n",
        "        continue   # skip=pass 의미\n",
        "    else:\n",
        "        hap_3 = hap_3 + i\n",
        "\n",
        "print(f'1 ~ {n}까지 짝수를 제외한 합은: {hap}')\n"
      ]
    },
    {
      "cell_type": "markdown",
      "id": "ac62e6f7",
      "metadata": {
        "id": "ac62e6f7"
      },
      "source": [
        "### 반복문: while 반복문"
      ]
    },
    {
      "cell_type": "code",
      "execution_count": 3,
      "id": "f2fb3ce9",
      "metadata": {
        "colab": {
          "base_uri": "https://localhost:8080/"
        },
        "id": "f2fb3ce9",
        "outputId": "c9412776-fba6-4be0-f170-4057ee01ccf8"
      },
      "outputs": [
        {
          "output_type": "stream",
          "name": "stdout",
          "text": [
            "더할 첫 번째 숫자: 1\n",
            "더할 두 번째 숫자: 2\n",
            "1 + 2 = 3\n",
            "더할 첫 번째 숫자: 0\n",
            "0을 입력해서 반복문을 탈출했습니다.\n"
          ]
        }
      ],
      "source": [
        "num1, num2 = 0, 0\n",
        "\n",
        "while True:\n",
        "    num1 = int(input(\"더할 첫 번째 숫자: \"))\n",
        "    if num1 == 0:\n",
        "        break\n",
        "\n",
        "    num2 = int(input(\"더할 두 번째 숫자: \"))\n",
        "\n",
        "    print(f'{num1} + {num2} = {num1 + num2}')\n",
        "\n",
        "print(\"0을 입력해서 반복문을 탈출했습니다.\")"
      ]
    },
    {
      "cell_type": "markdown",
      "id": "02a797a4",
      "metadata": {
        "id": "02a797a4"
      },
      "source": [
        "### [실습문제] 도둑잡기 게임 만들기\n",
        "경찰에 쫓기던 범인이 3개의 방 중에 한 곳에 숨어버렸습니다. 범인은 방문을 열 때마다 무작위로 3개의 방 중 하나의 방으로 이동합니다. 3개의 방 중 하나의 방을 선택했을 때 범인이 있다면 100점, 없을 때 -10점을 부여하고 범인을 잡으면 게임을 종료하는 프로그램을 만들어 보세요."
      ]
    },
    {
      "cell_type": "code",
      "execution_count": 8,
      "id": "e08b9dc4",
      "metadata": {
        "colab": {
          "base_uri": "https://localhost:8080/"
        },
        "id": "e08b9dc4",
        "outputId": "78543f66-c0c0-41f7-ee11-0ef7e923e8bd"
      },
      "outputs": [
        {
          "output_type": "stream",
          "name": "stdout",
          "text": [
            "도둑이 숨은 방 번호는?(1,2,3): 2\n",
            "이 방에는 도둑이 없습니다.\n",
            "도둑이 숨은 방 번호는?(1,2,3): 1\n",
            "찾았다! 도둑이 있는 방입니다.\n",
            "게임이 종료됩니다.\n",
            "도둑이 있는 방은 1번 방입니다. 점수는 90점!\n"
          ]
        }
      ],
      "source": [
        "import random\n",
        "score = 0\n",
        "\n",
        "while True:\n",
        "    room = random.randint(1, 3) # 1~3정수 중 임의의 수 선택\n",
        "    n = int(input('도둑이 숨은 방 번호는?(1,2,3): '))\n",
        "    # 비교\n",
        "    if n == room :\n",
        "        print('찾았다! 도둑이 있는 방입니다.')\n",
        "        score += 100\n",
        "        break\n",
        "    else:\n",
        "        print('이 방에는 도둑이 없습니다.')\n",
        "        score -= 10\n",
        "\n",
        "print('게임이 종료됩니다.')\n",
        "print(f'도둑이 있는 방은 {room}번 방입니다. 점수는 {score}점!')"
      ]
    },
    {
      "cell_type": "markdown",
      "id": "0d03701c",
      "metadata": {
        "id": "0d03701c"
      },
      "source": [
        "### [실습문제] 공이 튕긴 횟수 구하기\n",
        "공을 일정 높이에서 떨어뜨리면, 원래 높이의 1/2만큼 튀어 오릅니다. 이를 반복하다가 높이가 0.00001m보다 낮으면 튀어 오르지 않습니다. while문을 이용하여 공이 튀어 오르는 총 횟수를 구하는 프로그램을 만들어 보세요."
      ]
    },
    {
      "cell_type": "code",
      "execution_count": 28,
      "id": "1ac5675e",
      "metadata": {
        "scrolled": true,
        "colab": {
          "base_uri": "https://localhost:8080/"
        },
        "id": "1ac5675e",
        "outputId": "4968a493-136d-4e4c-ad40-11082241fca6"
      },
      "outputs": [
        {
          "output_type": "stream",
          "name": "stdout",
          "text": [
            "공의 높이를 입력하세요(meter): 30\n",
            "--------------------------------------------------\n",
            "30m 위치에서 공의 튀긴 횟수는 총 22번 입니다.\n"
          ]
        }
      ],
      "source": [
        "length = int(input('공의 높이를 입력하세요(meter): '))\n",
        "meter, cnt = length, 0\n",
        "\n",
        "while meter >= 0.00001:\n",
        "    meter = meter * 0.5\n",
        "    cnt += 1\n",
        "\n",
        "print('-' * 50)\n",
        "print(f'{length}m 위치에서 공의 튀긴 횟수는 총 {cnt}번 입니다.')"
      ]
    },
    {
      "cell_type": "code",
      "source": [
        "length = int(input('공의 높이를 입력하세요(meter): '))\n",
        "meter, cnt = length, 0\n",
        "\n",
        "while True:\n",
        "    meter = meter * 0.5\n",
        "    cnt += 1\n",
        "    if meter < 0.00001:\n",
        "        break\n",
        "\n",
        "print('-' * 50)\n",
        "print(f'{length}m 위치에서 공의 튀긴 횟수는 총 {cnt}번 입니다.')"
      ],
      "metadata": {
        "colab": {
          "base_uri": "https://localhost:8080/"
        },
        "id": "yMnbhOy-zprY",
        "outputId": "021f9e23-f74e-42fe-fddd-7160ed389752"
      },
      "id": "yMnbhOy-zprY",
      "execution_count": 32,
      "outputs": [
        {
          "output_type": "stream",
          "name": "stdout",
          "text": [
            "공의 높이를 입력하세요(meter): 30\n",
            "--------------------------------------------------\n",
            "30m 위치에서 공의 튀긴 횟수는 총 22번 입니다.\n"
          ]
        }
      ]
    },
    {
      "cell_type": "markdown",
      "id": "ecdb476f",
      "metadata": {
        "id": "ecdb476f"
      },
      "source": [
        "### [실습문제] 커피 자동주문 프로그램 업그레이드\n",
        "앞에서 만들어 본 커피 자동주문 머신 프로그램을 while문을 이용하여 돈을 모두 지불할 때까지 돈을 입력 받도록 프로그램 기능 수정하기"
      ]
    },
    {
      "cell_type": "code",
      "execution_count": 9,
      "id": "2ce8fbfc",
      "metadata": {
        "scrolled": true,
        "colab": {
          "base_uri": "https://localhost:8080/"
        },
        "id": "2ce8fbfc",
        "outputId": "bf062b76-fd34-4404-c787-918f092b80b0"
      },
      "outputs": [
        {
          "output_type": "stream",
          "name": "stdout",
          "text": [
            "[커피 자동주문 머신 메뉴]\n",
            "------------------------------\n",
            "-아메리카노는 2500원\n",
            "-카레라떼는 3000원\n",
            "-카푸치노는 3000원\n",
            "입니다. 원하시는 커피종류와 잔수를 입력하세요.\n",
            "------------------------------\n",
            "아메리카노 몇잔?3\n",
            "카페라떼 몇잔?4\n",
            "카푸치노 몇잔?2\n",
            "지불할 총 금액은  25500 원 입니다\n",
            "--------------------------------------------------\n",
            "[지불할 금액:25500] : 돈을 넣어주세요: 20000\n",
            "입력한 금액이 부족합니다. 5500 원을 더 넣어주세요.\n",
            "--------------------------------------------------\n",
            "[지불할 금액:5500] : 돈을 넣어주세요: 4000\n",
            "입력한 금액이 부족합니다. 1500 원을 더 넣어주세요.\n",
            "--------------------------------------------------\n",
            "[지불할 금액:1500] : 돈을 넣어주세요: 3000\n",
            "거스름돈은 1500원 입니다.\n",
            "--------------------------------------------------\n",
            " 커피 맛있게 드세요.\n"
          ]
        }
      ],
      "source": [
        "menu = '''[커피 자동주문 머신 메뉴]\n",
        "------------------------------\n",
        "-아메리카노는 2500원\n",
        "-카레라떼는 3000원\n",
        "-카푸치노는 3000원\n",
        "입니다. 원하시는 커피종류와 잔수를 입력하세요.\n",
        "------------------------------'''\n",
        "print(menu)\n",
        "coffee1 = int(input(\"아메리카노 몇잔?\"))\n",
        "coffee2 = int(input(\"카페라떼 몇잔?\"))\n",
        "coffee3 = int(input(\"카푸치노 몇잔?\"))\n",
        "\n",
        "total = coffee1*2500 + coffee2*3000 + coffee3*3000\n",
        "print(\"지불할 총 금액은 \", total, \"원 입니다\")\n",
        "\n",
        "while True:\n",
        "    print('-'*50)\n",
        "    money = int(input(f'[지불할 금액:{total}] : 돈을 넣어주세요: '))\n",
        "    if total > money  :\n",
        "        print(f'입력한 금액이 부족합니다. {total - money} 원을 더 넣어주세요.')\n",
        "        total = total - money\n",
        "    else:\n",
        "        print(f'거스름돈은 {money - total}원 입니다.')\n",
        "        break\n",
        "\n",
        "print('-'*50)\n",
        "print(' 커피 맛있게 드세요.')"
      ]
    },
    {
      "cell_type": "markdown",
      "id": "af0e48ab",
      "metadata": {
        "id": "af0e48ab"
      },
      "source": [
        "## 3-3.난수(Random Variable)"
      ]
    },
    {
      "cell_type": "code",
      "source": [
        "import numpy as np\n",
        "np.random.randint(1,10, size = 10)  # 1 이상 20 미만 임의의 정수 10개"
      ],
      "metadata": {
        "colab": {
          "base_uri": "https://localhost:8080/"
        },
        "id": "8X6Umcjk1tyI",
        "outputId": "923b3d59-cde1-410d-fb00-62dfe60dcb04"
      },
      "id": "8X6Umcjk1tyI",
      "execution_count": 43,
      "outputs": [
        {
          "output_type": "execute_result",
          "data": {
            "text/plain": [
              "array([9, 6, 5, 5, 1, 2, 3, 5, 2, 2])"
            ]
          },
          "metadata": {},
          "execution_count": 43
        }
      ]
    },
    {
      "cell_type": "code",
      "source": [
        "import random\n",
        "random.randint(1,20)  # 1 이상 20 이하 임의의 정수 1개"
      ],
      "metadata": {
        "colab": {
          "base_uri": "https://localhost:8080/"
        },
        "id": "rYdci6Pz1rDn",
        "outputId": "28c5cba8-91d0-4b76-e16d-446cc6c018cc"
      },
      "id": "rYdci6Pz1rDn",
      "execution_count": 70,
      "outputs": [
        {
          "output_type": "execute_result",
          "data": {
            "text/plain": [
              "8"
            ]
          },
          "metadata": {},
          "execution_count": 70
        }
      ]
    },
    {
      "cell_type": "code",
      "source": [
        "random.randrange(1,20) # 1 이상 20 미만 임의의 정수 1개\n",
        "random.randrange(10,20,2) # 10 이상 20 미만 2간격의 임의의 정수"
      ],
      "metadata": {
        "colab": {
          "base_uri": "https://localhost:8080/"
        },
        "id": "jpfEDpRj3pQ_",
        "outputId": "de3b0fe6-39b9-448f-9c4e-619a3cf0658e"
      },
      "id": "jpfEDpRj3pQ_",
      "execution_count": 73,
      "outputs": [
        {
          "output_type": "execute_result",
          "data": {
            "text/plain": [
              "14"
            ]
          },
          "metadata": {},
          "execution_count": 73
        }
      ]
    },
    {
      "cell_type": "code",
      "source": [
        "random.uniform(1,3)    # 1 이상 3 이하 임의의 실수 1개"
      ],
      "metadata": {
        "colab": {
          "base_uri": "https://localhost:8080/"
        },
        "id": "FY6WQ8xX29QG",
        "outputId": "820f845a-ff02-472b-8304-9fc5c51f5ed3"
      },
      "id": "FY6WQ8xX29QG",
      "execution_count": 57,
      "outputs": [
        {
          "output_type": "execute_result",
          "data": {
            "text/plain": [
              "2.9934073588672323"
            ]
          },
          "metadata": {},
          "execution_count": 57
        }
      ]
    },
    {
      "cell_type": "code",
      "source": [
        "random.random()   # 0~1 사이 균일분포 임의의 실수 1개"
      ],
      "metadata": {
        "colab": {
          "base_uri": "https://localhost:8080/"
        },
        "id": "p4rmhaM34DEQ",
        "outputId": "cfed140e-0096-46f9-d099-8fb715bc59bf"
      },
      "id": "p4rmhaM34DEQ",
      "execution_count": 72,
      "outputs": [
        {
          "output_type": "execute_result",
          "data": {
            "text/plain": [
              "0.07177760067953154"
            ]
          },
          "metadata": {},
          "execution_count": 72
        }
      ]
    },
    {
      "cell_type": "code",
      "source": [
        "x = [1,2,3,4,5]\n",
        "random.shuffle(x)    # 무작위로 섞기\n",
        "print(x)"
      ],
      "metadata": {
        "colab": {
          "base_uri": "https://localhost:8080/"
        },
        "id": "H3u0dpGv2NgP",
        "outputId": "ad3d9152-a7d8-4089-b506-190f263f89e1"
      },
      "id": "H3u0dpGv2NgP",
      "execution_count": 48,
      "outputs": [
        {
          "output_type": "stream",
          "name": "stdout",
          "text": [
            "[2, 3, 1, 4, 5]\n"
          ]
        }
      ]
    },
    {
      "cell_type": "code",
      "source": [
        "random.choice(x)  # 임의의 값 선택"
      ],
      "metadata": {
        "colab": {
          "base_uri": "https://localhost:8080/"
        },
        "id": "gWNQIbtu2Zdf",
        "outputId": "4b93d5c1-fa61-454c-b123-52423be14584"
      },
      "id": "gWNQIbtu2Zdf",
      "execution_count": 52,
      "outputs": [
        {
          "output_type": "execute_result",
          "data": {
            "text/plain": [
              "2"
            ]
          },
          "metadata": {},
          "execution_count": 52
        }
      ]
    },
    {
      "cell_type": "code",
      "source": [
        "random.sample(range(1,46),6)   # 1 이상 46 미만 무작위로 6개 추출"
      ],
      "metadata": {
        "colab": {
          "base_uri": "https://localhost:8080/"
        },
        "id": "xnoWJD8E2orE",
        "outputId": "302121c2-6ae7-48a7-83e9-afbb909d9810"
      },
      "id": "xnoWJD8E2orE",
      "execution_count": 56,
      "outputs": [
        {
          "output_type": "execute_result",
          "data": {
            "text/plain": [
              "[28, 19, 7, 27, 44, 12]"
            ]
          },
          "metadata": {},
          "execution_count": 56
        }
      ]
    },
    {
      "cell_type": "markdown",
      "id": "e34c55ca",
      "metadata": {
        "id": "e34c55ca"
      },
      "source": [
        "### [실습문제] 임의의 두 수 합 구하기\n",
        "1부터 10까지의 범위를 갖는 임의의 두 정수 a, b를 더하여 결과 출력하기"
      ]
    },
    {
      "cell_type": "code",
      "execution_count": 66,
      "id": "3c007936",
      "metadata": {
        "colab": {
          "base_uri": "https://localhost:8080/"
        },
        "id": "3c007936",
        "outputId": "bfc1dbce-e56a-4150-fda3-5efecbb20859"
      },
      "outputs": [
        {
          "output_type": "stream",
          "name": "stdout",
          "text": [
            "3 + 10 = 13\n"
          ]
        }
      ],
      "source": [
        "a, b = random.randint(1,10), random.randint(1,10)\n",
        "print(f'{a} + {b} = {a + b}')"
      ]
    },
    {
      "cell_type": "markdown",
      "id": "357e1bdd",
      "metadata": {
        "id": "357e1bdd"
      },
      "source": [
        "### [실습문제]\n",
        "주사위를 100번 던져서 나오는 숫자를 각 숫자별로 카운트하고 가장 많이 나온 숫자와 그 숫자의 횟수를 출력하시오."
      ]
    },
    {
      "cell_type": "code",
      "source": [
        "import random\n",
        "\n",
        "dice = [1, 2, 3, 4, 5, 6]\n",
        "cnt = 1\n",
        "\n",
        "num = list()\n",
        "while cnt <= 100:\n",
        "    n = random.randint(1,6)\n",
        "    num.append(n)\n",
        "    cnt += 1\n",
        "\n",
        "숫자별_개수 = [0,0,0,0,0,0]\n",
        "\n",
        "for i in dice:\n",
        "    숫자별_개수[i-1] = num.count(i)\n",
        "\n",
        "print(숫자별_개수)\n",
        "print(f'가장 많이 나온 숫자: {숫자별_개수.index(max(숫자별_개수)) + 1}, 그 숫자의 횟수:{max(숫자별_개수)}')\n",
        ""
      ],
      "metadata": {
        "colab": {
          "base_uri": "https://localhost:8080/"
        },
        "id": "GSgNf8nT-bNx",
        "outputId": "8b0db3bd-d024-4166-ec06-5ba69d1ab5f7"
      },
      "id": "GSgNf8nT-bNx",
      "execution_count": 109,
      "outputs": [
        {
          "output_type": "stream",
          "name": "stdout",
          "text": [
            "[18, 16, 19, 10, 19, 18]\n",
            "가장 많이 나온 숫자: 3, 그 숫자의 횟수:19\n"
          ]
        }
      ]
    },
    {
      "cell_type": "code",
      "source": [
        "import random\n",
        "\n",
        "dice = [0,0,0,0,0,0]\n",
        "for i in range(100) :\n",
        "    x = random.randint(1,6)\n",
        "    dice[x-1] =  dice[x-1] + 1\n",
        "\n",
        "print(dice)\n",
        "print(f'가장 많이 나온 숫자:{dice.index(max(dice))+1}  그 숫자의 횟수: {max(dice)}')"
      ],
      "metadata": {
        "colab": {
          "base_uri": "https://localhost:8080/"
        },
        "id": "AVsGDQf599mj",
        "outputId": "f93f099f-5f12-4c7a-e9e3-fecf03a27fc3"
      },
      "id": "AVsGDQf599mj",
      "execution_count": 107,
      "outputs": [
        {
          "output_type": "stream",
          "name": "stdout",
          "text": [
            "[16, 21, 12, 18, 19, 14]\n",
            "가장 많이 나온 숫자:2  그 숫자의 횟수: 21\n"
          ]
        }
      ]
    },
    {
      "cell_type": "markdown",
      "source": [
        "### List comprehension"
      ],
      "metadata": {
        "id": "di0z7CgtCx7o"
      },
      "id": "di0z7CgtCx7o"
    },
    {
      "cell_type": "markdown",
      "id": "45e329e4",
      "metadata": {
        "id": "45e329e4"
      },
      "source": [
        "------------------------"
      ]
    },
    {
      "cell_type": "code",
      "source": [
        "# 리스트에 데이터 넣어 출력하기\n",
        "a = []\n",
        "for i in range(1,6):\n",
        "    a.append(i)\n",
        "print(a)"
      ],
      "metadata": {
        "colab": {
          "base_uri": "https://localhost:8080/"
        },
        "id": "dC9EX7MVC2r0",
        "outputId": "afcde983-e612-4375-8e47-cd82eff70cc5"
      },
      "id": "dC9EX7MVC2r0",
      "execution_count": 122,
      "outputs": [
        {
          "output_type": "stream",
          "name": "stdout",
          "text": [
            "[1, 2, 3, 4, 5]\n"
          ]
        }
      ]
    },
    {
      "cell_type": "code",
      "source": [
        "# 컴프리헨션\n",
        "a = [i for i in range(1,6)]\n",
        "print(a)"
      ],
      "metadata": {
        "colab": {
          "base_uri": "https://localhost:8080/"
        },
        "id": "bXLkVThsDVMV",
        "outputId": "06ec8a7e-8c16-446e-f421-8e3aba9ef9ce"
      },
      "id": "bXLkVThsDVMV",
      "execution_count": 113,
      "outputs": [
        {
          "output_type": "stream",
          "name": "stdout",
          "text": [
            "[1, 2, 3, 4, 5]\n"
          ]
        }
      ]
    },
    {
      "cell_type": "code",
      "source": [
        "a = [i for i in range(1,11) if i % 3 ==0]     # 1부터 10까지 3의 배수\n",
        "print(a)"
      ],
      "metadata": {
        "colab": {
          "base_uri": "https://localhost:8080/"
        },
        "id": "vyMDPiwvDt3D",
        "outputId": "376766fd-2c58-49cf-c2d9-2134531d74d9"
      },
      "id": "vyMDPiwvDt3D",
      "execution_count": 118,
      "outputs": [
        {
          "output_type": "stream",
          "name": "stdout",
          "text": [
            "[3, 6, 9]\n"
          ]
        }
      ]
    },
    {
      "cell_type": "code",
      "source": [
        "colors = ['r','g','b']\n",
        "a = [c*3 for c in colors]\n",
        "print(a)"
      ],
      "metadata": {
        "colab": {
          "base_uri": "https://localhost:8080/"
        },
        "id": "TBLNL4bBEQtF",
        "outputId": "1750fe46-6dcd-494c-ab8f-a45f385ee5bb"
      },
      "id": "TBLNL4bBEQtF",
      "execution_count": 120,
      "outputs": [
        {
          "output_type": "stream",
          "name": "stdout",
          "text": [
            "['rrr', 'ggg', 'bbb']\n"
          ]
        }
      ]
    },
    {
      "cell_type": "code",
      "source": [
        "a = [str(i) if i % 3 ==0 else i for i in range(1,11)]     # 3의 배수만 string\n",
        "print(a)"
      ],
      "metadata": {
        "colab": {
          "base_uri": "https://localhost:8080/"
        },
        "id": "SBozPmq4E369",
        "outputId": "61e11f62-2816-4f93-db94-9e671bea09c0"
      },
      "id": "SBozPmq4E369",
      "execution_count": 129,
      "outputs": [
        {
          "output_type": "stream",
          "name": "stdout",
          "text": [
            "[1, 2, '3', 4, 5, '6', 7, 8, '9', 10]\n"
          ]
        }
      ]
    },
    {
      "cell_type": "code",
      "source": [
        "rows = range(1,4)\n",
        "cols = range(1,3)\n",
        "cells = [(row, col) for row in rows for col in cols]\n",
        "print(cells)"
      ],
      "metadata": {
        "colab": {
          "base_uri": "https://localhost:8080/"
        },
        "id": "05YMsJJ8HKNX",
        "outputId": "29852f68-c1bd-463f-db97-c905195cdb0c"
      },
      "id": "05YMsJJ8HKNX",
      "execution_count": 132,
      "outputs": [
        {
          "output_type": "stream",
          "name": "stdout",
          "text": [
            "[(1, 1), (1, 2), (2, 1), (2, 2), (3, 1), (3, 2)]\n"
          ]
        }
      ]
    },
    {
      "cell_type": "markdown",
      "source": [
        "### zip 함수"
      ],
      "metadata": {
        "id": "xhSG2Y96HjJk"
      },
      "id": "xhSG2Y96HjJk"
    },
    {
      "cell_type": "code",
      "source": [
        "foods = ['떡볶이', '짜장면', '라면', '피자', '치킨']\n",
        "sides = ['오뎅', '단무지', '김치']\n",
        "\n",
        "for food, side in zip(foods, sides):\n",
        "    print(food, '-->', side)\n",
        "\n",
        "dict(zip(foods, sides))"
      ],
      "metadata": {
        "colab": {
          "base_uri": "https://localhost:8080/"
        },
        "id": "t8mCBlo9HiNv",
        "outputId": "35a6fc71-f426-4c1d-f408-1334344c287e"
      },
      "id": "t8mCBlo9HiNv",
      "execution_count": 143,
      "outputs": [
        {
          "output_type": "stream",
          "name": "stdout",
          "text": [
            "떡볶이 --> 오뎅\n",
            "짜장면 --> 단무지\n",
            "라면 --> 김치\n"
          ]
        },
        {
          "output_type": "execute_result",
          "data": {
            "text/plain": [
              "{'떡볶이': '오뎅', '짜장면': '단무지', '라면': '김치'}"
            ]
          },
          "metadata": {},
          "execution_count": 143
        }
      ]
    },
    {
      "cell_type": "code",
      "source": [
        "love = {'떡볶이': '오뎅', '짜장면': '단무지', '라면': '김치'}\n",
        "\n",
        "print(love.keys(), love.values(), love.items())"
      ],
      "metadata": {
        "colab": {
          "base_uri": "https://localhost:8080/"
        },
        "id": "KYDZwQRyIzR9",
        "outputId": "3cf3888a-ad03-4e6d-db83-736177e987b7"
      },
      "id": "KYDZwQRyIzR9",
      "execution_count": 146,
      "outputs": [
        {
          "output_type": "stream",
          "name": "stdout",
          "text": [
            "dict_keys(['떡볶이', '짜장면', '라면']) dict_values(['오뎅', '단무지', '김치']) dict_items([('떡볶이', '오뎅'), ('짜장면', '단무지'), ('라면', '김치')])\n"
          ]
        }
      ]
    },
    {
      "cell_type": "markdown",
      "id": "66025633",
      "metadata": {
        "id": "66025633"
      },
      "source": [
        "끝"
      ]
    }
  ],
  "metadata": {
    "kernelspec": {
      "display_name": "Python 3 (ipykernel)",
      "language": "python",
      "name": "python3"
    },
    "language_info": {
      "codemirror_mode": {
        "name": "ipython",
        "version": 3
      },
      "file_extension": ".py",
      "mimetype": "text/x-python",
      "name": "python",
      "nbconvert_exporter": "python",
      "pygments_lexer": "ipython3",
      "version": "3.10.9"
    },
    "vscode": {
      "interpreter": {
        "hash": "b41e41bff03a930185ac2cbea60ce521f7c8c2f5401ceb5c30214081f77ab4f5"
      }
    },
    "colab": {
      "provenance": [],
      "include_colab_link": true
    }
  },
  "nbformat": 4,
  "nbformat_minor": 5
}